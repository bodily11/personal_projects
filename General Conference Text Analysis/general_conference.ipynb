{
 "cells": [
  {
   "cell_type": "markdown",
   "metadata": {
    "comet_cell_id": "e57be1602555c"
   },
   "source": [
    "# Get All Article Links"
   ]
  },
  {
   "cell_type": "code",
   "execution_count": 16,
   "metadata": {
    "collapsed": true,
    "comet_cell_id": "346f8df5dd16d"
   },
   "outputs": [],
   "source": [
    "import requests as r\n",
    "from bs4 import BeautifulSoup\n",
    "import pandas as pd\n",
    "import re"
   ]
  },
  {
   "cell_type": "code",
   "execution_count": 17,
   "metadata": {
    "collapsed": true,
    "comet_cell_id": "99c65bbd17cdd"
   },
   "outputs": [],
   "source": [
    "article_results = []\n",
    "#for year in range(1971,2019):\n",
    "#    for month in ['04','10']:\n",
    "for year in [2018]:\n",
    "    for month in ['04']:\n",
    "        url = f'https://www.lds.org/general-conference/{year}/{month}?lang=eng'\n",
    "        response = r.get(url)\n",
    "        soup = BeautifulSoup(response.text,'lxml')\n",
    "        article_html = soup.find_all('a', {'class':'lumen-tile__link'})\n",
    "        for y in range(len(article_html)):\n",
    "            article_url = 'https://www.lds.org' + article_html[y]['href']\n",
    "            article_info = [x for x in re.split(r'[\\n\\t]',article_html[y].text) if x != '']\n",
    "            if len(article_info) == 1:\n",
    "                article_title = article_info[0]\n",
    "                article_author = None\n",
    "            elif len(article_info) > 2:\n",
    "                article_title = ' '.join([z for z in article_info[:-1]])\n",
    "                article_author = article_info[-1]\n",
    "            else:\n",
    "                article_title = article_info[0]\n",
    "                article_author = article_info[1]\n",
    "            article_results.append({\n",
    "                'url':article_url,\n",
    "                'title':article_title,\n",
    "                'author':article_author,\n",
    "                'year':year,\n",
    "                'month':month\n",
    "            })\n",
    "\n",
    "df = pd.DataFrame(article_results)\n",
    "df['text'] = None\n",
    "df_old = pd.read_csv('all_conference_articles.csv',encoding='utf=8')\n",
    "df_old.to_csv('all_conference_articles_backup.csv',encoding='utf=8')\n",
    "df = df_old.append(df)\n",
    "df.to_csv('all_conference_articles.csv',index=False,encoding='utf-8')"
   ]
  },
  {
   "cell_type": "markdown",
   "metadata": {
    "comet_cell_id": "b15ca774f4ff6"
   },
   "source": [
    "# Add All Article Text + Scripture References + Cross Ref"
   ]
  },
  {
   "cell_type": "code",
   "execution_count": 26,
   "metadata": {
    "collapsed": true,
    "comet_cell_id": "1760cb02165d7"
   },
   "outputs": [],
   "source": [
    "import requests as r\n",
    "from bs4 import BeautifulSoup\n",
    "import pandas as pd\n",
    "import re\n",
    "\n",
    "df = pd.read_csv('all_conference_articles.csv')\n",
    "\n",
    "indexes = df[df.text != df.text].index\n",
    "\n",
    "for index in indexes:\n",
    "    url = df.loc[index,'url']\n",
    "    response = r.get(url)\n",
    "    soup = BeautifulSoup(response.text,'lxml')\n",
    "    \n",
    "    article_text = soup.find('div',{'class':'body-block'})\n",
    "    if article_text is None:\n",
    "        df.loc[index,'text'] = 'no_article_text'\n",
    "        continue\n",
    "    else:\n",
    "        article_text = article_text.text\n",
    "    article_text = re.sub('[\\n\\t]', ' ', article_text)\n",
    "    \n",
    "    df.loc[index,'text'] = article_text\n",
    "    \n",
    "    #scripture references\n",
    "    scripture_refs = soup.find_all('a',{'class':'scripture-ref'})\n",
    "    scriptures = []\n",
    "    for x in range(len(scripture_refs)):\n",
    "        scripture_ref_text = scripture_refs[x].text\n",
    "        scripture_ref_link = scripture_refs[x]['href']\n",
    "        scriptures.append({\n",
    "            'ref':scripture_ref_text,\n",
    "            'link':scripture_ref_link\n",
    "        })\n",
    "    \n",
    "    df.loc[index,'scriptures'] = str(scriptures)\n",
    "    \n",
    "    #cross references\n",
    "    cross_refs = soup.find_all('a',{'class':'cross-ref'})\n",
    "    crosses = []\n",
    "    for x in range(len(cross_refs)):\n",
    "        cross_ref_text = cross_refs[x].text\n",
    "        cross_ref_link = cross_refs[x]['href']\n",
    "        crosses.append({\n",
    "            'ref':cross_ref_text,\n",
    "            'link':cross_ref_link\n",
    "        })\n",
    "    \n",
    "    df.loc[index,'cross_refs'] = str(crosses)"
   ]
  },
  {
   "cell_type": "code",
   "execution_count": 30,
   "metadata": {
    "collapsed": true,
    "comet_cell_id": "01a0237635484"
   },
   "outputs": [],
   "source": [
    "df.to_csv('all_conference_articles.csv',index=False,encoding='utf-8')"
   ]
  },
  {
   "cell_type": "markdown",
   "metadata": {
    "comet_cell_id": "8b89c9402913d"
   },
   "source": [
    "# Analysis"
   ]
  },
  {
   "cell_type": "code",
   "execution_count": 31,
   "metadata": {
    "collapsed": true,
    "comet_cell_id": "6fa62d8fdbb4"
   },
   "outputs": [],
   "source": [
    "import pandas as pd\n",
    "df = pd.read_csv('all_conference_articles.csv',encoding='utf-8')"
   ]
  },
  {
   "cell_type": "code",
   "execution_count": 2,
   "metadata": {
    "collapsed": true,
    "comet_cell_id": "a2241cde9944"
   },
   "outputs": [],
   "source": [
    "#to pull these, you will need to configure your download script to pull data differently. It is frequently in a table.\n",
    "#df_stats = df[df.title.str.contains('Statistical')].copy()"
   ]
  },
  {
   "cell_type": "code",
   "execution_count": 32,
   "metadata": {
    "collapsed": true,
    "comet_cell_id": "90c4c413353a3"
   },
   "outputs": [],
   "source": [
    "df = df[~df.title.str.contains('Sustaining of Church Officers')]\n",
    "df = df[~df.title.str.contains('Committee Report')]\n",
    "df = df[~df.title.str.contains('Auditing Department')]\n",
    "df = df[~df.title.str.contains('Statistical')]\n",
    "df = df[~df.title.str.contains('Solemn Assembly')]"
   ]
  },
  {
   "cell_type": "code",
   "execution_count": 33,
   "metadata": {
    "collapsed": true,
    "comet_cell_id": "1805d7e5f115e"
   },
   "outputs": [],
   "source": [
    "df.reset_index(drop=True,inplace=True)"
   ]
  },
  {
   "cell_type": "code",
   "execution_count": 6,
   "metadata": {
    "collapsed": true,
    "comet_cell_id": "090f83dd683e1"
   },
   "outputs": [],
   "source": [
    "import numpy as np\n",
    "scriptures = []\n",
    "count = 0\n",
    "for x in df.scriptures:\n",
    "    if x is None or x in [np.nan]:\n",
    "        count += 1\n",
    "        continue\n",
    "    else:\n",
    "        scripture_list_object = eval(str(x))\n",
    "        new_list = []\n",
    "        for script in scripture_list_object:\n",
    "            script['url'] = df.loc[count,'url']\n",
    "            new_list.append(script)\n",
    "        scriptures = scriptures + new_list\n",
    "        count += 1"
   ]
  },
  {
   "cell_type": "code",
   "execution_count": 7,
   "metadata": {
    "collapsed": true,
    "comet_cell_id": "75887f0667476"
   },
   "outputs": [],
   "source": [
    "scripturedf = pd.DataFrame(scriptures)"
   ]
  },
  {
   "cell_type": "code",
   "execution_count": 8,
   "metadata": {
    "collapsed": true,
    "comet_cell_id": "a4774c406cb2f"
   },
   "outputs": [],
   "source": [
    "import numpy as np\n",
    "scripturedf['standard_work'] = scripturedf.link.map(lambda x: x.split('/')[2])\n",
    "scripturedf['book'] = scripturedf.link.map(lambda x: x.split('/')[3])\n",
    "scripturedf['ref_link'] = scripturedf.link.map(lambda x: x.split('/')[4] if len(x.split('/')) > 4 else np.nan)"
   ]
  },
  {
   "cell_type": "code",
   "execution_count": 9,
   "metadata": {
    "collapsed": true,
    "comet_cell_id": "474832af9e3a8"
   },
   "outputs": [],
   "source": [
    "import re\n",
    "scripturedf['chapter'] = scripturedf.ref_link.map(lambda x: re.split('[.?]',str(x))[0])"
   ]
  },
  {
   "cell_type": "code",
   "execution_count": 10,
   "metadata": {
    "collapsed": true,
    "comet_cell_id": "d5c6b53f91217"
   },
   "outputs": [],
   "source": [
    "scripturedf = scripturedf[~scripturedf.chapter.str.contains('-')]\n",
    "scripturedf = scripturedf[~scripturedf.chapter.str.contains('bofm')]\n",
    "scripturedf = scripturedf[~scripturedf.chapter.str.contains('nan')]"
   ]
  },
  {
   "cell_type": "code",
   "execution_count": 11,
   "metadata": {
    "collapsed": true,
    "comet_cell_id": "5fafd9f4b962b"
   },
   "outputs": [],
   "source": [
    "scripturedf['raw_verse'] = scripturedf.ref_link.map(lambda x: re.split('[.?]',str(x))[1] if len (re.split('[.?]',str(x))) > 1 else np.nan)"
   ]
  },
  {
   "cell_type": "code",
   "execution_count": 12,
   "metadata": {
    "collapsed": true,
    "comet_cell_id": "cb1c84503e94b"
   },
   "outputs": [],
   "source": [
    "def verse_parser(cell):\n",
    "    final_list = []\n",
    "    if cell != cell:\n",
    "        return np.nan\n",
    "    if 'span' in cell:\n",
    "        cell = cell.split('=')[1]\n",
    "    if ',' in cell:\n",
    "        cell_list = cell.split(',')\n",
    "        for x in cell_list:\n",
    "            if '-' in x:\n",
    "                start = x.split('-')[0]\n",
    "                end = x.split('-')[1]\n",
    "                for y in range(int(start),int(end) + 1):\n",
    "                    final_list.append(y)\n",
    "            else:\n",
    "                final_list.append(x)\n",
    "    else:\n",
    "        if '-' in cell:\n",
    "            start = cell.split('-')[0]\n",
    "            end = cell.split('-')[1]\n",
    "            for y in range(int(start),int(end) + 1):\n",
    "                final_list.append(y)\n",
    "        else:\n",
    "            final_list.append(cell)\n",
    "    return final_list\n",
    "            \n",
    "scripturedf['ref_list'] = scripturedf.raw_verse.map(verse_parser)"
   ]
  },
  {
   "cell_type": "code",
   "execution_count": 13,
   "metadata": {
    "collapsed": true,
    "comet_cell_id": "fc6245f67c15"
   },
   "outputs": [],
   "source": [
    "import numpy as np\n",
    "all_scriptures = []\n",
    "for x in scripturedf.index:\n",
    "    if scripturedf.loc[x,'ref_list'] != None and scripturedf.loc[x,'ref_list'] not in [np.nan]:\n",
    "        for verse in scripturedf.loc[x,'ref_list']:\n",
    "            book = scripturedf.loc[x,'book']\n",
    "            chapter = scripturedf.loc[x,'chapter']\n",
    "            reference = str(book) + ' ' + str(chapter) + ':' + str(verse)\n",
    "            all_scriptures.append({\n",
    "                'reference':reference,\n",
    "                'link':scripturedf.loc[x,'link'],\n",
    "                'url':scripturedf.loc[x,'url']\n",
    "            })"
   ]
  },
  {
   "cell_type": "code",
   "execution_count": 14,
   "metadata": {
    "collapsed": true,
    "comet_cell_id": "5c12b86e1c448"
   },
   "outputs": [],
   "source": [
    "#most cited scripture references\n",
    "#31,102 verses in bible\n",
    "#6604 verses in book of mormon\n",
    "#3654 verses in d and c\n",
    "#635 verses in p of g p\n",
    "\n",
    "#41995 verses in total\n",
    "\n",
    "#13606 verses have been cited in general conference\n",
    "#about 1/3 of scriptures have been cited in general conference\n",
    "\n",
    "#10108 scriptures have been cited less than 5 times\n",
    "#only 3498 scriptures have been cited more than 5 times\n",
    "\n",
    "#only 399 scriptures have been cited more than 25 times\n",
    "\n",
    "#only 89 scriptures have been cited more than 50 times\n",
    "\n",
    "#only 9 scriptures have been cited more than 100 times"
   ]
  },
  {
   "cell_type": "code",
   "execution_count": 15,
   "metadata": {
    "collapsed": true,
    "comet_cell_id": "271bf631d7b6"
   },
   "outputs": [],
   "source": [
    "%matplotlib inline\n",
    "scripture_count_df = pd.DataFrame(all_scriptures)\n",
    "# scripture_count_df.reference.value_counts().hist(bins=100)\n",
    "# scripture_count_df.reference.value_counts()"
   ]
  },
  {
   "cell_type": "code",
   "execution_count": 16,
   "metadata": {
    "collapsed": true,
    "comet_cell_id": "467304512f20f"
   },
   "outputs": [],
   "source": [
    "#merging scriptures back into the main dataframe\n",
    "#this allows me to filter based on speaker, talk, year, look at yearly trends, etc.\n",
    "final_scripture_df = df.merge(scripture_count_df,on=['url'],how='left')"
   ]
  },
  {
   "cell_type": "code",
   "execution_count": 24,
   "metadata": {
    "comet_cell_id": "7c8b04e50852e"
   },
   "outputs": [
    {
     "data": {
      "text/html": [
       "<div>\n",
       "<style>\n",
       "    .dataframe thead tr:only-child th {\n",
       "        text-align: right;\n",
       "    }\n",
       "\n",
       "    .dataframe thead th {\n",
       "        text-align: left;\n",
       "    }\n",
       "\n",
       "    .dataframe tbody tr th {\n",
       "        vertical-align: top;\n",
       "    }\n",
       "</style>\n",
       "<table border=\"1\" class=\"dataframe\">\n",
       "  <thead>\n",
       "    <tr style=\"text-align: right;\">\n",
       "      <th></th>\n",
       "      <th>author</th>\n",
       "      <th>month</th>\n",
       "      <th>title</th>\n",
       "      <th>url</th>\n",
       "      <th>year</th>\n",
       "      <th>text</th>\n",
       "      <th>scriptures</th>\n",
       "      <th>link</th>\n",
       "      <th>reference</th>\n",
       "    </tr>\n",
       "  </thead>\n",
       "  <tbody>\n",
       "    <tr>\n",
       "      <th>0</th>\n",
       "      <td>Joseph Fielding Smith</td>\n",
       "      <td>4</td>\n",
       "      <td>Out of the Darkness</td>\n",
       "      <td>https://www.lds.org/general-conference/1971/04...</td>\n",
       "      <td>1971</td>\n",
       "      <td>My dear brothers and sisters: We welcome you,...</td>\n",
       "      <td>[{'ref': 'D&amp;C 1:30', 'link': '/scriptures/dc-t...</td>\n",
       "      <td>/scriptures/dc-testament/dc/1.30?#29</td>\n",
       "      <td>dc 1:30</td>\n",
       "    </tr>\n",
       "    <tr>\n",
       "      <th>1</th>\n",
       "      <td>Joseph Fielding Smith</td>\n",
       "      <td>4</td>\n",
       "      <td>Out of the Darkness</td>\n",
       "      <td>https://www.lds.org/general-conference/1971/04...</td>\n",
       "      <td>1971</td>\n",
       "      <td>My dear brothers and sisters: We welcome you,...</td>\n",
       "      <td>[{'ref': 'D&amp;C 1:30', 'link': '/scriptures/dc-t...</td>\n",
       "      <td>/scriptures/nt/acts/10.34-35?#33</td>\n",
       "      <td>acts 10:34</td>\n",
       "    </tr>\n",
       "    <tr>\n",
       "      <th>2</th>\n",
       "      <td>Joseph Fielding Smith</td>\n",
       "      <td>4</td>\n",
       "      <td>Out of the Darkness</td>\n",
       "      <td>https://www.lds.org/general-conference/1971/04...</td>\n",
       "      <td>1971</td>\n",
       "      <td>My dear brothers and sisters: We welcome you,...</td>\n",
       "      <td>[{'ref': 'D&amp;C 1:30', 'link': '/scriptures/dc-t...</td>\n",
       "      <td>/scriptures/nt/acts/10.34-35?#33</td>\n",
       "      <td>acts 10:35</td>\n",
       "    </tr>\n",
       "    <tr>\n",
       "      <th>3</th>\n",
       "      <td>Spencer W. Kimball</td>\n",
       "      <td>4</td>\n",
       "      <td>Voices of the Past, of the Present, of the Future</td>\n",
       "      <td>https://www.lds.org/general-conference/1971/04...</td>\n",
       "      <td>1971</td>\n",
       "      <td>Beloved brothers and sisters and friends, I f...</td>\n",
       "      <td>[{'ref': '1 Cor. 14:8–10', 'link': '/scripture...</td>\n",
       "      <td>/scriptures/nt/1-cor/14.8-10?#7</td>\n",
       "      <td>1-cor 14:8</td>\n",
       "    </tr>\n",
       "    <tr>\n",
       "      <th>4</th>\n",
       "      <td>Spencer W. Kimball</td>\n",
       "      <td>4</td>\n",
       "      <td>Voices of the Past, of the Present, of the Future</td>\n",
       "      <td>https://www.lds.org/general-conference/1971/04...</td>\n",
       "      <td>1971</td>\n",
       "      <td>Beloved brothers and sisters and friends, I f...</td>\n",
       "      <td>[{'ref': '1 Cor. 14:8–10', 'link': '/scripture...</td>\n",
       "      <td>/scriptures/nt/1-cor/14.8-10?#7</td>\n",
       "      <td>1-cor 14:9</td>\n",
       "    </tr>\n",
       "  </tbody>\n",
       "</table>\n",
       "</div>"
      ],
      "text/plain": [
       "                  author  month  \\\n",
       "0  Joseph Fielding Smith      4   \n",
       "1  Joseph Fielding Smith      4   \n",
       "2  Joseph Fielding Smith      4   \n",
       "3     Spencer W. Kimball      4   \n",
       "4     Spencer W. Kimball      4   \n",
       "\n",
       "                                               title  \\\n",
       "0                                Out of the Darkness   \n",
       "1                                Out of the Darkness   \n",
       "2                                Out of the Darkness   \n",
       "3  Voices of the Past, of the Present, of the Future   \n",
       "4  Voices of the Past, of the Present, of the Future   \n",
       "\n",
       "                                                 url  year  \\\n",
       "0  https://www.lds.org/general-conference/1971/04...  1971   \n",
       "1  https://www.lds.org/general-conference/1971/04...  1971   \n",
       "2  https://www.lds.org/general-conference/1971/04...  1971   \n",
       "3  https://www.lds.org/general-conference/1971/04...  1971   \n",
       "4  https://www.lds.org/general-conference/1971/04...  1971   \n",
       "\n",
       "                                                text  \\\n",
       "0   My dear brothers and sisters: We welcome you,...   \n",
       "1   My dear brothers and sisters: We welcome you,...   \n",
       "2   My dear brothers and sisters: We welcome you,...   \n",
       "3   Beloved brothers and sisters and friends, I f...   \n",
       "4   Beloved brothers and sisters and friends, I f...   \n",
       "\n",
       "                                          scriptures  \\\n",
       "0  [{'ref': 'D&C 1:30', 'link': '/scriptures/dc-t...   \n",
       "1  [{'ref': 'D&C 1:30', 'link': '/scriptures/dc-t...   \n",
       "2  [{'ref': 'D&C 1:30', 'link': '/scriptures/dc-t...   \n",
       "3  [{'ref': '1 Cor. 14:8–10', 'link': '/scripture...   \n",
       "4  [{'ref': '1 Cor. 14:8–10', 'link': '/scripture...   \n",
       "\n",
       "                                   link   reference  \n",
       "0  /scriptures/dc-testament/dc/1.30?#29     dc 1:30  \n",
       "1      /scriptures/nt/acts/10.34-35?#33  acts 10:34  \n",
       "2      /scriptures/nt/acts/10.34-35?#33  acts 10:35  \n",
       "3       /scriptures/nt/1-cor/14.8-10?#7  1-cor 14:8  \n",
       "4       /scriptures/nt/1-cor/14.8-10?#7  1-cor 14:9  "
      ]
     },
     "execution_count": 24,
     "metadata": {},
     "output_type": "execute_result"
    }
   ],
   "source": [
    "final_scripture_df.to_csv('')"
   ]
  },
  {
   "cell_type": "code",
   "execution_count": null,
   "metadata": {
    "collapsed": true,
    "comet_cell_id": "703818e795c68"
   },
   "outputs": [],
   "source": []
  },
  {
   "cell_type": "code",
   "execution_count": null,
   "metadata": {
    "collapsed": true,
    "comet_cell_id": "95ca92e900cbb"
   },
   "outputs": [],
   "source": []
  },
  {
   "cell_type": "code",
   "execution_count": null,
   "metadata": {
    "collapsed": true,
    "comet_cell_id": "09eb8bcc70424"
   },
   "outputs": [],
   "source": []
  },
  {
   "cell_type": "code",
   "execution_count": 213,
   "metadata": {
    "collapsed": true,
    "comet_cell_id": "90501a2a53f8"
   },
   "outputs": [],
   "source": [
    "import string\n",
    "remove = string.punctuation\n",
    "remove = remove + '“”—…’'\n",
    "df['title_no_punctuation'] = df['title'].map(lambda x: x.translate({ord(char): None for char in remove}))"
   ]
  },
  {
   "cell_type": "code",
   "execution_count": 214,
   "metadata": {
    "collapsed": true,
    "comet_cell_id": "03dbdc0778907"
   },
   "outputs": [],
   "source": [
    "titles = []\n",
    "for x in df.title_no_punctuation:\n",
    "    if x is None or x != x:\n",
    "        continue\n",
    "    else:\n",
    "        titles = titles + x.lower().split(' ')"
   ]
  },
  {
   "cell_type": "code",
   "execution_count": 215,
   "metadata": {
    "collapsed": true,
    "comet_cell_id": "cda15ca7e7327"
   },
   "outputs": [],
   "source": [
    "from nltk.corpus import stopwords\n",
    "english_stopwords = set(stopwords.words('english'))"
   ]
  },
  {
   "cell_type": "code",
   "execution_count": 216,
   "metadata": {
    "collapsed": true,
    "comet_cell_id": "46627143a207d"
   },
   "outputs": [],
   "source": [
    "titles = pd.Series(titles)\n",
    "titles = titles[~titles.isin(english_stopwords)]"
   ]
  },
  {
   "cell_type": "code",
   "execution_count": 217,
   "metadata": {
    "comet_cell_id": "0b6b8f8a51008"
   },
   "outputs": [
    {
     "data": {
      "text/plain": [
       "god               149\n",
       "lord              117\n",
       "priesthood        109\n",
       "christ             99\n",
       "faith              97\n",
       "church             80\n",
       "love               80\n",
       "power              71\n",
       "ye                 71\n",
       "jesus              65\n",
       "gospel             62\n",
       "family             56\n",
       "life               55\n",
       "us                 54\n",
       "testimony          53\n",
       "things             52\n",
       "light              49\n",
       "work               48\n",
       "blessings          48\n",
       "come               48\n",
       "eternal            46\n",
       "good               46\n",
       "children           45\n",
       "home               42\n",
       "welfare            42\n",
       "shall              41\n",
       "service            40\n",
       "time               40\n",
       "way                40\n",
       "one                40\n",
       "                 ... \n",
       "lining              1\n",
       "ends                1\n",
       "age                 1\n",
       "confirmed           1\n",
       "sufficient          1\n",
       "start               1\n",
       "climb               1\n",
       "television          1\n",
       "circle              1\n",
       "sifting             1\n",
       "selfless            1\n",
       "tool                1\n",
       "emerge              1\n",
       "broke               1\n",
       "lifestep            1\n",
       "accomplishment      1\n",
       "grace               1\n",
       "covenantmaking      1\n",
       "companions          1\n",
       "doves               1\n",
       "temptations         1\n",
       "theyre              1\n",
       "qualifies           1\n",
       "status              1\n",
       "document            1\n",
       "million             1\n",
       "lights              1\n",
       "messages            1\n",
       "organize            1\n",
       "lean                1\n",
       "Length: 2408, dtype: int64"
      ]
     },
     "execution_count": 217,
     "metadata": {},
     "output_type": "execute_result"
    }
   ],
   "source": [
    "#most frequently used words in titles after removing punctuation and stopwords\n",
    "titles.value_counts()"
   ]
  }
 ],
 "metadata": {
  "comet_paths": [
   [
    "0a21c2a4\\general_conference.ipynb",
    1519311356795
   ]
  ],
  "comet_tracking": true,
  "kernelspec": {
   "display_name": "Python [default]",
   "language": "python",
   "name": "python3"
  },
  "language_info": {
   "codemirror_mode": {
    "name": "ipython",
    "version": 3
   },
   "file_extension": ".py",
   "mimetype": "text/x-python",
   "name": "python",
   "nbconvert_exporter": "python",
   "pygments_lexer": "ipython3",
   "version": "3.6.1"
  }
 },
 "nbformat": 4,
 "nbformat_minor": 2
}
