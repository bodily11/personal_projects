{
 "cells": [
  {
   "cell_type": "code",
   "execution_count": null,
   "metadata": {
    "collapsed": true,
    "comet_cell_id": "b5f6d304d25d5"
   },
   "outputs": [],
   "source": [
    "import requests as r\n",
    "%matplotlib inline\n",
    "import pandas as pd\n",
    "from nltk.corpus import stopwords"
   ]
  },
  {
   "cell_type": "code",
   "execution_count": null,
   "metadata": {
    "collapsed": true,
    "comet_cell_id": "febdc23ae315c"
   },
   "outputs": [],
   "source": [
    "#we don't need these. I left them here just in case.\n",
    "# appID = '1844787218898682'\n",
    "# appSecret = 'b3e7536d6dd029c773441d5271318dec'"
   ]
  },
  {
   "cell_type": "code",
   "execution_count": null,
   "metadata": {
    "collapsed": true,
    "comet_cell_id": "8b2c096ac699d"
   },
   "outputs": [],
   "source": [
    "#this is where you have to go to get a token to test with. You need to go there to get a new access_token every time you run the script.\n",
    "#https://developers.facebook.com/tools/explorer/145634995501895/?method=GET&path=me%2Ffeed&version=v2.10"
   ]
  },
  {
   "cell_type": "code",
   "execution_count": null,
   "metadata": {
    "collapsed": true,
    "comet_cell_id": "e4cf2d10438eb"
   },
   "outputs": [],
   "source": []
  },
  {
   "cell_type": "code",
   "execution_count": null,
   "metadata": {
    "collapsed": true,
    "comet_cell_id": "874ad6d175d68"
   },
   "outputs": [],
   "source": [
    "access_token = 'EAACEdEose0cBAGHWZAec37neJdulqMocs6LZCMQUrn8H0Er2nNtSFLBeFmtR4DCiZC9gVYSTXeKykqlbiOU9oUhEZAnl5vJ55aYOLYcOXOPbveW5sc9VdPh9C0TVecAOZBV0L7wdQbdZB9mjI9JtEQJEuIEtYrWycrLw5CpBMw2u29VKxyVQhLhZCsz5OvqfloZD'"
   ]
  },
  {
   "cell_type": "code",
   "execution_count": null,
   "metadata": {
    "comet_cell_id": "86f253d196f22"
   },
   "outputs": [],
   "source": [
    "allData = []\n",
    "firstURL = 'https://graph.facebook.com/v2.10/me/posts?access_token={}'.format(access_token)\n",
    "response = r.get(firstURL)\n",
    "print(response)\n",
    "postData = response.json()\n",
    "allData = allData + postData['data']\n",
    "print(len(allData))"
   ]
  },
  {
   "cell_type": "code",
   "execution_count": null,
   "metadata": {
    "collapsed": true,
    "comet_cell_id": "351033874298b"
   },
   "outputs": [],
   "source": [
    "while 'paging' in postData:\n",
    "    nextURL = postData['paging']['next']\n",
    "    response = r.get(nextURL)\n",
    "    print(response)\n",
    "    postData = response.json()\n",
    "    allData = allData + postData['data']\n",
    "    print(len(allData))"
   ]
  },
  {
   "cell_type": "code",
   "execution_count": null,
   "metadata": {
    "collapsed": true,
    "comet_cell_id": "aeeff450ea469"
   },
   "outputs": [],
   "source": [
    "df = pd.DataFrame(allData)"
   ]
  },
  {
   "cell_type": "code",
   "execution_count": null,
   "metadata": {
    "collapsed": true,
    "comet_cell_id": "79c7822462702"
   },
   "outputs": [],
   "source": [
    "df.created_time = pd.to_datetime(df.created_time)"
   ]
  },
  {
   "cell_type": "code",
   "execution_count": null,
   "metadata": {
    "collapsed": true,
    "comet_cell_id": "ae24d3387d518"
   },
   "outputs": [],
   "source": [
    "df = df[df.created_time > datetime.datetime(2011,6,1)].copy()"
   ]
  },
  {
   "cell_type": "code",
   "execution_count": null,
   "metadata": {
    "collapsed": true,
    "comet_cell_id": "dceeff75e586b"
   },
   "outputs": [],
   "source": [
    "text = df[df.message == df.message].message.str.cat(sep=' ')"
   ]
  },
  {
   "cell_type": "code",
   "execution_count": null,
   "metadata": {
    "collapsed": true,
    "comet_cell_id": "1476905510223"
   },
   "outputs": [],
   "source": [
    "text2 = text.replace('\\n\\n',' ').replace('\\n',' ').replace(u\"\\'\",\"\").lower()"
   ]
  },
  {
   "cell_type": "code",
   "execution_count": null,
   "metadata": {
    "collapsed": true,
    "comet_cell_id": "d78aa886038a7"
   },
   "outputs": [],
   "source": [
    "test = pd.Series(text2.split(' '))\n",
    "urls = test[test.str.contains('http')|test.str.contains('www')].values\n",
    "test = test[~(test.str.contains('http')|test.str.contains('www'))].copy()\n",
    "text2 = test.str.cat(sep=' ')"
   ]
  },
  {
   "cell_type": "code",
   "execution_count": null,
   "metadata": {
    "collapsed": true,
    "comet_cell_id": "76d102e6aa6a3"
   },
   "outputs": [],
   "source": [
    "import string\n",
    "for x in list(string.punctuation):\n",
    "    text2 = text2.replace(x,' ')"
   ]
  },
  {
   "cell_type": "code",
   "execution_count": null,
   "metadata": {
    "collapsed": true,
    "comet_cell_id": "2ee04c06c490d"
   },
   "outputs": [],
   "source": [
    "words_list = text2.split(' ')"
   ]
  },
  {
   "cell_type": "code",
   "execution_count": null,
   "metadata": {
    "collapsed": true,
    "comet_cell_id": "9a8fa2f946e9d"
   },
   "outputs": [],
   "source": [
    "words_list = pd.Series(words_list)"
   ]
  },
  {
   "cell_type": "code",
   "execution_count": null,
   "metadata": {
    "collapsed": true,
    "comet_cell_id": "5a646ece0662e"
   },
   "outputs": [],
   "source": [
    "words_list = words_list[words_list != ''].copy()"
   ]
  },
  {
   "cell_type": "code",
   "execution_count": null,
   "metadata": {
    "collapsed": true,
    "comet_cell_id": "caf2ee43a1d62"
   },
   "outputs": [],
   "source": [
    "stop = stopwords.words('english')\n",
    "final_words_list = words_list[~words_list.isin(stop)]"
   ]
  },
  {
   "cell_type": "code",
   "execution_count": null,
   "metadata": {
    "comet_cell_id": "ee608ed10dd88"
   },
   "outputs": [],
   "source": [
    "#top words used in my Facebook posts\n",
    "final_words_list.value_counts()[:20]"
   ]
  },
  {
   "cell_type": "code",
   "execution_count": null,
   "metadata": {
    "collapsed": true,
    "comet_cell_id": "e59b6db3a25da"
   },
   "outputs": [],
   "source": [
    "from textblob import TextBlob\n",
    "dfNoNan = df[df.message == df.message].copy()\n",
    "dfNoNan['polarity'] = dfNoNan['message'].map(lambda x: TextBlob(x).sentiment.polarity)\n",
    "dfNoNan['subjectivity'] = dfNoNan['message'].map(lambda x: TextBlob(x).sentiment.subjectivity)"
   ]
  },
  {
   "cell_type": "code",
   "execution_count": null,
   "metadata": {
    "comet_cell_id": "6669d218c636b",
    "scrolled": true
   },
   "outputs": [],
   "source": [
    "import math\n",
    "result = {}\n",
    "for x in range(math.ceil(len(dfNoNan.id) / 50)):\n",
    "    newIDs = dfNoNan.id[50*x:50*(x+1)]\n",
    "    stringIDs = ','.join(newIDs)\n",
    "    firstURL = 'https://graph.facebook.com/v2.10?ids={}&fields=shares.limit(5000).summary(true),likes.limit(5000).summary(true),comments.limit(5000).summary(true)&access_token={}'.format(stringIDs,access_token)\n",
    "    response = r.get(firstURL)\n",
    "    print(response)\n",
    "    postData = response.json()\n",
    "    result.update(postData)\n",
    "    print(len(result))"
   ]
  },
  {
   "cell_type": "code",
   "execution_count": null,
   "metadata": {
    "collapsed": true,
    "comet_cell_id": "491d0e8179348"
   },
   "outputs": [],
   "source": [
    "def getLikesName(cell):\n",
    "    total_likes_name = len(result[cell]['likes']['data'])\n",
    "    return total_likes_name\n",
    "\n",
    "def getLikesCount(cell):\n",
    "    total_likes_count = result[cell]['likes']['summary']['total_count']\n",
    "    return total_likes_count\n",
    "\n",
    "def getCommentsName(cell):\n",
    "    total_comments_name = len(result[cell]['comments']['data'])\n",
    "    return total_comments_name\n",
    "\n",
    "def getCommentsCount(cell):\n",
    "    total_comments_count = result[cell]['comments']['summary']['total_count']\n",
    "    return total_comments_count"
   ]
  },
  {
   "cell_type": "code",
   "execution_count": null,
   "metadata": {
    "collapsed": true,
    "comet_cell_id": "dd9046899d18"
   },
   "outputs": [],
   "source": [
    "dfNoNan['likesName'] = dfNoNan.id.map(getLikesName)\n",
    "dfNoNan['likesCount'] = dfNoNan.id.map(getLikesCount)\n",
    "dfNoNan['commentsName'] = dfNoNan.id.map(getCommentsName)\n",
    "dfNoNan['commentsCount'] = dfNoNan.id.map(getCommentsCount)"
   ]
  },
  {
   "cell_type": "code",
   "execution_count": null,
   "metadata": {
    "comet_cell_id": "3b993d92a52e4"
   },
   "outputs": [],
   "source": [
    "#total number of posts on facebook (this counts shares and posts)\n",
    "df['id'].count()"
   ]
  },
  {
   "cell_type": "code",
   "execution_count": null,
   "metadata": {
    "comet_cell_id": "3be26e6e7af59"
   },
   "outputs": [],
   "source": [
    "#total number of times posts have been liked\n",
    "dfNoNan.likesCount.sum()"
   ]
  },
  {
   "cell_type": "code",
   "execution_count": null,
   "metadata": {
    "collapsed": true,
    "comet_cell_id": "aa40cb9253c47"
   },
   "outputs": [],
   "source": [
    "likes_people = []\n",
    "comments_people = []\n",
    "for postID in dfNoNan.id:\n",
    "    likes_people = likes_people + [x['name'] for x in result[postID]['likes']['data']]\n",
    "    comments_people = comments_people + [x['from']['name'] for x in result[postID]['comments']['data']]"
   ]
  },
  {
   "cell_type": "code",
   "execution_count": null,
   "metadata": {
    "collapsed": true,
    "comet_cell_id": "c37be8a8d04a9"
   },
   "outputs": [],
   "source": [
    "likes_people = pd.Series(likes_people)\n",
    "comments_people = pd.Series(comments_people)"
   ]
  },
  {
   "cell_type": "code",
   "execution_count": null,
   "metadata": {
    "comet_cell_id": "8388ac8074764"
   },
   "outputs": [],
   "source": [
    "#top people based on comments on my Facebook Posts\n",
    "comments_people.value_counts()[:20]"
   ]
  },
  {
   "cell_type": "code",
   "execution_count": null,
   "metadata": {
    "comet_cell_id": "8a8ec6bd2652"
   },
   "outputs": [],
   "source": [
    "#top people based on likes on my Facebook Posts\n",
    "likes_people.value_counts()[:20]"
   ]
  },
  {
   "cell_type": "code",
   "execution_count": null,
   "metadata": {
    "comet_cell_id": "11c3213852b28"
   },
   "outputs": [],
   "source": [
    "#top tweets based on comments\n",
    "dfNoNan.sort_values('commentsCount',ascending=False)[:10][['created_time','message','story','commentsCount']]"
   ]
  },
  {
   "cell_type": "code",
   "execution_count": null,
   "metadata": {
    "comet_cell_id": "b08375245959"
   },
   "outputs": [],
   "source": [
    "#top tweets based on likes\n",
    "dfNoNan.sort_values('likesCount',ascending=False)[:10][['created_time','message','story','likesCount']]"
   ]
  },
  {
   "cell_type": "code",
   "execution_count": null,
   "metadata": {
    "collapsed": true,
    "comet_cell_id": "70a1a416928d4"
   },
   "outputs": [],
   "source": [
    "import datetime\n",
    "df.created_time = pd.to_datetime(df.created_time)"
   ]
  },
  {
   "cell_type": "code",
   "execution_count": null,
   "metadata": {
    "collapsed": true,
    "comet_cell_id": "c9610e5739fa7"
   },
   "outputs": [],
   "source": [
    "timedf = df.copy()"
   ]
  },
  {
   "cell_type": "code",
   "execution_count": null,
   "metadata": {
    "collapsed": true,
    "comet_cell_id": "32e14b8ccad1c"
   },
   "outputs": [],
   "source": [
    "timedf.index = df.created_time"
   ]
  },
  {
   "cell_type": "code",
   "execution_count": null,
   "metadata": {
    "collapsed": true,
    "comet_cell_id": "04547239c4c84"
   },
   "outputs": [],
   "source": [
    "test = timedf.groupby(timedf.index.year.astype(str) + timedf.index.week.astype(str)).count()"
   ]
  },
  {
   "cell_type": "code",
   "execution_count": null,
   "metadata": {
    "collapsed": true,
    "comet_cell_id": "8186bd84c1b95"
   },
   "outputs": [],
   "source": [
    "def fixIndex(cell):\n",
    "    if len(cell) == 5:\n",
    "        return cell[:4] + '0' + cell[4]\n",
    "    else:\n",
    "        return cell\n",
    "test.index = test.index.map(fixIndex)"
   ]
  },
  {
   "cell_type": "code",
   "execution_count": null,
   "metadata": {
    "collapsed": true,
    "comet_cell_id": "c1e98431ccbfe"
   },
   "outputs": [],
   "source": [
    "new_week_index = []\n",
    "#eventually pull these dates from latest tweet, go back until earliest tweet\n",
    "for x in range(2011,2018):\n",
    "    for y in range(0,53):\n",
    "        new_week_index.append(str(x) + str(y))"
   ]
  },
  {
   "cell_type": "code",
   "execution_count": null,
   "metadata": {
    "collapsed": true,
    "comet_cell_id": "9c836a3f48e38"
   },
   "outputs": [],
   "source": [
    "new_week_index = pd.Series(new_week_index).map(fixIndex)"
   ]
  },
  {
   "cell_type": "code",
   "execution_count": null,
   "metadata": {
    "collapsed": true,
    "comet_cell_id": "8ddaa81b0bbad"
   },
   "outputs": [],
   "source": [
    "test = test.reindex(new_week_index, fill_value=0)"
   ]
  },
  {
   "cell_type": "code",
   "execution_count": null,
   "metadata": {
    "comet_cell_id": "5eee6fa66db89"
   },
   "outputs": [],
   "source": [
    "#facebook activity over time (grouped by week)\n",
    "test['id'].plot()"
   ]
  },
  {
   "cell_type": "code",
   "execution_count": null,
   "metadata": {
    "collapsed": true,
    "comet_cell_id": "13ff7217a6b69"
   },
   "outputs": [],
   "source": [
    "test2 = timedf.groupby(timedf.index.dayofweek).count()"
   ]
  },
  {
   "cell_type": "code",
   "execution_count": null,
   "metadata": {
    "comet_cell_id": "96ba9d38a9f6c"
   },
   "outputs": [],
   "source": [
    "#Monday is 0. Sunday is 6.\n",
    "#Facebook posts by day of week\n",
    "test2['id'].plot()"
   ]
  },
  {
   "cell_type": "code",
   "execution_count": null,
   "metadata": {
    "collapsed": true,
    "comet_cell_id": "8c5eb77da658c"
   },
   "outputs": [],
   "source": [
    "#this is because I am in a time zone that is -7 GMT\n",
    "#this will need to be changed based on user time zone\n",
    "test3 = timedf.groupby(timedf.index.hour - 7).count()"
   ]
  },
  {
   "cell_type": "code",
   "execution_count": null,
   "metadata": {
    "comet_cell_id": "b6e216fdf7a13"
   },
   "outputs": [],
   "source": [
    "#0 = midnight. 12 = noon.\n",
    "#facebook posts by time of day\n",
    "test3['id'].plot()"
   ]
  },
  {
   "cell_type": "code",
   "execution_count": null,
   "metadata": {
    "collapsed": true,
    "comet_cell_id": "c379a89391e06"
   },
   "outputs": [],
   "source": [
    "test4 = timedf.groupby(timedf.index.month).count()"
   ]
  },
  {
   "cell_type": "code",
   "execution_count": null,
   "metadata": {
    "comet_cell_id": "e34c7521ab884"
   },
   "outputs": [],
   "source": [
    "#facebook posts by month\n",
    "test4['id'].plot()"
   ]
  },
  {
   "cell_type": "code",
   "execution_count": null,
   "metadata": {
    "comet_cell_id": "eb6ea204b1161"
   },
   "outputs": [],
   "source": [
    "allData = []\n",
    "firstURL = 'https://graph.facebook.com/v2.10/10153451802413555/likes?access_token={}'.format(access_token)\n",
    "response = r.get(firstURL)\n",
    "print(response)\n",
    "postData = response.json()\n",
    "allData = allData + postData['data']\n",
    "print(len(allData))"
   ]
  },
  {
   "cell_type": "code",
   "execution_count": null,
   "metadata": {
    "comet_cell_id": "b36946540fb46"
   },
   "outputs": [],
   "source": [
    "while 'paging' in postData:\n",
    "    nextURL = postData['paging']['next']\n",
    "    response = r.get(nextURL)\n",
    "    print(response)\n",
    "    postData = response.json()\n",
    "    allData = allData + postData['data']\n",
    "    print(len(allData))"
   ]
  },
  {
   "cell_type": "code",
   "execution_count": null,
   "metadata": {
    "collapsed": true,
    "comet_cell_id": "90b703f110ec5"
   },
   "outputs": [],
   "source": [
    "pages = pd.DataFrame(allData)"
   ]
  },
  {
   "cell_type": "code",
   "execution_count": null,
   "metadata": {
    "collapsed": true,
    "comet_cell_id": "d7eae91982afb"
   },
   "outputs": [],
   "source": [
    "#get the feed\n",
    "allData = []\n",
    "firstURL = 'https://graph.facebook.com/v2.10/10153451802413555/feed?access_token={}'.format(access_token)\n",
    "response = r.get(firstURL)\n",
    "print(response)\n",
    "postData = response.json()\n",
    "allData = allData + postData['data']\n",
    "print(len(allData))"
   ]
  },
  {
   "cell_type": "code",
   "execution_count": null,
   "metadata": {
    "collapsed": true,
    "comet_cell_id": "66d825c8fa9ca"
   },
   "outputs": [],
   "source": [
    "while 'paging' in postData:\n",
    "    nextURL = postData['paging']['next']\n",
    "    response = r.get(nextURL)\n",
    "    print(response)\n",
    "    postData = response.json()\n",
    "    allData = allData + postData['data']\n",
    "    print(len(allData))"
   ]
  },
  {
   "cell_type": "code",
   "execution_count": null,
   "metadata": {
    "collapsed": true,
    "comet_cell_id": "4bfe4572dbdb2"
   },
   "outputs": [],
   "source": [
    "feed = pd.DataFrame(allData)"
   ]
  },
  {
   "cell_type": "code",
   "execution_count": null,
   "metadata": {
    "comet_cell_id": "2e4ed45a37dc5"
   },
   "outputs": [],
   "source": [
    "import math\n",
    "result = {}\n",
    "for x in range(math.ceil(len(feed.id) / 50)):\n",
    "    newIDs = feed.id[50*x:50*(x+1)]\n",
    "    stringIDs = ','.join(newIDs)\n",
    "    firstURL = 'https://graph.facebook.com/v2.10?ids={}&fields=shares.limit(5000).summary(true),likes.limit(5000).summary(true),comments.limit(5000).summary(true)&access_token={}'.format(stringIDs,access_token)\n",
    "    response = r.get(firstURL)\n",
    "    print(response)\n",
    "    postData = response.json()\n",
    "    result.update(postData)\n",
    "    print(len(result))"
   ]
  },
  {
   "cell_type": "code",
   "execution_count": null,
   "metadata": {
    "collapsed": true,
    "comet_cell_id": "9871a326e4bef"
   },
   "outputs": [],
   "source": [
    "#this is your Facebook feed (not just your posts, but everything that shows up on your wall)\n",
    "#this can go back into your other script and you can look at all of the same things as just the posts script\n",
    "#result"
   ]
  },
  {
   "cell_type": "code",
   "execution_count": null,
   "metadata": {
    "comet_cell_id": "440c0b0d87832"
   },
   "outputs": [],
   "source": [
    "#get og.likes (only returns 3 likes, they are all associated with GoFundMe. I don't know why.)\n",
    "allData = []\n",
    "firstURL = 'https://graph.facebook.com/v2.10/10153451802413555/og.likes?since=1167609600&access_token={}'.format(access_token)\n",
    "response = r.get(firstURL)\n",
    "print(response)\n",
    "postData = response.json()\n",
    "allData = allData + postData['data']\n",
    "print(len(allData))"
   ]
  },
  {
   "cell_type": "code",
   "execution_count": null,
   "metadata": {
    "collapsed": true,
    "comet_cell_id": "b787bddd38288"
   },
   "outputs": [],
   "source": [
    "#scroll down in activity viewer to get all likes and comments\n",
    "#use copy(document.body.innerHTML); to copy text\n",
    "#paste it somewhere. Save it.\n",
    "#now analyze it.\n",
    "\n",
    "with open('C:/Users/bodil/Desktop/FacebookPostsLikes.html','r',encoding='utf-8') as file:\n",
    "    data = file.read()"
   ]
  },
  {
   "cell_type": "code",
   "execution_count": null,
   "metadata": {
    "collapsed": true,
    "comet_cell_id": "d188738ef9c51"
   },
   "outputs": [],
   "source": [
    "from bs4 import BeautifulSoup as BS\n",
    "soup = BS(data,\"lxml\")"
   ]
  },
  {
   "cell_type": "code",
   "execution_count": null,
   "metadata": {
    "collapsed": true,
    "comet_cell_id": "908ae0ea4d0e1"
   },
   "outputs": [],
   "source": [
    "soup2 = soup.find_all('div',class_='fbTimelineLogBody')"
   ]
  },
  {
   "cell_type": "code",
   "execution_count": null,
   "metadata": {
    "collapsed": true,
    "comet_cell_id": "a53e8fe2e4fa1"
   },
   "outputs": [],
   "source": [
    "profiles = soup2[0].find_all('a',class_=\"profileLink\")"
   ]
  },
  {
   "cell_type": "code",
   "execution_count": null,
   "metadata": {
    "collapsed": true,
    "comet_cell_id": "99153d24ce45e"
   },
   "outputs": [],
   "source": [
    "people = soup2[0].find_all('td',class_='_5ep5')\n",
    "posts = soup2[0].find_all('div',class_='fsm')"
   ]
  },
  {
   "cell_type": "code",
   "execution_count": null,
   "metadata": {
    "collapsed": true,
    "comet_cell_id": "cd75b41c6dd6f",
    "scrolled": true
   },
   "outputs": [],
   "source": [
    "people2 = []\n",
    "for x in people:\n",
    "    people2.append(x.text)\n",
    "\n",
    "def parse_comments(cell):\n",
    "    flag = False\n",
    "    if 'his own comment' in cell:\n",
    "        return 'his own comment'\n",
    "    if 'comment' in cell and 'commented' not in cell:\n",
    "        return 'comment'\n",
    "    elif 'post' in cell:\n",
    "        return 'post'\n",
    "    elif 'life event' in cell:\n",
    "        return 'life event'\n",
    "    elif 'link' in cell:\n",
    "        return 'link'\n",
    "    elif 'album' in cell:\n",
    "        return 'album'\n",
    "    elif 'photo' in cell:\n",
    "        return 'photo'\n",
    "    elif 'live video' in cell:\n",
    "        return 'live video'\n",
    "    elif 'video' in cell:\n",
    "        return 'video'\n",
    "    elif 'campaign' in cell:\n",
    "        return 'campaign'\n",
    "    elif 'status' in cell:\n",
    "        return 'status'\n",
    "    elif 'bio' in cell:\n",
    "        return 'bio'\n",
    "    elif 'timeline' in cell:\n",
    "        return 'timeline'\n",
    "    elif 'friend request' in cell:\n",
    "        return 'friend request'\n",
    "    elif 'profile picture' in cell:\n",
    "        return 'profile picture'\n",
    "    elif 'an event' in cell:\n",
    "        return 'an event'\n",
    "    elif 'a list' in cell:\n",
    "        return 'a list'\n",
    "    elif 'an entry' in cell:\n",
    "        return 'an entry'\n",
    "    elif 'a note' in cell:\n",
    "        return 'a note'\n",
    "    elif 'Quotations' in cell:\n",
    "        return 'quotations'\n",
    "    elif 'phone number' in cell:\n",
    "        return 'phone number'\n",
    "    elif 'Website' in cell:\n",
    "        return 'website'\n",
    "    elif 'memory' in cell:\n",
    "        return 'memory'\n",
    "    elif 'poll' in cell:\n",
    "        return 'poll'\n",
    "    elif 'hometown' in cell:\n",
    "        return 'hometown'\n",
    "    elif 'Page' in cell:\n",
    "        return 'page'\n",
    "    else:\n",
    "        return None\n",
    "\n",
    "people2 = pd.DataFrame(people2)\n",
    "# people2[~(people2[0].map(parse_comments)==people2[0].map(parse_comments))]\n",
    "people2['media'] = people2[0].map(parse_comments)"
   ]
  },
  {
   "cell_type": "code",
   "execution_count": null,
   "metadata": {
    "comet_cell_id": "dc90660d3d1aa"
   },
   "outputs": [],
   "source": [
    "#top media that you interact with\n",
    "people2.media.value_counts()[:10]"
   ]
  },
  {
   "cell_type": "code",
   "execution_count": null,
   "metadata": {
    "collapsed": true,
    "comet_cell_id": "f1e552a8ad0fd"
   },
   "outputs": [],
   "source": [
    "people2.rename(columns={0:'event_text'},inplace=True)"
   ]
  },
  {
   "cell_type": "code",
   "execution_count": null,
   "metadata": {
    "collapsed": true,
    "comet_cell_id": "b1ee91d0a1e2b"
   },
   "outputs": [],
   "source": [
    "def parse_action(cell):\n",
    "    if 'liked' in cell:\n",
    "        return 'liked'\n",
    "    elif 'likes' in cell:\n",
    "        return 'likes'\n",
    "    elif 'reacted to' in cell:\n",
    "        return 'reacted to'\n",
    "    elif 'is going to' in cell:\n",
    "        return 'is going to'\n",
    "    elif 'was mentioned in a' in cell:\n",
    "        return 'was mentioned in a'\n",
    "    elif 'commented on' in cell:\n",
    "        return 'commented on'\n",
    "    elif 'posted in' in cell:\n",
    "        return 'posted in'\n",
    "    elif 'became friends with' in cell:\n",
    "        return 'became friends with'\n",
    "    elif 'replied to' in cell:\n",
    "        return 'replied to'\n",
    "    elif 'added' in cell:\n",
    "        return 'added'\n",
    "    elif 'shared a post to your' in cell:\n",
    "        return 'shared a post to your'\n",
    "    elif 'was tagged in' in cell:\n",
    "        return 'was tagged in'\n",
    "    elif 'shared' in cell:\n",
    "        return 'shared'\n",
    "    elif 'wrote on your' in cell:\n",
    "        return 'wrote on your'\n",
    "    elif 'wrote on' in cell:\n",
    "        return 'wrote on'\n",
    "    elif 'updated' in cell:\n",
    "         return 'updated'\n",
    "    elif 'sent' in cell:\n",
    "        return 'sent'\n",
    "    elif 'changed' in cell:\n",
    "        return 'changed'\n",
    "    elif 'posted a video to' in cell:\n",
    "        return 'posted a video to'\n",
    "    elif 'posted something via' in cell:\n",
    "        return 'posted something via'\n",
    "    elif 'voted for' in cell:\n",
    "        return 'voted for'\n",
    "    elif 'was feeling' in cell:\n",
    "        return 'was feeling'\n",
    "    elif 'reviewed' in cell:\n",
    "        return 'reviewed'\n",
    "    elif 'created' in cell:\n",
    "        return 'created'\n",
    "    elif 'was tagged at' in cell:\n",
    "        return 'was tagged at'\n",
    "    elif 'voted on' in cell:\n",
    "        return 'voted on'\n",
    "    elif 'was with' in cell:\n",
    "        return 'was with'\n",
    "    elif 'is now using Facebook in' in cell:\n",
    "        return 'is now using Facebook in'\n",
    "    elif 'is interested in' in cell:\n",
    "        return 'is interested in'\n",
    "    elif 'was' in cell:\n",
    "        return 'was'\n",
    "# people2[~(people2.event_text.map(parse_action)==people2.event_text.map(parse_action))]\n",
    "people2['event'] = people2.event_text.map(parse_action)"
   ]
  },
  {
   "cell_type": "code",
   "execution_count": null,
   "metadata": {
    "comet_cell_id": "3aad26c727bad"
   },
   "outputs": [],
   "source": [
    "#top interactions on Facebook\n",
    "people2.event.value_counts()[:10]"
   ]
  },
  {
   "cell_type": "code",
   "execution_count": null,
   "metadata": {
    "collapsed": true,
    "comet_cell_id": "8f0dec86700e2"
   },
   "outputs": [],
   "source": [
    "people2['date'] = people2.event_text.map(lambda x: x.split('.')[-1])"
   ]
  },
  {
   "cell_type": "code",
   "execution_count": null,
   "metadata": {
    "collapsed": true,
    "comet_cell_id": "2187c4025f73e"
   },
   "outputs": [],
   "source": [
    "for x in people2.index:\n",
    "    if people2.loc[x]['event_text'] != people2.loc[x]['event_text']:\n",
    "        people2.loc[x,'name'] = None\n",
    "    else:\n",
    "        test = people2.loc[x]['event_text']\n",
    "        if people2.loc[x,'event'] == 'became friends with':\n",
    "            person = test[test.find(people2.loc[x]['event']) + len(people2.loc[x]['event']) + 1:test.find('.')]\n",
    "            people2.loc[x,'name'] = person\n",
    "        elif ' own ' in people2.loc[x,'event_text'] or ' his ' in people2.loc[x,'event_text'] or ' her ' in people2.loc[x,'event_text']:\n",
    "            people2.loc[x,'name'] = None\n",
    "        elif people2.loc[x,'event'] == 'added':\n",
    "            people2.loc[x,'name'] = None\n",
    "        elif people2.loc[x,'media'] == None:\n",
    "            people2.loc[x,'name'] = None\n",
    "        else:\n",
    "            person = test[test.find(people2.loc[x]['event']) + len(people2.loc[x]['event']) + 1:test.find(people2.loc[x]['media']) - 3]\n",
    "            people2.loc[x,'name'] = person"
   ]
  },
  {
   "cell_type": "code",
   "execution_count": null,
   "metadata": {
    "comet_cell_id": "9d6d4b367c1f7"
   },
   "outputs": [],
   "source": [
    "#people you interact with the most\n",
    "people2[people2.name != ''].name.value_counts()[:20]"
   ]
  },
  {
   "cell_type": "code",
   "execution_count": null,
   "metadata": {
    "comet_cell_id": "4cd1b37a56531"
   },
   "outputs": [],
   "source": [
    "#things you interact with the most\n",
    "people2.media.value_counts()[:10]"
   ]
  },
  {
   "cell_type": "code",
   "execution_count": null,
   "metadata": {
    "collapsed": true,
    "comet_cell_id": "1ac63395d5c7"
   },
   "outputs": [],
   "source": [
    "posts2 = []\n",
    "for x in posts:\n",
    "    posts2.append(x.text)"
   ]
  },
  {
   "cell_type": "code",
   "execution_count": null,
   "metadata": {
    "collapsed": true,
    "comet_cell_id": "1a541c509edad"
   },
   "outputs": [],
   "source": [
    "text = ' '.join(posts2)\n",
    "text2 = text.replace('\\n\\n',' ').replace('\\n',' ').replace(u\"\\'\",\"\").lower()\n",
    "test = pd.Series(text2.split(' '))\n",
    "urls = test[test.str.contains('http')|test.str.contains('www')].values\n",
    "test = test[~(test.str.contains('http')|test.str.contains('www')|test.str.contains('.com'))].copy()\n",
    "text2 = test.str.cat(sep=' ')\n",
    "import string\n",
    "for x in list(string.punctuation):\n",
    "    text2 = text2.replace(x,' ')\n",
    "    words_list = text2.split(' ')\n",
    "words_list = pd.Series(words_list)\n",
    "words_list = words_list[words_list != ''].copy()\n",
    "stop = stopwords.words('english')\n",
    "final_words_list = words_list[~words_list.isin(stop)]"
   ]
  },
  {
   "cell_type": "code",
   "execution_count": null,
   "metadata": {
    "comet_cell_id": "782a0e8f57ac"
   },
   "outputs": [],
   "source": [
    "#words in Facebook interactions you have had\n",
    "final_words_list.value_counts()"
   ]
  },
  {
   "cell_type": "code",
   "execution_count": null,
   "metadata": {
    "collapsed": true,
    "comet_cell_id": "e56473a0306c4"
   },
   "outputs": [],
   "source": [
    "#look at likes and comments over time for a single post (top liked and commented posts--to get a sense for timeline of liking and posting)\n",
    "#when do I like, comment, or post things? Any patterns?\n",
    "#look at URLs I have posted about (top URLs...?)\n",
    "#look at hashtags I have used (how am I treating #aslkdflksd--I need to pull them out)"
   ]
  },
  {
   "cell_type": "code",
   "execution_count": null,
   "metadata": {
    "collapsed": true,
    "comet_cell_id": "c107339a32fc6"
   },
   "outputs": [],
   "source": []
  }
 ],
 "metadata": {
  "comet_paths": [
   [
    "0a21c2a4\\facebook.ipynb",
    1509831132856
   ]
  ],
  "comet_tracking": true,
  "kernelspec": {
   "display_name": "Python [default]",
   "language": "python",
   "name": "python3"
  },
  "language_info": {
   "codemirror_mode": {
    "name": "ipython",
    "version": 3
   },
   "file_extension": ".py",
   "mimetype": "text/x-python",
   "name": "python",
   "nbconvert_exporter": "python",
   "pygments_lexer": "ipython3",
   "version": "3.6.1"
  }
 },
 "nbformat": 4,
 "nbformat_minor": 2
}
