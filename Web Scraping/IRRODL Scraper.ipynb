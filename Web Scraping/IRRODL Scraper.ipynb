{
 "cells": [
  {
   "cell_type": "code",
   "execution_count": 1,
   "metadata": {
    "collapsed": true,
    "comet_cell_id": "5f83a6fd8f4fa"
   },
   "outputs": [],
   "source": [
    "import requests\n",
    "from bs4 import BeautifulSoup\n",
    "from unidecode import unidecode\n",
    "import re\n",
    "import time\n",
    "\n",
    "#the start of the scraper\n",
    "start = time.time()\n",
    "\n",
    "volume_issue_links = []\n",
    "for x in range(1,2):\n",
    "    \n",
    "    #this will get all volume issues pages for me to crawl\n",
    "    html = requests.get('http://www.irrodl.org/index.php/irrodl/issue/archive?issuesPage={}#issues'.format(x))\n",
    "    soup = BeautifulSoup(html.content,\"lxml\")\n",
    "    volume_issue_links += [x['href'] for x in soup('a') if x.text.find('Vol') > -1]\n",
    "    \n",
    "    #we are only allowed to slow crawl IRRODL\n",
    "    #pausing for 1 second between requests should be sufficient\n",
    "    time.sleep(1)\n",
    "\n",
    "article_links = []\n",
    "for issue in [volume_issue_links[0]]:\n",
    "    \n",
    "    #this will get article links that I should scrape\n",
    "    html = requests.get(issue)\n",
    "    soup = BeautifulSoup(html.content,\"lxml\")\n",
    "    article_links += [x['href'] for x in soup('a') if x.text.find('HTML') > -1]\n",
    "    \n",
    "    #pause for 1 second in between requests to be nice to IRRODL's servers\n",
    "    time.sleep(1)"
   ]
  },
  {
   "cell_type": "code",
   "execution_count": 8,
   "metadata": {
    "collapsed": true,
    "comet_cell_id": "6e24a8cd6a1af"
   },
   "outputs": [],
   "source": [
    "IRRODL = []\n",
    "\n",
    "for link in article_links[0:5]:\n",
    "    \n",
    "    html = requests.get(link)\n",
    "    soup = BeautifulSoup(html.content,\"lxml\")\n",
    "\n",
    "    #get all of these things out of the webpage soup\n",
    "    try:\n",
    "        article_title = soup.find(\"meta\", {\"name\":\"description\"})['content']\n",
    "    except:\n",
    "        article_title = ''\n",
    "    try:\n",
    "        keywords = soup.find(\"meta\", {\"name\":\"keywords\"})['content'].split(': ')[1].split('; ')\n",
    "    except:\n",
    "        keywords = ''\n",
    "    try:\n",
    "        authors_list = [x['content'] for x in soup.find_all(\"meta\", {\"name\":\"DC.Creator.PersonalName\"})]\n",
    "    except:\n",
    "        authors_list = ''\n",
    "    try:\n",
    "        affiliation_list = [x['content'] for x in soup.find_all(\"meta\", {\"name\":\"citation_author_institution\"})]\n",
    "    except:\n",
    "        affiliation_list = ''\n",
    "    try:\n",
    "        author_affiliation = zip(authors_list,affiliation_list)\n",
    "    except:\n",
    "        author_affiliation = ''\n",
    "    try:\n",
    "        abstract = soup.find(\"meta\", {\"name\":\"DC.Description\"})['content'].split(': ')[1]\n",
    "    except:\n",
    "        abstract = ''\n",
    "\n",
    "    #remove unnecessary spaces in the abstract\n",
    "    for x in range(10):\n",
    "        abstract = abstract.replace('  ',' ')\n",
    "    abstract = unidecode(abstract)\n",
    "\n",
    "    try:\n",
    "        link_to_article = soup.find(\"meta\", {\"name\":\"DC.Identifier.URI\"})['content']\n",
    "    except:\n",
    "        link_to_article = ''\n",
    "    try:\n",
    "        article_type = soup.find(\"meta\", {\"name\":\"DC.Type.articleType\"})['content']\n",
    "    except:\n",
    "        article_type = ''\n",
    "    \n",
    "\n",
    "    \n",
    "    texts = soup.findAll(text=True)\n",
    "    def visible(element):\n",
    "        if element.parent.name in ['style', 'script', '[document]', 'head', 'title']:\n",
    "            return False\n",
    "        elif re.match('<!--.*-->', str(unidecode(element))):\n",
    "            return False\n",
    "        elif element == '\\n' or element == u'\\xa0' or element == ' ':\n",
    "            return False\n",
    "        return True\n",
    "\n",
    "    visible_texts = filter(visible, texts)\n",
    "    visible_texts = ' '.join(visible_texts)\n",
    "\n",
    "    article_text = unidecode(visible_texts).replace('\\n','').replace('\\t','').replace('\\r','')\n",
    "\n",
    "    for x in range(10):\n",
    "        article_text = article_text.replace('  ',' ')\n",
    "        \n",
    "    IRRODL.append({\n",
    "            'article_title':article_title,\n",
    "            'keywords':keywords,\n",
    "            'authors_list':authors_list,\n",
    "            'affiliation_list':affiliation_list,\n",
    "            'author_affiliation':author_affiliation,\n",
    "            'abstract':abstract,\n",
    "            'link_to_article':link_to_article,\n",
    "            'article_type':article_type,\n",
    "            'article_text':article_text,\n",
    "            'soup':soup\n",
    "        })\n",
    "    \n",
    "    #wait for a second between requests to be nice to IRRODL's server\n",
    "    time.sleep(1)\n",
    "\n",
    "#the end of the scraper\n",
    "end = time.time()"
   ]
  },
  {
   "cell_type": "code",
   "execution_count": 250,
   "metadata": {
    "collapsed": true,
    "comet_cell_id": "b7d84d68c19be"
   },
   "outputs": [],
   "source": [
    "#time it took to scrape all of IRRODL\n",
    "#print (end - start)/60.\n",
    "#48.08125 minutes"
   ]
  },
  {
   "cell_type": "code",
   "execution_count": 243,
   "metadata": {
    "collapsed": true,
    "comet_cell_id": "59f313de61baa"
   },
   "outputs": [],
   "source": [
    "# #code to convert IRRODL list of dictionaries into pandas dataframe\n",
    "# import pandas as pd\n",
    "# df = pd.DataFrame(IRRODL)"
   ]
  },
  {
   "cell_type": "code",
   "execution_count": 247,
   "metadata": {
    "collapsed": true,
    "comet_cell_id": "ef6acd64bc313"
   },
   "outputs": [],
   "source": [
    "# export IRRODL to csv\n",
    "# df.to_csv('C:\\Users\\\\bodil\\Projects\\IRRODL Scraper\\IRRODL_articles2.csv',index=False,encoding='utf-8')"
   ]
  },
  {
   "cell_type": "code",
   "execution_count": 18,
   "metadata": {
    "collapsed": true,
    "comet_cell_id": "ae8c954e972b7"
   },
   "outputs": [],
   "source": [
    "import pandas as pd\n",
    "df = pd.DataFrame(IRRODL)"
   ]
  },
  {
   "cell_type": "code",
   "execution_count": null,
   "metadata": {
    "collapsed": true,
    "comet_cell_id": "33585260faed4"
   },
   "outputs": [],
   "source": []
  },
  {
   "cell_type": "code",
   "execution_count": 1,
   "metadata": {
    "collapsed": true,
    "comet_cell_id": "da12107f4c619"
   },
   "outputs": [],
   "source": [
    "import pandas as pd\n",
    "from unidecode import unidecode\n",
    "import re\n",
    "\n",
    "df = pd.read_csv('IRRODL_articles.csv',encoding='utf-8')"
   ]
  },
  {
   "cell_type": "code",
   "execution_count": 5,
   "metadata": {
    "collapsed": true,
    "comet_cell_id": "5318b7997ceab"
   },
   "outputs": [],
   "source": [
    "json_string = df.to_json()"
   ]
  },
  {
   "cell_type": "code",
   "execution_count": 1,
   "metadata": {
    "comet_cell_id": "952cc037ba605"
   },
   "outputs": [],
   "source": [
    "import json\n",
    "json_object = json.loads(json_string)"
   ]
  },
  {
   "cell_type": "code",
   "execution_count": 2,
   "metadata": {
    "collapsed": true,
    "comet_cell_id": "6fa75ef26505c"
   },
   "outputs": [],
   "source": [
    "researchdf = df[df.article_type == 'Research Articles'].reset_index(drop=True).copy()"
   ]
  },
  {
   "cell_type": "code",
   "execution_count": 3,
   "metadata": {
    "collapsed": true,
    "comet_cell_id": "aee4c28b6e8cf"
   },
   "outputs": [],
   "source": [
    "researchdf['authors_list2'] = researchdf['authors_list'].map(lambda x: re.split(\"\\[|\\]|, \",x)[1:-1])\n",
    "researchdf['authors_list2'] = researchdf['authors_list2'].map(lambda x: [unidecode(y).replace('.','') for y in x])\n",
    "\n",
    "author_list = []\n",
    "for authors in researchdf.authors_list2:\n",
    "    for author in authors:\n",
    "        author_list.append(author)"
   ]
  },
  {
   "cell_type": "code",
   "execution_count": 4,
   "metadata": {
    "collapsed": true,
    "comet_cell_id": "e810677462788"
   },
   "outputs": [],
   "source": [
    "author_counts = pd.Series(author_list).value_counts()"
   ]
  },
  {
   "cell_type": "code",
   "execution_count": 155,
   "metadata": {
    "collapsed": true,
    "comet_cell_id": "01be76c6444b2"
   },
   "outputs": [],
   "source": [
    "def affiliation_fun(cell):\n",
    "    affil_list = [unidecode(y).replace('.','') for y in cell]\n",
    "    affil_list = [y[y.find(',')+2:] for y in affil_list]\n",
    "    for y in affil_list:\n",
    "        if y == 'David Wiley':\n",
    "            print affil_list\n",
    "    return affil_list\n",
    "\n",
    "researchdf['affiliation_list2'] = researchdf['author_affiliation'].map(lambda x: re.split(\"\\), \\(|\\[\\(|\\)\\]\",x)[1:-1])\n",
    "researchdf['affiliation_list2'] = researchdf['affiliation_list2'].map(affiliation_fun)\n",
    "\n",
    "    \n",
    "affiliation_list = []\n",
    "for affiliations in researchdf.affiliation_list2:\n",
    "    for affiliation in affiliations:\n",
    "        affiliation_list.append(affiliation)"
   ]
  },
  {
   "cell_type": "code",
   "execution_count": 2,
   "metadata": {
    "comet_cell_id": "b462f0eb1be8c"
   },
   "outputs": [],
   "source": [
    "university_counts = pd.Series(affiliation_list).value_counts()"
   ]
  },
  {
   "cell_type": "code",
   "execution_count": 220,
   "metadata": {
    "collapsed": true,
    "comet_cell_id": "159316379c513"
   },
   "outputs": [],
   "source": [
    "#lowercase all of the words in the title and aggregate all words into the same list\n",
    "title_word_list = []\n",
    "for words in researchdf.article_title.map(lambda x: x.split(' ')):\n",
    "    for word in words:\n",
    "        title_word_list.append(word.lower())"
   ]
  },
  {
   "cell_type": "code",
   "execution_count": 234,
   "metadata": {
    "collapsed": true,
    "comet_cell_id": "78c8612909b12"
   },
   "outputs": [],
   "source": [
    "#import stopwords to remove them from the title word counts\n",
    "from nltk.corpus import stopwords\n",
    "stop = set(stopwords.words('english'))"
   ]
  },
  {
   "cell_type": "code",
   "execution_count": 3,
   "metadata": {
    "comet_cell_id": "570ab3f563779"
   },
   "outputs": [],
   "source": [
    "#top title words in IRRODL all-time after removing stop words\n",
    "top_title_words = pd.Series(title_word_list)[~pd.Series(title_word_list).isin(stop)].value_counts()"
   ]
  },
  {
   "cell_type": "code",
   "execution_count": null,
   "metadata": {
    "collapsed": true,
    "comet_cell_id": "fd459c4eb657f"
   },
   "outputs": [],
   "source": [
    "#code to look at a specific article and try out some new parsing strategies"
   ]
  },
  {
   "cell_type": "code",
   "execution_count": 179,
   "metadata": {
    "collapsed": true,
    "comet_cell_id": "252da50b49659"
   },
   "outputs": [],
   "source": [
    "import requests\n",
    "from bs4 import BeautifulSoup\n",
    "html = requests.get('http://www.irrodl.org/index.php/irrodl/article/view/5/338')\n",
    "soup = BeautifulSoup(html.content,'lxml')"
   ]
  },
  {
   "cell_type": "code",
   "execution_count": 192,
   "metadata": {
    "comet_cell_id": "93a2d325c44cc"
   },
   "outputs": [
    {
     "data": {
      "text/plain": [
       "[u'Hilary Perraton',\n",
       " u'Director, International Research Foundation for Open Learning\\r\\n']"
      ]
     },
     "execution_count": 192,
     "metadata": {},
     "output_type": "execute_result"
    }
   ],
   "source": [
    "soup('p')[2].text.split(' \\r\\n  ')"
   ]
  },
  {
   "cell_type": "code",
   "execution_count": 12,
   "metadata": {
    "comet_cell_id": "b923cf8db8bc7"
   },
   "outputs": [
    {
     "data": {
      "text/plain": [
       "u'http://www.irrodl.org/index.php/irrodl/article/view/2844'"
      ]
     },
     "execution_count": 12,
     "metadata": {},
     "output_type": "execute_result"
    }
   ],
   "source": [
    "df.link_to_article[0]"
   ]
  },
  {
   "cell_type": "code",
   "execution_count": 14,
   "metadata": {
    "comet_cell_id": "02ae173aa65e"
   },
   "outputs": [
    {
     "data": {
      "text/plain": [
       "u' ISSN: 1492-3831 IRRODL Co-Editors: Dianne Conrad Rory McGreal Journal Content Search Search Scope All Authors Title Abstract Index terms Full Text Browse By Issue By Author By Title User Username Password Remember me Article Tools Print this article Indexing metadata How to cite item Email this article (Login required) Email the author (Login required) Information For Readers For Authors For Reviewers For Librarians Add javascript required for font sizer Font Size SUBSCRIBE TO MAILING LIST About The Author Rory McGreal Athabasca University Journal Help Open Journal Systems Home About Register Current Archives Announcements What\\'s New Resources Conferences Home > Vol 17, No 4 (2016) > McGreal html PUBLIC \"-//W3C//DTD XHTML 1.0 Strict//EN\" \"http://www.w3.org/TR/xhtml1/DTD/xhtml1-strict.dtd\" International Review of Research in Open and Distributed Learning Volume 17, Number 4 June - 2016 Editorial Rory McGreal Co-Editor, Athabasca University In this issue of IRRODL, we are catching up with many articles that have been too long in the pipeline. We have been very busy evaluating and then copyediting a very large number of submissions from many countries. As with the previous issue, this one is packed with 19 articles and a book review. We begin with three articles from Africa on access, entrepreneurship, and openness. Then the focus changes to the teacher with a critique and a look at expectations and perceptions. Learning design issues are the focus of the next group of articles, including open design and guidelines. Investigations into factors affecting learning follow, including e-readiness awareness, biography, perceptions, and multilingual facilitation. Finally, mobile learning issues are addressed in the last two articles. Chawinga and Zozie lead in this issue with their article \"Increasing Access to Higher Education Through Open and Distance Learning: Empirical Findings From Mzuzu University, Malawi.\" They explore the difficulties in opening access to a blended learning programme, using Moore\\'s Transactional Distance theory to study the benefits and challenges associated with the delivery of an ODL university programme. Amadi-Echendu, Phillips, Chodokufa, and Visser, in their paper entitled \"Entrepreneurial Education in a Tertiary Context: A Perspective of the University of South Africa,\" explore entrepreneurship at UNISA, suggesting that more entrepreneurial education can help South Africa meet its development goals. And Muganda, Samzugi and Malinson\\'s article, \"Analytical Insights on the Position, Challenges, and Potential for Promoting OER in ODeL Institutions in Africa,\" provides us with insights into the challenges and potential for promoting OER. They identify capacity building, collaboration, and visibility as enabling strategies. Teacher education is investigated by Kruger, van Rensburg, and De Witt in another African context. In their investigation entitled \"Meeting Teacher Expectations in a DL Professional Development Programme - A Case Study for Sustained Applied Competence as Programme Outcome,\" they address and compare the need to meet participant expectations for a programme. In a Turkish study entitled \"A Critical Look at a Blended English Language Teacher Education Program with an Emphasis on the Practicum,\" Koc differentiates the problems between those associated with the student teachers and those related to the programme. Learning design is the focus of the submission by Richardson, Besser, Koehler, Lim, and Strait in the US. Their study, \"Instructors\\' Perceptions of Instructor Presence in Online Learning Environments,\" shows the importance of teacher presence using various communication strategies. The appropriately- titled \"Design and Development of a Learning Design Virtual Internship Program\" is the subject of Ruggiero and Boehm\\'s paper. They argue that with the increase in the take-up of graduate courses by working adults, virtual internships are becoming more necessary. Ostuzzi, Conradie, De Couvreur, Detand, and Saldien, in their paper \"The Role of Re-appropriation in Open Design,\" use a case study to focus on re-appropriation cycles in global discussions. In the next paper, \"Guidelines for Transferring Residential Courses into Web,\" Tuzun and Cinar recommends a road map for adapting traditional courses for online delivery, describing an e-course design model. More guidelines and a checklist are provided by Radovan and Perdih in their article \"Developing Guidelines for Evaluating the Adaptation of Accessible Web-Based Learning Materials,\" specifically providing a road map for adapting content for use by students with dyslexia by focusing on the technical aspects. E-readiness is the subject of Sopu, Chisaki, and Usagawa\\'s study \"Use of Facebook by Secondary School Students at Nuku\\'alofa as an Indicator of E-Readiness for E-Learning in the Kingdom of Tonga.\" Their findings suggest that secondary students have developed e-readiness which supports their e-learning through their use of social networking. \"Effects of Group Awareness and Self-Regulation Levels on Online Learning Behaviors\" by Lin, Szu, and Lai shows how these effects can impact student participation. Similarly, Botha and Coetzee in their paper, \"The Influence of Biographical Factors on Adult Learner Self-Directedness in an Open Distance Learning Environment,\" investigated self-direction in e-learning, adding the variable of biographical factors (age, race, gender) and revealing significant differences. Yet another factor, namely student perceptions of service quality, was investigated by Martinez-Arguelles and Batalla-Busquets in their paper \"Perceived Service Quality and Student Loyalty in an Online University.\" They expanded their study beyond teaching to include perceptions of administrative and auxiliary services. Their research suggests that the management of service quality is important in ensuring student retention. Colas, Sloep, and Garreta-Domingo\\'s submission \"The Effect of Multilingual Facilitation on Active Participation in MOOCs\" identifies the use of the native language for discussions in English language courses as a critical factor in supporting social dynamics. Instructional environments and learner traits in relation to learning outcomes is the subject of Lim, Park, and Kang\\'s study \"Structural Relationships of Environments, Individuals, and Learning Outcomes in Korean Online University Settings,\" which reveals significant functional connections among several learner traits. Sarrab, Al Shibli, and Badursha\\'s paper, \"An Empirical Study of Factors Driving the Adoption of Mobile Learning in Omani Higher Education,\" introduces empirical factors supporting the adoption of mobile learning. Using the Technology Acceptance Model, they identified the following factors as influencing learners\\' adoption of m-learning: ease of use, usefulness, enjoyment, suitability, and social and economic background. In the last paper of this issue, \"Using the mTSES to Evaluate and Optimize mLearning Professional Development,\" Power, Cristo, Gimbert, Bartoletti, and Kilgore examine self-efficacy in mobile learning, pointing out the usefulness of the scale for planning and evaluation in professional development training for teachers. This issue also includes a book review on networked learning. Once again, I hope you find personally useful content in this issue. Please share with your friends and colleagues. IRRODL is an open access journal - it can be shared. We want to ensure that as many readers as possible get the opportunity. Editorial by Rory McGreal is licensed under a Creative Commons Attribution 4.0 International License . start AddThis end AddThis Google Analytics /Google Analytics ISSN: 1492-3831 content main body container '"
      ]
     },
     "execution_count": 14,
     "metadata": {},
     "output_type": "execute_result"
    }
   ],
   "source": [
    "#word_cloud text\n",
    "df.article_text[0]"
   ]
  },
  {
   "cell_type": "code",
   "execution_count": null,
   "metadata": {
    "collapsed": true,
    "comet_cell_id": "75f2d1a3ff87"
   },
   "outputs": [],
   "source": []
  },
  {
   "cell_type": "code",
   "execution_count": null,
   "metadata": {
    "collapsed": true,
    "comet_cell_id": "c712db5d27fc2"
   },
   "outputs": [],
   "source": []
  }
 ],
 "metadata": {
  "comet_paths": [
   [
    "0a21c2a4\\IRRODL Scraper.ipynb",
    1526077092603
   ]
  ],
  "comet_tracking": true,
  "kernelspec": {
   "display_name": "Python [default]",
   "language": "python",
   "name": "python3"
  },
  "language_info": {
   "codemirror_mode": {
    "name": "ipython",
    "version": 3
   },
   "file_extension": ".py",
   "mimetype": "text/x-python",
   "name": "python",
   "nbconvert_exporter": "python",
   "pygments_lexer": "ipython3",
   "version": "3.6.1"
  }
 },
 "nbformat": 4,
 "nbformat_minor": 1
}
