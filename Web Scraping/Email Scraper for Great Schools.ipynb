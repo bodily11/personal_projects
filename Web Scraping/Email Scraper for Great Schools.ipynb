{
 "cells": [
  {
   "cell_type": "code",
   "execution_count": 1,
   "metadata": {
    "collapsed": true,
    "comet_cell_id": "ef9b0b16de722"
   },
   "outputs": [],
   "source": [
    "import requests as r\n",
    "response = r.get('https://www.greatschools.org/schools/cities/Utah/UT/')"
   ]
  },
  {
   "cell_type": "code",
   "execution_count": 8,
   "metadata": {
    "comet_cell_id": "745a891b17eb6"
   },
   "outputs": [],
   "source": [
    "from bs4 import BeautifulSoup as BS\n",
    "soup = BS(response.text,\"lxml\")"
   ]
  },
  {
   "cell_type": "code",
   "execution_count": 13,
   "metadata": {
    "comet_cell_id": "fb13b04db150e"
   },
   "outputs": [],
   "source": [
    "city_links = soup.findAll(class_=\"city-district-link\")"
   ]
  },
  {
   "cell_type": "code",
   "execution_count": 26,
   "metadata": {
    "comet_cell_id": "11dd43cd9ccb2"
   },
   "outputs": [],
   "source": [
    "cities = []\n",
    "for city in city_links:\n",
    "    cities.append(city.find('a')['href'] + 'schools')"
   ]
  },
  {
   "cell_type": "code",
   "execution_count": 31,
   "metadata": {
    "comet_cell_id": "db88bb772b5f7"
   },
   "outputs": [],
   "source": [
    "city = cities[3]\n",
    "#for city in cities:"
   ]
  },
  {
   "cell_type": "code",
   "execution_count": 144,
   "metadata": {
    "comet_cell_id": "a2827a8e5ad3a"
   },
   "outputs": [],
   "source": [
    "import time\n",
    "page_number = 1\n",
    "school_links = []\n",
    "\n",
    "response2 = r.get(city + '/?page={}'.format(page_number))\n",
    "soup2 = BS(response2.text,\"lxml\")\n",
    "schools = soup2.findAll(class_ = \"school-info\")\n",
    "for school in schools:\n",
    "    grade_level = school.findAll(class_ = 'fl')[-1].text\n",
    "    if '12' in grade_level:\n",
    "        school_name = school.findAll(class_=\"rs-schoolName\")\n",
    "        school_links.append('https://www.greatschools.org' + school_name[0]['href'])\n",
    "page_number += 1\n",
    "time.sleep(1)\n",
    "\n",
    "while 'did not return any results' not in response2.text:\n",
    "    response2 = r.get(city + '/?page={}'.format(page_number))\n",
    "    soup2 = BS(response2.text,\"lxml\")\n",
    "    schools = soup2.findAll(class_ = \"school-info\")\n",
    "    for school in schools:\n",
    "        grade_level = school.findAll(class_ = 'fl')[-1].text\n",
    "        if '12' in grade_level:\n",
    "            school_name = school.findAll(class_=\"rs-schoolName\")\n",
    "            school_links.append('https://www.greatschools.org' + school_name[0]['href'])\n",
    "    page_number += 1\n",
    "    time.sleep(1)\n",
    "\n",
    "school_links = set(school_links)"
   ]
  },
  {
   "cell_type": "code",
   "execution_count": 150,
   "metadata": {
    "comet_cell_id": "034f9dceba9ba"
   },
   "outputs": [],
   "source": [
    "school_link = list(school_links)[0]"
   ]
  },
  {
   "cell_type": "code",
   "execution_count": 152,
   "metadata": {
    "comet_cell_id": "498101ecbfdd1"
   },
   "outputs": [],
   "source": [
    "response3 = r.get(school_link)"
   ]
  },
  {
   "cell_type": "code",
   "execution_count": 155,
   "metadata": {
    "comet_cell_id": "22b78d9ede671"
   },
   "outputs": [],
   "source": [
    "soup3 = BS(response3.text,\"lxml\")"
   ]
  },
  {
   "cell_type": "code",
   "execution_count": 172,
   "metadata": {
    "comet_cell_id": "4095694b6942a"
   },
   "outputs": [],
   "source": [
    "population = soup3.findAll(class_ = 'label', string='Students')[0].parent.text.split('\\n')[2]"
   ]
  },
  {
   "cell_type": "code",
   "execution_count": 192,
   "metadata": {
    "comet_cell_id": "b1a9325d52c6f"
   },
   "outputs": [],
   "source": [
    "ethnicities = soup3.findAll(class_=\"legend-title\")\n",
    "ethnicity = []\n",
    "for x in range(int(len(ethnicities)/2)):\n",
    "    name = ethnicities[2*x].text\n",
    "    value = ethnicities[2*x+1].text\n",
    "    ethnicity.append({\n",
    "        'name':name,\n",
    "        'value':value\n",
    "    })"
   ]
  },
  {
   "cell_type": "code",
   "execution_count": 248,
   "metadata": {
    "comet_cell_id": "dfc8fb05ca265"
   },
   "outputs": [
    {
     "data": {
      "text/plain": [
       "'\\nSubject\\n\\n% Proficient\\n'"
      ]
     },
     "execution_count": 248,
     "metadata": {},
     "output_type": "execute_result"
    }
   ],
   "source": [
    "#never got free and reduced lunch to work...\n",
    "soup3.findAll('div', class_ = 'test-score-container clearfix')[0].text"
   ]
  }
 ],
 "metadata": {
  "comet_paths": [
   [
    "0a21c2a4\\GreatSchoolsWebScraper.ipynb",
    1510937128033
   ]
  ],
  "comet_tracking": true,
  "kernelspec": {
   "display_name": "Python [default]",
   "language": "python",
   "name": "python3"
  },
  "language_info": {
   "codemirror_mode": {
    "name": "ipython",
    "version": 3
   },
   "file_extension": ".py",
   "mimetype": "text/x-python",
   "name": "python",
   "nbconvert_exporter": "python",
   "pygments_lexer": "ipython3",
   "version": "3.6.1"
  }
 },
 "nbformat": 4,
 "nbformat_minor": 2
}
