{
 "cells": [
  {
   "cell_type": "code",
   "execution_count": 1,
   "metadata": {
    "collapsed": true,
    "comet_cell_id": "59e27876e86f9"
   },
   "outputs": [],
   "source": [
    "import requests as r\n",
    "headers = {'User-Agent': 'Mozilla/5.0 (Macintosh; Intel Mac OS X 10_10_1) AppleWebKit/537.36 (KHTML, like Gecko) Chrome/39.0.2171.95 Safari/537.36'}\n",
    "\n",
    "url = 'https://scholar.google.com/citations?user=8QxiFAwAAAAJ&hl=en'\n",
    "\n",
    "all_results = '&cstart=0&pagesize=100'\n",
    "url = url + all_results\n",
    "response = r.post(url, headers=headers)"
   ]
  },
  {
   "cell_type": "code",
   "execution_count": 2,
   "metadata": {
    "collapsed": true,
    "comet_cell_id": "38dfb62481fbf"
   },
   "outputs": [],
   "source": [
    "from bs4 import BeautifulSoup as Soup\n",
    "soup = Soup(response.text,\"lxml\")"
   ]
  },
  {
   "cell_type": "code",
   "execution_count": 3,
   "metadata": {
    "collapsed": true,
    "comet_cell_id": "bd740b3efce9d"
   },
   "outputs": [],
   "source": [
    "mydivs = soup.findAll('tr',class_=\"gsc_a_tr\")"
   ]
  },
  {
   "cell_type": "code",
   "execution_count": 4,
   "metadata": {
    "collapsed": true,
    "comet_cell_id": "3bce8b9a694a5"
   },
   "outputs": [],
   "source": [
    "all_articles = []\n",
    "for div in mydivs:\n",
    "    article_title = div.findAll('a', class_=\"gsc_a_at\")[0].text\n",
    "    authors = div.findAll('div', class_=\"gs_gray\")[0].text\n",
    "    venue = div.findAll('div', class_=\"gs_gray\")[1].text\n",
    "    articlesCiting = div.findAll(class_=\"gsc_a_ac\")[0]['href']\n",
    "    citations = div.findAll(class_=\"gsc_a_ac\")[0].text\n",
    "    year = div.findAll(class_=\"gsc_a_h\")[0].text\n",
    "    \n",
    "    all_articles.append({\n",
    "        'article_title':article_title,\n",
    "        'authors':authors,\n",
    "        'venue':venue,\n",
    "        'articlesCiting':articlesCiting,\n",
    "        'citations':citations,\n",
    "        'year':year\n",
    "    })"
   ]
  },
  {
   "cell_type": "code",
   "execution_count": 5,
   "metadata": {
    "collapsed": true,
    "comet_cell_id": "82f9daf3d5e6b"
   },
   "outputs": [],
   "source": [
    "import pandas as pd\n",
    "df = pd.DataFrame(all_articles)"
   ]
  },
  {
   "cell_type": "code",
   "execution_count": 6,
   "metadata": {
    "collapsed": true,
    "comet_cell_id": "c46f4b038def9"
   },
   "outputs": [],
   "source": [
    "citation_count = df[df.citations != ''].citations.astype(int).sum()"
   ]
  },
  {
   "cell_type": "code",
   "execution_count": 7,
   "metadata": {
    "comet_cell_id": "61bebb47d271e"
   },
   "outputs": [
    {
     "data": {
      "text/plain": [
       "699"
      ]
     },
     "execution_count": 7,
     "metadata": {},
     "output_type": "execute_result"
    }
   ],
   "source": [
    "#OUTPUT\n",
    "citation_count"
   ]
  },
  {
   "cell_type": "code",
   "execution_count": 8,
   "metadata": {
    "collapsed": true,
    "comet_cell_id": "1c103d01a7405"
   },
   "outputs": [],
   "source": [
    "def parse_venue(cell):\n",
    "    import re\n",
    "    testspans = [x.span() for x in re.finditer(r' [0-9]',cell)]\n",
    "    testspans2 = [x.span() for x in re.finditer(r'\\, [0-9]',cell)]\n",
    "    if len(testspans) == 0 and len(testspans2) == 0:\n",
    "        return cell\n",
    "    else:\n",
    "        if testspans[0][0] <= testspans2[0][0]:\n",
    "            testspan = testspans[0]\n",
    "        else:\n",
    "            testspan = testspans2[0]\n",
    "        new_venue = cell[:testspan[0]]\n",
    "        return new_venue\n",
    "df['parsed_venue'] = df.venue.map(parse_venue)"
   ]
  },
  {
   "cell_type": "code",
   "execution_count": 9,
   "metadata": {
    "collapsed": true,
    "comet_cell_id": "d8b3c9b9368c3"
   },
   "outputs": [],
   "source": [
    "top_publication_venues = df[df.parsed_venue != ''].parsed_venue.value_counts()[:10]"
   ]
  },
  {
   "cell_type": "code",
   "execution_count": 10,
   "metadata": {
    "comet_cell_id": "1b6d32a828ad7"
   },
   "outputs": [
    {
     "data": {
      "text/plain": [
       "International Conference on Artificial Intelligence in Education             9\n",
       "Educational Data Mining                                                      9\n",
       "Adaptive Educational Technologies for Literacy Instruction                   6\n",
       "FLAIRS Conference                                                            4\n",
       "Proceedings of the                                                           4\n",
       "International Journal of Artificial Intelligence in Education                3\n",
       "Discourse Processes                                                          2\n",
       "International Educational Data Mining Society                                2\n",
       "Arizona State University                                                     2\n",
       "Proceedings of the Seventh International Learning Analytics & Knowledge …    2\n",
       "Name: parsed_venue, dtype: int64"
      ]
     },
     "execution_count": 10,
     "metadata": {},
     "output_type": "execute_result"
    }
   ],
   "source": [
    "#OUTPUT\n",
    "top_publication_venues"
   ]
  },
  {
   "cell_type": "code",
   "execution_count": 11,
   "metadata": {
    "collapsed": true,
    "comet_cell_id": "60bce9bc15c49"
   },
   "outputs": [],
   "source": [
    "title_text = ''\n",
    "for title in df.article_title:\n",
    "    title_text = title_text.lower() + ' ' + title"
   ]
  },
  {
   "cell_type": "code",
   "execution_count": 12,
   "metadata": {
    "collapsed": true,
    "comet_cell_id": "307e83b812c43"
   },
   "outputs": [],
   "source": [
    "dashes = title_text.count('-') / df.article_title.count()"
   ]
  },
  {
   "cell_type": "code",
   "execution_count": 13,
   "metadata": {
    "comet_cell_id": "2b347c98a31a2"
   },
   "outputs": [
    {
     "data": {
      "text/plain": [
       "0.26000000000000001"
      ]
     },
     "execution_count": 13,
     "metadata": {},
     "output_type": "execute_result"
    }
   ],
   "source": [
    "#OUTPUT\n",
    "dashes"
   ]
  },
  {
   "cell_type": "code",
   "execution_count": 14,
   "metadata": {
    "collapsed": true,
    "comet_cell_id": "dca3b4103c335"
   },
   "outputs": [],
   "source": [
    "questionmarks = title_text.count('?') / df.article_title.count()"
   ]
  },
  {
   "cell_type": "code",
   "execution_count": 15,
   "metadata": {
    "comet_cell_id": "19fc3ead1a1f2"
   },
   "outputs": [
    {
     "data": {
      "text/plain": [
       "0.080000000000000002"
      ]
     },
     "execution_count": 15,
     "metadata": {},
     "output_type": "execute_result"
    }
   ],
   "source": [
    "#OUTPUT\n",
    "questionmarks"
   ]
  },
  {
   "cell_type": "code",
   "execution_count": 16,
   "metadata": {
    "collapsed": true,
    "comet_cell_id": "57809bcf510d9"
   },
   "outputs": [],
   "source": [
    "semicolons = title_text.count(':') / df.article_title.count()"
   ]
  },
  {
   "cell_type": "code",
   "execution_count": 17,
   "metadata": {
    "comet_cell_id": "52d75eb75d538"
   },
   "outputs": [
    {
     "data": {
      "text/plain": [
       "0.41999999999999998"
      ]
     },
     "execution_count": 17,
     "metadata": {},
     "output_type": "execute_result"
    }
   ],
   "source": [
    "#OUTPUT\n",
    "semicolons"
   ]
  },
  {
   "cell_type": "code",
   "execution_count": 18,
   "metadata": {
    "collapsed": true,
    "comet_cell_id": "f26ede548900e"
   },
   "outputs": [],
   "source": [
    "import string\n",
    "for punct in string.punctuation:\n",
    "    title_text = title_text.replace(punct,'')"
   ]
  },
  {
   "cell_type": "code",
   "execution_count": 19,
   "metadata": {
    "collapsed": true,
    "comet_cell_id": "1b069fd36161"
   },
   "outputs": [],
   "source": [
    "list_titles = title_text.split(' ')"
   ]
  },
  {
   "cell_type": "code",
   "execution_count": 20,
   "metadata": {
    "collapsed": true,
    "comet_cell_id": "5fdc017b9ff78"
   },
   "outputs": [],
   "source": [
    "from nltk.corpus import stopwords"
   ]
  },
  {
   "cell_type": "code",
   "execution_count": 21,
   "metadata": {
    "collapsed": true,
    "comet_cell_id": "17053d6701522"
   },
   "outputs": [],
   "source": [
    "stopwords = stopwords.words(\"english\")\n",
    "stopwords.append('')\n",
    "stopwords.append(' ')"
   ]
  },
  {
   "cell_type": "code",
   "execution_count": 22,
   "metadata": {
    "collapsed": true,
    "comet_cell_id": "b1194caa2d0fa"
   },
   "outputs": [],
   "source": [
    "list_titles = [x for x in list_titles if x not in stopwords]"
   ]
  },
  {
   "cell_type": "code",
   "execution_count": 23,
   "metadata": {
    "collapsed": true,
    "comet_cell_id": "0a5316e0bd129"
   },
   "outputs": [],
   "source": [
    "text = ' '.join(list_titles)"
   ]
  },
  {
   "cell_type": "code",
   "execution_count": 24,
   "metadata": {
    "comet_cell_id": "dd543b09e7f7"
   },
   "outputs": [
    {
     "data": {
      "image/png": "[encoded data removed]",
      "text/plain": [
       "<matplotlib.figure.Figure at 0x2452db53b00>"
      ]
     },
     "metadata": {},
     "output_type": "display_data"
    }
   ],
   "source": [
    "%matplotlib inline\n",
    "from os import path\n",
    "from wordcloud import WordCloud\n",
    "\n",
    "# Generate a word cloud image\n",
    "wordcloud = WordCloud().generate(text)\n",
    "\n",
    "# Display the generated image:\n",
    "# the matplotlib way:\n",
    "import matplotlib.pyplot as plt\n",
    "# plt.imshow(wordcloud, interpolation='bilinear')\n",
    "# plt.axis(\"off\")\n",
    "\n",
    "# lower max_font_size\n",
    "wordcloud = WordCloud(min_font_size=9).generate(text)\n",
    "plt.figure()\n",
    "plt.imshow(wordcloud, interpolation=\"bilinear\")\n",
    "plt.axis(\"off\")\n",
    "plt.show()\n",
    "#OUTPUT"
   ]
  },
  {
   "cell_type": "code",
   "execution_count": 25,
   "metadata": {
    "collapsed": true,
    "comet_cell_id": "042c206657258"
   },
   "outputs": [],
   "source": [
    "def parse_authors(cell):\n",
    "    if ',' in cell:\n",
    "        authors = cell.split(', ')\n",
    "    else:\n",
    "        authors = [cell]\n",
    "    return authors\n",
    "df['parsed_authors'] = df.authors.map(parse_authors)"
   ]
  },
  {
   "cell_type": "code",
   "execution_count": 26,
   "metadata": {
    "collapsed": true,
    "comet_cell_id": "b8f7e8e1e1a42"
   },
   "outputs": [],
   "source": [
    "top_collaborators = pd.Series([st for row in df.parsed_authors for st in row])"
   ]
  },
  {
   "cell_type": "code",
   "execution_count": 28,
   "metadata": {
    "comet_cell_id": "84df06640347d"
   },
   "outputs": [
    {
     "data": {
      "text/plain": [
       "DS McNamara    72\n",
       "LK Allen       60\n",
       "EL Snow        26\n",
       "SA Crossley    19\n",
       "ME Jacovina    15\n",
       "L Allen        14\n",
       "RD Roscoe      14\n",
       "LK Varner      13\n",
       "GT Jackson     12\n",
       "...             9\n",
       "dtype: int64"
      ]
     },
     "execution_count": 28,
     "metadata": {},
     "output_type": "execute_result"
    }
   ],
   "source": [
    "#OUTPUT\n",
    "top_collaborators.value_counts()[0:][:10]"
   ]
  },
  {
   "cell_type": "code",
   "execution_count": 29,
   "metadata": {
    "collapsed": true,
    "comet_cell_id": "51885d0cf2f44"
   },
   "outputs": [],
   "source": [
    "unique_collaborators = top_collaborators.value_counts().count()"
   ]
  },
  {
   "cell_type": "code",
   "execution_count": 30,
   "metadata": {
    "comet_cell_id": "ba649816c37af"
   },
   "outputs": [
    {
     "data": {
      "text/plain": [
       "87"
      ]
     },
     "execution_count": 30,
     "metadata": {},
     "output_type": "execute_result"
    }
   ],
   "source": [
    "#OUTPUT\n",
    "unique_collaborators"
   ]
  },
  {
   "cell_type": "code",
   "execution_count": 31,
   "metadata": {
    "collapsed": true,
    "comet_cell_id": "05e3b5bbbd73d"
   },
   "outputs": [],
   "source": [
    "temp2 = df[df.year != ''].copy()"
   ]
  },
  {
   "cell_type": "code",
   "execution_count": 32,
   "metadata": {
    "collapsed": true,
    "comet_cell_id": "f8407c9a402c3"
   },
   "outputs": [],
   "source": [
    "temp = temp2.copy()"
   ]
  },
  {
   "cell_type": "code",
   "execution_count": 33,
   "metadata": {
    "collapsed": true,
    "comet_cell_id": "dcb203db87c41"
   },
   "outputs": [],
   "source": [
    "temp.year = temp.year.astype(int)"
   ]
  },
  {
   "cell_type": "code",
   "execution_count": 34,
   "metadata": {
    "collapsed": true,
    "comet_cell_id": "2399097ae1c5b"
   },
   "outputs": [],
   "source": [
    "temp = pd.DataFrame(temp.year.value_counts())"
   ]
  },
  {
   "cell_type": "code",
   "execution_count": 35,
   "metadata": {
    "collapsed": true,
    "comet_cell_id": "2370983888cee"
   },
   "outputs": [],
   "source": [
    "temp['year2'] = temp.index"
   ]
  },
  {
   "cell_type": "code",
   "execution_count": 36,
   "metadata": {
    "collapsed": true,
    "comet_cell_id": "b2f1c765477de"
   },
   "outputs": [],
   "source": [
    "temp.rename(columns={'year':'count','year2':'year'},inplace=True)"
   ]
  },
  {
   "cell_type": "code",
   "execution_count": 37,
   "metadata": {
    "collapsed": true,
    "comet_cell_id": "40650d9ad6a0b"
   },
   "outputs": [],
   "source": [
    "temp.reset_index(inplace=True,drop=True)"
   ]
  },
  {
   "cell_type": "code",
   "execution_count": 38,
   "metadata": {
    "collapsed": true,
    "comet_cell_id": "98c9a6e1074b6"
   },
   "outputs": [],
   "source": [
    "temp = temp.sort_values('year',ascending=True)"
   ]
  },
  {
   "cell_type": "code",
   "execution_count": 39,
   "metadata": {
    "comet_cell_id": "570685fa7495e"
   },
   "outputs": [
    {
     "data": {
      "text/plain": [
       "[<matplotlib.lines.Line2D at 0x2452dd79748>]"
      ]
     },
     "execution_count": 39,
     "metadata": {},
     "output_type": "execute_result"
    },
    {
     "data": {
      "image/png": "[encoded data removed]",
      "text/plain": [
       "<matplotlib.figure.Figure at 0x2452dcf2940>"
      ]
     },
     "metadata": {},
     "output_type": "display_data"
    }
   ],
   "source": [
    "plt.plot(temp['year'],temp['count'])\n",
    "#Articles Published Over Time\n",
    "#OUTPUT"
   ]
  },
  {
   "cell_type": "code",
   "execution_count": 40,
   "metadata": {
    "comet_cell_id": "312f3ed525989"
   },
   "outputs": [
    {
     "data": {
      "text/plain": [
       "<matplotlib.axes._subplots.AxesSubplot at 0x2452dd42278>"
      ]
     },
     "execution_count": 40,
     "metadata": {},
     "output_type": "execute_result"
    },
    {
     "data": {
      "image/png": "[encoded data removed]",
      "text/plain": [
       "<matplotlib.figure.Figure at 0x2452ddaaa58>"
      ]
     },
     "metadata": {},
     "output_type": "display_data"
    }
   ],
   "source": [
    "temp3 = temp2[temp2.citations != ''].copy()\n",
    "temp3['citations'] = temp3.citations.astype(int)\n",
    "temp3.groupby('year').sum()['citations'].plot()\n",
    "#Citations Received on Articles Published Over Time\n",
    "#OUTPUT"
   ]
  }
 ],
 "metadata": {
  "comet_paths": [
   [
    "0a21c2a4\\Google Scholar profile analysis.ipynb",
    1526076913968
   ]
  ],
  "comet_tracking": true,
  "kernelspec": {
   "display_name": "Python [default]",
   "language": "python",
   "name": "python3"
  },
  "language_info": {
   "codemirror_mode": {
    "name": "ipython",
    "version": 3
   },
   "file_extension": ".py",
   "mimetype": "text/x-python",
   "name": "python",
   "nbconvert_exporter": "python",
   "pygments_lexer": "ipython3",
   "version": "3.6.1"
  }
 },
 "nbformat": 4,
 "nbformat_minor": 2
}
