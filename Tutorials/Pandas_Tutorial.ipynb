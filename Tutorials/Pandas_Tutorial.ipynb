{
 "cells": [
  {
   "cell_type": "markdown",
   "metadata": {
    "comet_cell_id": "735aedf6bb38a"
   },
   "source": [
    "# Pandas Tutorial Information\n",
    "\n",
    "* Awesome pandas tutorials already exist here: http://pandas.pydata.org/pandas-docs/stable/tutorials.html"
   ]
  },
  {
   "cell_type": "code",
   "execution_count": 2,
   "metadata": {
    "collapsed": true,
    "comet_cell_id": "cce43d02f3ea1"
   },
   "outputs": [],
   "source": [
    "import pandas as pd\n",
    "#because data have mixed types, we have to use low_memory=False to avoid getting a DtypeWarning\n",
    "df = pd.read_csv('AdvancedPandasTutorial.csv',low_memory=False)"
   ]
  },
  {
   "cell_type": "code",
   "execution_count": 12,
   "metadata": {
    "collapsed": true,
    "comet_cell_id": "ab5accc3a07"
   },
   "outputs": [],
   "source": [
    "import matplotlib\n",
    "%matplotlib inline"
   ]
  },
  {
   "cell_type": "code",
   "execution_count": 15,
   "metadata": {
    "comet_cell_id": "79d696b3f23f7"
   },
   "outputs": [
    {
     "data": {
      "text/plain": [
       "<matplotlib.axes._subplots.AxesSubplot at 0xf0b4e80>"
      ]
     },
     "execution_count": 15,
     "metadata": {},
     "output_type": "execute_result"
    },
    {
     "data": {
      "image/png": "[encoded data removed]",
      "text/plain": [
       "<matplotlib.figure.Figure at 0x46b0860>"
      ]
     },
     "metadata": {},
     "output_type": "display_data"
    }
   ],
   "source": [
    "df.verb.value_counts().hist()"
   ]
  },
  {
   "cell_type": "code",
   "execution_count": 2,
   "metadata": {
    "comet_cell_id": "82568683a7cdf"
   },
   "outputs": [
    {
     "data": {
      "text/plain": [
       "Index([u'answer_given', u'assessment', u'completed', u'confidence_level',\n",
       "       u'correct', u'duration', u'email', u'launch_referrer', u'name',\n",
       "       u'navigation_method', u'newTime', u'object', u'objectid', u'oldTime',\n",
       "       u'playRate', u'playerTime', u'question_type', u'score', u'timestamp',\n",
       "       u'verb', u'videoID', u'videoName', u'volume'],\n",
       "      dtype='object')"
      ]
     },
     "execution_count": 2,
     "metadata": {},
     "output_type": "execute_result"
    }
   ],
   "source": [
    "df.columns"
   ]
  },
  {
   "cell_type": "markdown",
   "metadata": {
    "comet_cell_id": "6ad29303ce0d1"
   },
   "source": [
    "### Column descriptions\n",
    "* answer_given is the actual answer provided by the student on a quiz\n",
    "* assessment is the quizID\n",
    "* completed is True when the quiz was submitted successfully\n",
    "* confidence_level is the confidence in answer as 0, 1, 2 (2 being confident)\n",
    "* correct is whether the answer attempt was correct\n",
    "* duration is the time it took the student to take the quiz\n",
    "* email is the students email replaced by a studentID\n",
    "* launch_referrer does not contain information\n",
    "* name is the student name replaced by a studentID (same as email)\n",
    "* navigation_method is for attempted verbs and contains information regarding how a \n",
    "   * student moved through the quiz, next, previous, etc.\n",
    "* newTime is for jumped video events and is the time in the video where students jump to\n",
    "* oldTime is for jumped video events and is the time in the video where students jump from\n",
    "* object is the name of the object the student is interacting with (quiz question, video, etc)\n",
    "* objectID is the ID for the object\n",
    "* score is the students score on a quiz\n",
    "* timestamp is when the event occurred\n",
    "* verb is the action that was taken by the student\n",
    "* videoID is a unique video identifier\n",
    "* volume is the volume level changed to by a student in a video\n",
    "* playRate is the rate of playback changed to by a student in a video"
   ]
  },
  {
   "cell_type": "markdown",
   "metadata": {
    "comet_cell_id": "0f3945aebe40e"
   },
   "source": [
    "### Verb Definitions\n",
    "* watched: every 10 seconds a student is watching a video at each video time divisible by 10 (10s, 20s, etc.)\n",
    "* answered: answers a question\n",
    "* attempted: navigates between questions\n",
    "* played: clicks play in a video\n",
    "* suspended: goes to a different tab when taking a quiz\n",
    "* paused: clicks pause in a video \n",
    "* jumped: scrubs, or skips forward or backward in a video\n",
    "* started: starts a video\n",
    "* ended: ends a video\n",
    "* launched: starts a quiz\n",
    "* completed: finishes a quiz\n",
    "* showed_answer: clicked show answer to see the answer\n",
    "* changed_playrate: changed the playrate of the video\n",
    "* clicked: clicked in the student dashboard\n",
    "* showed_hint: clicked show hint to see a hint\n",
    "* minimized: minized the video after maximizing it\n",
    "* changed_volume: changed the volume of the video\n",
    "* exited: not a real event anymore"
   ]
  },
  {
   "cell_type": "code",
   "execution_count": null,
   "metadata": {
    "collapsed": true,
    "comet_cell_id": "aea5cbf6b6193"
   },
   "outputs": [],
   "source": []
  },
  {
   "cell_type": "markdown",
   "metadata": {
    "comet_cell_id": "98943208d7975"
   },
   "source": [
    "### Question 1\n",
    "What percentage of total events happened between October 1st 2015 and November 1st 2015?"
   ]
  },
  {
   "cell_type": "code",
   "execution_count": 3,
   "metadata": {
    "collapsed": true,
    "comet_cell_id": "545cbb52abfa7"
   },
   "outputs": [],
   "source": [
    "df.timestamp = pd.to_datetime(df.timestamp)"
   ]
  },
  {
   "cell_type": "code",
   "execution_count": 4,
   "metadata": {
    "collapsed": true,
    "comet_cell_id": "dbb02628f7025"
   },
   "outputs": [],
   "source": [
    "start = pd.to_datetime('10/1/2015')\n",
    "end = pd.to_datetime('11/1/2015')"
   ]
  },
  {
   "cell_type": "code",
   "execution_count": 5,
   "metadata": {
    "comet_cell_id": "66fcf4365df3f"
   },
   "outputs": [
    {
     "data": {
      "text/plain": [
       "(0.33710331108130981, 'answer')"
      ]
     },
     "execution_count": 5,
     "metadata": {},
     "output_type": "execute_result"
    }
   ],
   "source": [
    "df[(df.timestamp < end)&(df.timestamp > start)].count()['email'] / float(df.count()['email']), 'answer'"
   ]
  },
  {
   "cell_type": "markdown",
   "metadata": {
    "comet_cell_id": "6499e44aeac02"
   },
   "source": [
    "### Question 2\n",
    "Print out a list of the number of total click events for every student in the data set"
   ]
  },
  {
   "cell_type": "code",
   "execution_count": 6,
   "metadata": {
    "collapsed": true,
    "comet_cell_id": "b1c2ec1c2cbd8"
   },
   "outputs": [
    {
     "data": {
      "text/plain": [
       "name\n",
       "0      4312\n",
       "1      4608\n",
       "2      4183\n",
       "3      7270\n",
       "4      1262\n",
       "5         4\n",
       "6      1677\n",
       "7      4137\n",
       "8      4125\n",
       "9         3\n",
       "10     6498\n",
       "11     1808\n",
       "12        3\n",
       "13     3790\n",
       "14     3260\n",
       "15     3921\n",
       "16     2842\n",
       "17     5157\n",
       "18     2888\n",
       "19     4997\n",
       "20     2560\n",
       "21     3125\n",
       "22     3724\n",
       "23     4483\n",
       "24     2739\n",
       "25     5642\n",
       "26        4\n",
       "27     2314\n",
       "28     1314\n",
       "29     1905\n",
       "       ... \n",
       "198    6350\n",
       "199    1100\n",
       "200    1421\n",
       "201     212\n",
       "202     530\n",
       "203     686\n",
       "204    1293\n",
       "205    1743\n",
       "206     550\n",
       "207    1193\n",
       "208     539\n",
       "209     538\n",
       "210     971\n",
       "211    1480\n",
       "212    1387\n",
       "213     160\n",
       "214    1285\n",
       "215     340\n",
       "216    2911\n",
       "217    1118\n",
       "218     165\n",
       "219    1686\n",
       "220    1386\n",
       "221     838\n",
       "222     978\n",
       "223     651\n",
       "224     966\n",
       "225    1175\n",
       "226    1006\n",
       "227    2198\n",
       "Name: email, dtype: int64"
      ]
     },
     "execution_count": 6,
     "metadata": {},
     "output_type": "execute_result"
    }
   ],
   "source": [
    "df.groupby('name').count()['email']"
   ]
  },
  {
   "cell_type": "markdown",
   "metadata": {
    "comet_cell_id": "f4023f3371f9"
   },
   "source": [
    "### Question 3\n",
    "Use a list within a groupby function groupby(['item 1','item 2']) to figure out how many people got an answer correct and incorrect with a confidence level of 2, 1, and 0. Don't forget to specify the function to use"
   ]
  },
  {
   "cell_type": "code",
   "execution_count": 7,
   "metadata": {
    "comet_cell_id": "df8b370be260a"
   },
   "outputs": [
    {
     "data": {
      "text/plain": [
       "(correct  confidence_level\n",
       " False    high                 7292\n",
       "          low                  5159\n",
       "          medium              11865\n",
       " True     high                15849\n",
       "          low                  2638\n",
       "          medium              13408\n",
       " Name: email, dtype: int64, 'answer')"
      ]
     },
     "execution_count": 7,
     "metadata": {},
     "output_type": "execute_result"
    }
   ],
   "source": [
    "df.groupby(['correct','confidence_level']).count()['email'], 'answer'"
   ]
  },
  {
   "cell_type": "markdown",
   "metadata": {
    "comet_cell_id": "c50a2a2cdf287"
   },
   "source": [
    "### Question 4\n",
    "* Select only the jumped events in the data set\n",
    "* Of these events, how many are forward, how many are backward, and how many jump to the same spot?"
   ]
  },
  {
   "cell_type": "code",
   "execution_count": 8,
   "metadata": {
    "collapsed": true,
    "comet_cell_id": "feb847cd88d22"
   },
   "outputs": [],
   "source": [
    "temp = df[df.verb == 'jumped'].copy()\n",
    "temp['time_difference'] = temp['oldTime'] - temp['newTime']"
   ]
  },
  {
   "cell_type": "code",
   "execution_count": 9,
   "metadata": {
    "comet_cell_id": "fda5f286f9377"
   },
   "outputs": [
    {
     "data": {
      "text/plain": [
       "(8364, 'backwards')"
      ]
     },
     "execution_count": 9,
     "metadata": {},
     "output_type": "execute_result"
    }
   ],
   "source": [
    "temp[temp.time_difference > 0].count()['email'], 'backwards'"
   ]
  },
  {
   "cell_type": "code",
   "execution_count": 10,
   "metadata": {
    "comet_cell_id": "e1b2b4486299c"
   },
   "outputs": [
    {
     "data": {
      "text/plain": [
       "(6958, 'forwards')"
      ]
     },
     "execution_count": 10,
     "metadata": {},
     "output_type": "execute_result"
    }
   ],
   "source": [
    "temp[temp.time_difference < 0].count()['email'], 'forwards'"
   ]
  },
  {
   "cell_type": "code",
   "execution_count": 11,
   "metadata": {
    "comet_cell_id": "0262764733939"
   },
   "outputs": [
    {
     "data": {
      "text/plain": [
       "(160, 'stayed the same')"
      ]
     },
     "execution_count": 11,
     "metadata": {},
     "output_type": "execute_result"
    }
   ],
   "source": [
    "temp[temp.time_difference == 0].count()['email'], 'stayed the same'"
   ]
  },
  {
   "cell_type": "markdown",
   "metadata": {
    "comet_cell_id": "36e7cdcdc58b4"
   },
   "source": [
    "### Question 5\n",
    "* Plot a histogram of all quiz scores. Plot it with 50 bins. Change the color to red.\n",
    "* Don't forget to add this to your code:\n",
    "  * import matplotlib\n",
    "  * %matplotlib inline\n",
    "* See matplotlib documentation if you need it here\n",
    "  * http://pandas.pydata.org/pandas-docs/stable/generated/pandas.DataFrame.plot.html"
   ]
  },
  {
   "cell_type": "code",
   "execution_count": 12,
   "metadata": {
    "comet_cell_id": "d5c387bbc20e8"
   },
   "outputs": [
    {
     "data": {
      "text/plain": [
       "<matplotlib.axes._subplots.AxesSubplot at 0xbca8400>"
      ]
     },
     "execution_count": 12,
     "metadata": {},
     "output_type": "execute_result"
    },
    {
     "data": {
      "image/png": "[encoded data removed]",
      "text/plain": [
       "<matplotlib.figure.Figure at 0x4668a90>"
      ]
     },
     "metadata": {},
     "output_type": "display_data"
    }
   ],
   "source": [
    "import matplotlib\n",
    "%matplotlib inline\n",
    "df.score.hist(bins=50,color='red')"
   ]
  },
  {
   "cell_type": "markdown",
   "metadata": {
    "comet_cell_id": "826a44c1aa7d2"
   },
   "source": [
    "### Question 6\n",
    "* Plot the confidence_level across all students in a bar chart.\n",
    "* Make sure the bars are in order, low, medium, high\n",
    "* Change the colors so each bar is a different color"
   ]
  },
  {
   "cell_type": "code",
   "execution_count": 13,
   "metadata": {
    "comet_cell_id": "9ed89e0ecfb8f"
   },
   "outputs": [
    {
     "data": {
      "text/plain": [
       "<matplotlib.axes._subplots.AxesSubplot at 0xbeaf4e0>"
      ]
     },
     "execution_count": 13,
     "metadata": {},
     "output_type": "execute_result"
    },
    {
     "data": {
      "image/png": "[encoded data removed]",
      "text/plain": [
       "<matplotlib.figure.Figure at 0xc07e0b8>"
      ]
     },
     "metadata": {},
     "output_type": "display_data"
    }
   ],
   "source": [
    "df.confidence_level.value_counts()[['low','medium','high']].plot(kind='bar',color=['red','yellow','green'])"
   ]
  },
  {
   "cell_type": "markdown",
   "metadata": {
    "comet_cell_id": "61a3f2efe1a34"
   },
   "source": [
    "### Question 7\n",
    "How many suspended events did students 40, 50, and 60 have combined across the whole semester?"
   ]
  },
  {
   "cell_type": "code",
   "execution_count": 14,
   "metadata": {
    "comet_cell_id": "00f9d5f5f5966"
   },
   "outputs": [
    {
     "data": {
      "text/plain": [
       "(4680, 'combined suspended events')"
      ]
     },
     "execution_count": 14,
     "metadata": {},
     "output_type": "execute_result"
    }
   ],
   "source": [
    "df[(df.name == 40)|(df.name == 50)|(df.name == 60)&(df.verb == 'suspended')].count()['email'], 'combined suspended events'"
   ]
  },
  {
   "cell_type": "markdown",
   "metadata": {
    "comet_cell_id": "82b37633deb4a"
   },
   "source": [
    "### Question 8\n",
    "* Return a list of the number of verb events within each specific quiz\n",
    "* Use either the object or objectid column to find an assessment identifier"
   ]
  },
  {
   "cell_type": "code",
   "execution_count": 15,
   "metadata": {
    "collapsed": true,
    "comet_cell_id": "46d1087895b23"
   },
   "outputs": [],
   "source": [
    "df['assessmentIDnoNAN'] = df['object'].map(lambda x: x if str(x).find('assessment') > -1 else '')"
   ]
  },
  {
   "cell_type": "code",
   "execution_count": 16,
   "metadata": {
    "collapsed": true,
    "comet_cell_id": "411c1ffdcb16d"
   },
   "outputs": [],
   "source": [
    "df['assessmentID'] = df.assessmentIDnoNAN.map(lambda x: x.split(' ')[-1] if x.find('assessment') > -1 else '')"
   ]
  },
  {
   "cell_type": "code",
   "execution_count": 17,
   "metadata": {
    "collapsed": true,
    "comet_cell_id": "6336a93df4b0d"
   },
   "outputs": [
    {
     "data": {
      "text/plain": [
       "assessmentID  verb         \n",
       "100           answered         1116\n",
       "              attempted         991\n",
       "              showed_answer     202\n",
       "              showed_hint       119\n",
       "              suspended         438\n",
       "101           answered         1065\n",
       "              attempted         512\n",
       "              showed_answer     349\n",
       "              showed_hint       170\n",
       "              suspended         555\n",
       "102           answered          504\n",
       "              attempted         172\n",
       "              showed_answer     106\n",
       "              showed_hint        88\n",
       "              suspended         222\n",
       "103           answered          812\n",
       "              attempted         450\n",
       "              showed_answer      87\n",
       "              showed_hint        43\n",
       "              suspended         191\n",
       "104           answered          718\n",
       "              attempted         314\n",
       "              showed_answer     122\n",
       "              showed_hint        82\n",
       "              suspended         184\n",
       "105           answered         1021\n",
       "              attempted         491\n",
       "              showed_answer     105\n",
       "              showed_hint        82\n",
       "              suspended         201\n",
       "                               ... \n",
       "93            answered         1379\n",
       "              attempted         906\n",
       "              showed_answer     108\n",
       "              showed_hint        34\n",
       "              suspended         251\n",
       "94            answered          115\n",
       "              attempted          90\n",
       "              showed_answer      26\n",
       "              showed_hint         1\n",
       "              suspended          15\n",
       "95            answered           89\n",
       "              attempted          43\n",
       "              showed_answer      22\n",
       "              showed_hint         6\n",
       "              suspended          42\n",
       "96            answered           49\n",
       "              attempted          24\n",
       "              showed_answer       9\n",
       "              showed_hint         5\n",
       "              suspended          27\n",
       "97            answered          173\n",
       "              attempted         100\n",
       "              showed_answer      70\n",
       "              showed_hint         1\n",
       "              suspended          15\n",
       "98            answered         1277\n",
       "              attempted         773\n",
       "              showed_answer      34\n",
       "              showed_hint        69\n",
       "              suspended         189\n",
       "Name: email, dtype: int64"
      ]
     },
     "execution_count": 17,
     "metadata": {},
     "output_type": "execute_result"
    }
   ],
   "source": [
    "#final answer\n",
    "df[df.assessmentID != ''].groupby(['assessmentID','verb']).count()['email']"
   ]
  },
  {
   "cell_type": "markdown",
   "metadata": {
    "comet_cell_id": "c873efb2a2d25"
   },
   "source": [
    "### Question 9\n",
    "Return a list of student average quiz scores. Each value should be an average quiz score for a particular student"
   ]
  },
  {
   "cell_type": "code",
   "execution_count": 18,
   "metadata": {
    "collapsed": true,
    "comet_cell_id": "952efc5427b27"
   },
   "outputs": [
    {
     "data": {
      "text/plain": [
       "(name\n",
       " 0      0.986111\n",
       " 1      0.987626\n",
       " 2      1.000000\n",
       " 3      0.995902\n",
       " 4      1.000000\n",
       " 5           NaN\n",
       " 6      1.000000\n",
       " 7      0.970588\n",
       " 8      0.988636\n",
       " 9           NaN\n",
       " 10     0.984375\n",
       " 11     0.988194\n",
       " 12          NaN\n",
       " 13     1.000000\n",
       " 14     0.986842\n",
       " 15     0.952160\n",
       " 16     0.835256\n",
       " 17     0.991935\n",
       " 18     0.990385\n",
       " 19     0.982000\n",
       " 20     0.953704\n",
       " 21     0.995098\n",
       " 22     0.981481\n",
       " 23     1.000000\n",
       " 24     1.000000\n",
       " 25     0.977642\n",
       " 26          NaN\n",
       " 27     0.998485\n",
       " 28     1.000000\n",
       " 29     1.000000\n",
       "          ...   \n",
       " 198    0.980769\n",
       " 199    0.986979\n",
       " 200    0.988095\n",
       " 201    0.944444\n",
       " 202    0.987500\n",
       " 203    0.935185\n",
       " 204    0.969697\n",
       " 205    0.990741\n",
       " 206    0.925000\n",
       " 207    0.983871\n",
       " 208    0.939815\n",
       " 209    0.953125\n",
       " 210    0.968750\n",
       " 211    0.968750\n",
       " 212    0.975000\n",
       " 213    0.950000\n",
       " 214    0.996667\n",
       " 215    1.000000\n",
       " 216    0.989796\n",
       " 217    1.000000\n",
       " 218    0.982143\n",
       " 219    1.000000\n",
       " 220    0.989474\n",
       " 221    0.992647\n",
       " 222    0.863699\n",
       " 223    1.000000\n",
       " 224    1.000000\n",
       " 225    1.000000\n",
       " 226    1.000000\n",
       " 227    1.000000\n",
       " Name: score, dtype: float64, 'answer')"
      ]
     },
     "execution_count": 18,
     "metadata": {},
     "output_type": "execute_result"
    }
   ],
   "source": [
    "df.groupby(['name']).mean()['score'], 'answer'"
   ]
  },
  {
   "cell_type": "markdown",
   "metadata": {
    "comet_cell_id": "054c457004467"
   },
   "source": [
    "### Question 10\n",
    "* Create a plot using this data set.\n",
    "* The plot must be labelled\n",
    "* Colors must be changed\n",
    "* The type of plot must be specified\n",
    "* Provide a paragraph explanation of the plot"
   ]
  },
  {
   "cell_type": "code",
   "execution_count": null,
   "metadata": {
    "collapsed": true,
    "comet_cell_id": "5c747fe632ed"
   },
   "outputs": [],
   "source": [
    "df['month'] = df.timestamp.apply(lambda x: (x.month - 1) * 30.25)\n",
    "df['day'] = df.timestamp.apply(lambda x: x.day)\n",
    "df['month_day'] = df.month + df.day"
   ]
  },
  {
   "cell_type": "code",
   "execution_count": 56,
   "metadata": {
    "comet_cell_id": "22c4ba6215492"
   },
   "outputs": [
    {
     "data": {
      "text/plain": [
       "<matplotlib.text.Text at 0x1b479908>"
      ]
     },
     "execution_count": 56,
     "metadata": {},
     "output_type": "execute_result"
    },
    {
     "data": {
      "image/png": "[encoded data removed]",
      "text/plain": [
       "<matplotlib.figure.Figure at 0x1b658080>"
      ]
     },
     "metadata": {},
     "output_type": "display_data"
    }
   ],
   "source": [
    "plot_title = 'Online Class Activity Over Time'\n",
    "plot_xticks = range(240,360,10)\n",
    "ax = df.month_day[df.month_day > 150].value_counts().sort_index().plot(kind='line',title=plot_title, xticks=plot_xticks,figsize=(20,5),color='gray')\n",
    "ax.set_xlabel('Day of the semester')\n",
    "ax.set_ylabel('Number of interactions')"
   ]
  },
  {
   "cell_type": "markdown",
   "metadata": {
    "comet_cell_id": "ac582b8eda34b"
   },
   "source": [
    "This plot groups student activity into day increments and then plots them as a line plot across all days in the semester. The max was right before Exam 3 with almost 18000 interactions occurring that day. The second highest max was right before Exam 1 with just over 16000 interactions occurring that day. There seems to be a lull after each exam period. This makes sense because students will study for an exam, and once the exam is over, they will take a break from the class for a little bit as they usually didn't have to do anything immediately after an exam."
   ]
  }
 ],
 "metadata": {
  "comet_paths": [
   [
    "0a21c2a4\\Advanced_Pandas_Tutorial.ipynb",
    1529065531506
   ]
  ],
  "comet_tracking": true,
  "kernelspec": {
   "display_name": "Python [default]",
   "language": "python",
   "name": "python3"
  },
  "language_info": {
   "codemirror_mode": {
    "name": "ipython",
    "version": 3
   },
   "file_extension": ".py",
   "mimetype": "text/x-python",
   "name": "python",
   "nbconvert_exporter": "python",
   "pygments_lexer": "ipython3",
   "version": "3.6.5"
  }
 },
 "nbformat": 4,
 "nbformat_minor": 1
}
