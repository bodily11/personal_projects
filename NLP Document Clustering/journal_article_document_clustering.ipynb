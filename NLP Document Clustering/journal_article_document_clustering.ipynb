{
 "cells": [
  {
   "cell_type": "code",
   "execution_count": 162,
   "metadata": {
    "collapsed": true,
    "comet_cell_id": "23cc75eb8f2f8"
   },
   "outputs": [],
   "source": [
    "import pandas as pd\n",
    "import os\n",
    "base = 'C:/Users/bodil/Projects/Rick Journal Data/'\n",
    "count = 0\n",
    "for file_name in os.listdir(base + 'Data/'):\n",
    "    if count == 0:\n",
    "        df = pd.read_csv(base + 'Data/' + file_name, low_memory=False)\n",
    "        count += 1\n",
    "    else:\n",
    "        df2 = pd.read_csv(base + 'Data/' + file_name, low_memory=False)\n",
    "        df = df.append(df2)\n",
    "        count += 1"
   ]
  },
  {
   "cell_type": "code",
   "execution_count": 164,
   "metadata": {
    "collapsed": true,
    "comet_cell_id": "76f4f74204d34"
   },
   "outputs": [],
   "source": [
    "df = df[df.articleType == 'Article'].copy()"
   ]
  },
  {
   "cell_type": "code",
   "execution_count": 166,
   "metadata": {
    "collapsed": true,
    "comet_cell_id": "47e81b977070f"
   },
   "outputs": [],
   "source": [
    "# df = df[df.title == df.title].copy()"
   ]
  },
  {
   "cell_type": "code",
   "execution_count": 3,
   "metadata": {
    "collapsed": true,
    "comet_cell_id": "21f6ae97641fe"
   },
   "outputs": [],
   "source": [
    "df = df[df.abstract == df.abstract].copy()"
   ]
  },
  {
   "cell_type": "code",
   "execution_count": 4,
   "metadata": {
    "collapsed": true,
    "comet_cell_id": "6e78d46261729"
   },
   "outputs": [],
   "source": [
    "#remove copyright and other journal names from abstract\n",
    "def remove_copyright_stuff(cell):\n",
    "    remove_strings = [\n",
    "        '© The Turkish Online Journal of Educational Technology. ',\n",
    "        '© 2014 Elsevier Ltd. ',\n",
    "        '© 2014, Springer Science+Business Media New York. ',\n",
    "        ', Springer Science+Business Media Dordrecht. '\n",
    "    ]\n",
    "    for remove_string in remove_strings:\n",
    "        if remove_string in cell[:len(remove_string) + 1]:\n",
    "            cell = cell[len(remove_string):]\n",
    "        if remove_string in cell[(len(cell) - len(remove_string)) - 1:]:\n",
    "            cell = cell[:len(cell) - len(remove_string)]\n",
    "    \n",
    "    remove_strings7 = [\n",
    "        'Elsevier Ltd. All rights reserved. ',\n",
    "        'Elsevier B.V. All rights reserved. ',\n",
    "        'Elsevier Ltd. ',\n",
    "        'Taylor  &  Francis Group, LLC. ',\n",
    "        'Taylor  &  Francis. ',\n",
    "        'Association for Educational Communications and Technology. ',\n",
    "        'British Educational Research Association'\n",
    "    ]\n",
    "    for remove_string in remove_strings7:\n",
    "        if remove_string in cell[:len(remove_string) + 1 + 7]:\n",
    "            cell = cell[len(remove_string) + 7:]\n",
    "        if remove_string in cell[(len(cell) - len(remove_string) - 7 - 1):]:\n",
    "            cell = cell[:len(cell) - len(remove_string) - 7]\n",
    "    \n",
    "    remove_strings4 = [\n",
    "        '© ',\n",
    "    ]\n",
    "    for remove_string in remove_strings4:\n",
    "        if remove_string in cell[:len(remove_string) + 1 + 4]:\n",
    "            cell = cell[len(remove_string) + 4:]\n",
    "        if remove_string in cell[(len(cell) - len(remove_string) - 4 - 1):]:\n",
    "            cell = cell[:len(cell) - len(remove_string) - 4]\n",
    "    \n",
    "    return cell"
   ]
  },
  {
   "cell_type": "code",
   "execution_count": 5,
   "metadata": {
    "collapsed": true,
    "comet_cell_id": "1f79e271b4d29"
   },
   "outputs": [],
   "source": [
    "df['abstract_new'] = df.abstract.map(remove_copyright_stuff)"
   ]
  },
  {
   "cell_type": "code",
   "execution_count": 6,
   "metadata": {
    "collapsed": true,
    "comet_cell_id": "dab16492e6cdf"
   },
   "outputs": [],
   "source": [
    "def fix_abstract(cell):\n",
    "    if cell.find('\\xc2\\xa9') != -1:\n",
    "        start = cell.find('\\xc2\\xa9')\n",
    "        end = cell.find('.',start)\n",
    "        cell = cell[0:start] + cell[end:-1]\n",
    "    else:\n",
    "        pass\n",
    "    cell = cell.lower()\n",
    "    return cell"
   ]
  },
  {
   "cell_type": "code",
   "execution_count": 7,
   "metadata": {
    "collapsed": true,
    "comet_cell_id": "23db04abcffaa"
   },
   "outputs": [],
   "source": [
    "df['abstract_new'] = df['abstract_new'].map(fix_abstract)"
   ]
  },
  {
   "cell_type": "code",
   "execution_count": 8,
   "metadata": {
    "collapsed": true,
    "comet_cell_id": "e8fd5f3f3aae6"
   },
   "outputs": [],
   "source": [
    "special_chars = ['\\xe2\\x80\\x9c','\\xe2\\x80\\x9d']"
   ]
  },
  {
   "cell_type": "code",
   "execution_count": 9,
   "metadata": {
    "collapsed": true,
    "comet_cell_id": "ba5b0e2d6afb6"
   },
   "outputs": [],
   "source": [
    "import string\n",
    "import re\n",
    "punct = ' '\n",
    "for x in string.punctuation:\n",
    "    punct = punct + '|' + re.escape(x)"
   ]
  },
  {
   "cell_type": "code",
   "execution_count": 10,
   "metadata": {
    "collapsed": true,
    "comet_cell_id": "2bdd5eaf769d9"
   },
   "outputs": [],
   "source": [
    "for x in special_chars:\n",
    "    punct = punct + '|' + x"
   ]
  },
  {
   "cell_type": "code",
   "execution_count": 11,
   "metadata": {
    "collapsed": true,
    "comet_cell_id": "fa606d0e9f93"
   },
   "outputs": [],
   "source": [
    "def split_words(cell):\n",
    "    cell = re.split(punct,cell)\n",
    "    return cell\n",
    "df.abstract_new = df.abstract_new.map(split_words)"
   ]
  },
  {
   "cell_type": "code",
   "execution_count": 12,
   "metadata": {
    "collapsed": true,
    "comet_cell_id": "590e2f1501a3a"
   },
   "outputs": [],
   "source": [
    "from nltk.corpus import stopwords\n",
    "stops = set(stopwords.words('english'))"
   ]
  },
  {
   "cell_type": "code",
   "execution_count": 13,
   "metadata": {
    "collapsed": true,
    "comet_cell_id": "7fbec7c7cd2a3"
   },
   "outputs": [],
   "source": [
    "def remove_punct(cell):\n",
    "    new_cell = []\n",
    "    for word in cell:\n",
    "        if word in string.punctuation or word == ' ' or word in string.ascii_letters or word == '':\n",
    "            pass\n",
    "        elif word in stops:\n",
    "            pass\n",
    "        elif word[0] in '0123456789' or word[-1] in '0123456789':\n",
    "            pass\n",
    "        else:\n",
    "            new_cell.append(word)\n",
    "    return new_cell"
   ]
  },
  {
   "cell_type": "code",
   "execution_count": 14,
   "metadata": {
    "collapsed": true,
    "comet_cell_id": "a8bef4fe2fbc4"
   },
   "outputs": [],
   "source": [
    "df.abstract_new = df.abstract_new.map(remove_punct)"
   ]
  },
  {
   "cell_type": "code",
   "execution_count": 57,
   "metadata": {
    "collapsed": true,
    "comet_cell_id": "2afd0dd2dec4f"
   },
   "outputs": [],
   "source": [
    "def abstract_word_counts(cell):\n",
    "    return pd.Series(cell).value_counts()\n",
    "df['word_counts'] = df.abstract_new.map(abstract_word_counts)"
   ]
  },
  {
   "cell_type": "code",
   "execution_count": 58,
   "metadata": {
    "collapsed": true,
    "comet_cell_id": "3a0f4e110cb9d"
   },
   "outputs": [],
   "source": [
    "all_words = df.abstract_new.apply(pd.Series).stack().reset_index(drop=True)"
   ]
  },
  {
   "cell_type": "code",
   "execution_count": 59,
   "metadata": {
    "collapsed": true,
    "comet_cell_id": "615e6e68ce55c"
   },
   "outputs": [],
   "source": [
    "total_words = all_words.value_counts().sum()"
   ]
  },
  {
   "cell_type": "code",
   "execution_count": 198,
   "metadata": {
    "comet_cell_id": "04e72b4e70652"
   },
   "outputs": [
    {
     "data": {
      "text/plain": [
       "2    13739\n",
       "9     6819\n",
       "5     6078\n",
       "6     5250\n",
       "7     4713\n",
       "8     4653\n",
       "3     3140\n",
       "1     2700\n",
       "0     1107\n",
       "4      953\n",
       "Name: cluster_k_10, dtype: int64"
      ]
     },
     "execution_count": 198,
     "metadata": {},
     "output_type": "execute_result"
    }
   ],
   "source": [
    "df.cluster_k_10.value_counts()"
   ]
  },
  {
   "cell_type": "code",
   "execution_count": 206,
   "metadata": {
    "collapsed": true,
    "comet_cell_id": "76c017a30d6ba"
   },
   "outputs": [],
   "source": [
    "final_positive = pd.DataFrame()\n",
    "for x in range(10):\n",
    "    differences = []\n",
    "    temp = df[df.cluster_k_10 == x].title.map(lambda x: [y for y in x.lower().split(' ') if y not in stops]).apply(pd.Series).stack().reset_index(drop=True).value_counts()\n",
    "    for y in range(10):\n",
    "        if y == x:\n",
    "            continue\n",
    "        else:\n",
    "            temp2 = df[df.cluster_k_10 == y].title.map(lambda x: [y for y in x.lower().split(' ') if y not in stops]).apply(pd.Series).stack().reset_index(drop=True).value_counts()\n",
    "            difference = list((temp - temp2).sort_values(ascending=False).index[:20])\n",
    "            differences = differences + difference\n",
    "    final_positive[str(x)] = differences\n",
    "    "
   ]
  },
  {
   "cell_type": "code",
   "execution_count": 226,
   "metadata": {
    "collapsed": true,
    "comet_cell_id": "2fa4db5d38c69"
   },
   "outputs": [],
   "source": [
    "fpos = pd.DataFrame()\n",
    "for col in final_positive.columns:\n",
    "    fpos[col] = final_positive[col].value_counts().index[:10]"
   ]
  },
  {
   "cell_type": "code",
   "execution_count": 227,
   "metadata": {
    "comet_cell_id": "911794a355ede"
   },
   "outputs": [
    {
     "data": {
      "text/html": [
       "<div>\n",
       "<style>\n",
       "    .dataframe thead tr:only-child th {\n",
       "        text-align: right;\n",
       "    }\n",
       "\n",
       "    .dataframe thead th {\n",
       "        text-align: left;\n",
       "    }\n",
       "\n",
       "    .dataframe tbody tr th {\n",
       "        vertical-align: top;\n",
       "    }\n",
       "</style>\n",
       "<table border=\"1\" class=\"dataframe\">\n",
       "  <thead>\n",
       "    <tr style=\"text-align: right;\">\n",
       "      <th></th>\n",
       "      <th>0:9</th>\n",
       "      <th>1:9</th>\n",
       "      <th>2:9</th>\n",
       "      <th>3:9</th>\n",
       "      <th>4:9</th>\n",
       "      <th>5:9</th>\n",
       "      <th>6:9</th>\n",
       "      <th>7:9</th>\n",
       "      <th>8:9</th>\n",
       "      <th>9:9</th>\n",
       "    </tr>\n",
       "  </thead>\n",
       "  <tbody>\n",
       "    <tr>\n",
       "      <th>0</th>\n",
       "      <td>learner:</td>\n",
       "      <td>blog</td>\n",
       "      <td>online</td>\n",
       "      <td>information</td>\n",
       "      <td>contributing</td>\n",
       "      <td>knowledge</td>\n",
       "      <td>development</td>\n",
       "      <td>role</td>\n",
       "      <td>digital</td>\n",
       "      <td>use</td>\n",
       "    </tr>\n",
       "    <tr>\n",
       "      <th>1</th>\n",
       "      <td>outdoor</td>\n",
       "      <td>multi-user</td>\n",
       "      <td>student</td>\n",
       "      <td>another</td>\n",
       "      <td>targets</td>\n",
       "      <td>education</td>\n",
       "      <td>learning</td>\n",
       "      <td>technology</td>\n",
       "      <td>online</td>\n",
       "      <td>effects</td>\n",
       "    </tr>\n",
       "    <tr>\n",
       "      <th>2</th>\n",
       "      <td>operations</td>\n",
       "      <td>life:</td>\n",
       "      <td>social</td>\n",
       "      <td>extended</td>\n",
       "      <td>reviews:</td>\n",
       "      <td>teaching</td>\n",
       "      <td>design</td>\n",
       "      <td>effects</td>\n",
       "      <td>learning</td>\n",
       "      <td>online</td>\n",
       "    </tr>\n",
       "    <tr>\n",
       "      <th>3</th>\n",
       "      <td>individualized</td>\n",
       "      <td>components</td>\n",
       "      <td>technology</td>\n",
       "      <td>false</td>\n",
       "      <td>vs</td>\n",
       "      <td>technology</td>\n",
       "      <td>case</td>\n",
       "      <td>system</td>\n",
       "      <td>education</td>\n",
       "      <td>social</td>\n",
       "    </tr>\n",
       "    <tr>\n",
       "      <th>4</th>\n",
       "      <td>fixation</td>\n",
       "      <td>mobile</td>\n",
       "      <td>knowledge</td>\n",
       "      <td>avatar</td>\n",
       "      <td>ease</td>\n",
       "      <td>learning</td>\n",
       "      <td>technology</td>\n",
       "      <td>teaching</td>\n",
       "      <td>students'</td>\n",
       "      <td>learning</td>\n",
       "    </tr>\n",
       "    <tr>\n",
       "      <th>5</th>\n",
       "      <td>rate</td>\n",
       "      <td>competencies</td>\n",
       "      <td>educational</td>\n",
       "      <td>education</td>\n",
       "      <td>colloquium</td>\n",
       "      <td>design</td>\n",
       "      <td>social</td>\n",
       "      <td>use</td>\n",
       "      <td>development</td>\n",
       "      <td>using</td>\n",
       "    </tr>\n",
       "    <tr>\n",
       "      <th>6</th>\n",
       "      <td>ethnographic</td>\n",
       "      <td>study</td>\n",
       "      <td>study</td>\n",
       "      <td>knowledge</td>\n",
       "      <td>collections:</td>\n",
       "      <td>students</td>\n",
       "      <td>educational</td>\n",
       "      <td>study</td>\n",
       "      <td>design</td>\n",
       "      <td>students</td>\n",
       "    </tr>\n",
       "    <tr>\n",
       "      <th>7</th>\n",
       "      <td>normal</td>\n",
       "      <td>teaching</td>\n",
       "      <td>using</td>\n",
       "      <td>repetition</td>\n",
       "      <td>choice</td>\n",
       "      <td>online</td>\n",
       "      <td>study</td>\n",
       "      <td>education</td>\n",
       "      <td>using</td>\n",
       "      <td>study</td>\n",
       "    </tr>\n",
       "    <tr>\n",
       "      <th>8</th>\n",
       "      <td>regarding</td>\n",
       "      <td>using</td>\n",
       "      <td>design</td>\n",
       "      <td>online</td>\n",
       "      <td>disclosure</td>\n",
       "      <td>distance</td>\n",
       "      <td>students</td>\n",
       "      <td>design</td>\n",
       "      <td>effects</td>\n",
       "      <td>education</td>\n",
       "    </tr>\n",
       "    <tr>\n",
       "      <th>9</th>\n",
       "      <td>aural</td>\n",
       "      <td>system</td>\n",
       "      <td>distance</td>\n",
       "      <td>use</td>\n",
       "      <td>talk</td>\n",
       "      <td>student</td>\n",
       "      <td>teaching</td>\n",
       "      <td>online</td>\n",
       "      <td>social</td>\n",
       "      <td>design</td>\n",
       "    </tr>\n",
       "  </tbody>\n",
       "</table>\n",
       "</div>"
      ],
      "text/plain": [
       "              0:9           1:9          2:9          3:9           4:9  \\\n",
       "0        learner:          blog       online  information  contributing   \n",
       "1         outdoor    multi-user      student      another       targets   \n",
       "2      operations         life:       social     extended      reviews:   \n",
       "3  individualized    components   technology        false            vs   \n",
       "4        fixation        mobile    knowledge       avatar          ease   \n",
       "5            rate  competencies  educational    education    colloquium   \n",
       "6    ethnographic         study        study    knowledge  collections:   \n",
       "7          normal      teaching        using   repetition        choice   \n",
       "8       regarding         using       design       online    disclosure   \n",
       "9           aural        system     distance          use          talk   \n",
       "\n",
       "          5:9          6:9         7:9          8:9        9:9  \n",
       "0   knowledge  development        role      digital        use  \n",
       "1   education     learning  technology       online    effects  \n",
       "2    teaching       design     effects     learning     online  \n",
       "3  technology         case      system    education     social  \n",
       "4    learning   technology    teaching    students'   learning  \n",
       "5      design       social         use  development      using  \n",
       "6    students  educational       study       design   students  \n",
       "7      online        study   education        using      study  \n",
       "8    distance     students      design      effects  education  \n",
       "9     student     teaching      online       social     design  "
      ]
     },
     "execution_count": 227,
     "metadata": {},
     "output_type": "execute_result"
    }
   ],
   "source": [
    "fpos"
   ]
  },
  {
   "cell_type": "code",
   "execution_count": 201,
   "metadata": {
    "comet_cell_id": "5f3a260306f95"
   },
   "outputs": [
    {
     "data": {
      "text/plain": [
       "learning           236\n",
       "education           75\n",
       "online              72\n",
       "study               67\n",
       "using               61\n",
       "effects             60\n",
       "technology          54\n",
       "use                 52\n",
       "computer            49\n",
       "design              48\n",
       "social              48\n",
       "teaching            47\n",
       "students            44\n",
       "development         43\n",
       "approach            39\n",
       "student             39\n",
       "analysis            39\n",
       "distance            36\n",
       "digital             35\n",
       "students'           35\n",
       "educational         35\n",
       "system              34\n",
       "school              34\n",
       "performance         33\n",
       "case                33\n",
       "environment         31\n",
       "mobile              30\n",
       "collaborative       30\n",
       "instructional       28\n",
       "effect              28\n",
       "                  ... \n",
       "switch               1\n",
       "related              1\n",
       "suspicion            1\n",
       "navidget             1\n",
       "way?                 1\n",
       "exercise?            1\n",
       "adolescents,         1\n",
       "smartphone           1\n",
       "i:                   1\n",
       "much                 1\n",
       "apprehension         1\n",
       "testing:             1\n",
       "tandems              1\n",
       "nonplayers           1\n",
       "os                   1\n",
       "kingdom:             1\n",
       "reading:             1\n",
       "plan                 1\n",
       "tradeoffs            1\n",
       "sequencing           1\n",
       "template             1\n",
       "eye-movement         1\n",
       "employment           1\n",
       "one-dimensional      1\n",
       "reciprocal           1\n",
       "self-efficacy,       1\n",
       "theatre              1\n",
       "ninth                1\n",
       "accuracies:          1\n",
       "partial              1\n",
       "Length: 3431, dtype: int64"
      ]
     },
     "execution_count": 201,
     "metadata": {},
     "output_type": "execute_result"
    }
   ],
   "source": [
    "df[df.cluster_k_10 == 0].title.map(lambda x: [y for y in x.lower().split(' ') if y not in stops]).apply(pd.Series).stack().reset_index(drop=True).value_counts()"
   ]
  },
  {
   "cell_type": "code",
   "execution_count": null,
   "metadata": {
    "collapsed": true,
    "comet_cell_id": "9ee978390604e"
   },
   "outputs": [],
   "source": []
  },
  {
   "cell_type": "code",
   "execution_count": 124,
   "metadata": {
    "collapsed": true,
    "comet_cell_id": "e288884457d6c"
   },
   "outputs": [],
   "source": [
    "cluster1 = df[df.cluster_k_5 == 0].title.map(lambda x: ).apply(pd.Series).stack().reset_index(drop=True).value_counts()\n",
    "cluster2 = df[df.cluster_k_5 == 1].abstract_new.apply(pd.Series).stack().reset_index(drop=True).value_counts()\n",
    "cluster3 = df[df.cluster_k_5 == 2].abstract_new.apply(pd.Series).stack().reset_index(drop=True).value_counts()\n",
    "cluster4 = df[df.cluster_k_5 == 3].abstract_new.apply(pd.Series).stack().reset_index(drop=True).value_counts()\n",
    "cluster5 = df[df.cluster_k_5 == 4].abstract_new.apply(pd.Series).stack().reset_index(drop=True).value_counts()"
   ]
  },
  {
   "cell_type": "code",
   "execution_count": 125,
   "metadata": {
    "collapsed": true,
    "comet_cell_id": "949d6bdd47eab"
   },
   "outputs": [],
   "source": [
    "cluster1 = cluster1 / cluster1.sum()\n",
    "cluster2 = cluster2 / cluster2.sum()\n",
    "cluster3 = cluster3 / cluster3.sum()\n",
    "cluster4 = cluster4 / cluster4.sum()\n",
    "cluster5 = cluster5 / cluster5.sum()"
   ]
  },
  {
   "cell_type": "markdown",
   "metadata": {
    "comet_cell_id": "6a638f91b01ad"
   },
   "source": [
    "# Cluster 1"
   ]
  },
  {
   "cell_type": "code",
   "execution_count": 159,
   "metadata": {
    "comet_cell_id": "819cf8e2e54e9"
   },
   "outputs": [
    {
     "data": {
      "text/plain": [
       "course         4\n",
       "research       3\n",
       "students       3\n",
       "design         3\n",
       "learning       3\n",
       "education      3\n",
       "educational    2\n",
       "students’      2\n",
       "teachers       2\n",
       "assessment     2\n",
       "open           2\n",
       "technology     2\n",
       "paper          2\n",
       "results        2\n",
       "online         2\n",
       "digital        2\n",
       "group          2\n",
       "study          2\n",
       "visual         1\n",
       "teachers’      1\n",
       "engagement     1\n",
       "university     1\n",
       "based          1\n",
       "words          1\n",
       "number         1\n",
       "users          1\n",
       "frequency      1\n",
       "media          1\n",
       "practice       1\n",
       "content        1\n",
       "society        1\n",
       "psychonomic    1\n",
       "article        1\n",
       "inc            1\n",
       "data           1\n",
       "use            1\n",
       "teaching       1\n",
       "recall         1\n",
       "process        1\n",
       "skills         1\n",
       "self           1\n",
       "mobile         1\n",
       "experiment     1\n",
       "subjects       1\n",
       "program        1\n",
       "school         1\n",
       "development    1\n",
       "influence      1\n",
       "word           1\n",
       "work           1\n",
       "elsevier       1\n",
       "ltd            1\n",
       "global         1\n",
       "game           1\n",
       "learners       1\n",
       "dtype: int64"
      ]
     },
     "execution_count": 159,
     "metadata": {},
     "output_type": "execute_result"
    }
   ],
   "source": [
    "final12 = cluster1 - cluster2\n",
    "final12 = final12[final12 == final12]\n",
    "final13 = cluster1 - cluster3\n",
    "final13 = final13[final13 == final13]\n",
    "final14 = cluster1 - cluster4\n",
    "final14 = final14[final14 == final14]\n",
    "final15 = cluster1 - cluster5\n",
    "final15 = final15[final15 == final15]\n",
    "pd.Series(list(final12.sort_values(ascending=False)[:20].index) + list(final13.sort_values(ascending=False)[:20].index) + list(final14.sort_values(ascending=False)[:20].index) + list(final15.sort_values(ascending=False)[:20].index)).value_counts()"
   ]
  },
  {
   "cell_type": "markdown",
   "metadata": {
    "comet_cell_id": "d2b80400f5f69"
   },
   "source": [
    "# Cluster 2"
   ]
  },
  {
   "cell_type": "code",
   "execution_count": 158,
   "metadata": {
    "comet_cell_id": "03e88dec7b3ec"
   },
   "outputs": [
    {
     "data": {
      "text/plain": [
       "learners        4\n",
       "learning        4\n",
       "group           4\n",
       "technology      4\n",
       "educational     4\n",
       "students        4\n",
       "research        3\n",
       "teachers        3\n",
       "university      3\n",
       "education       3\n",
       "technologies    3\n",
       "course          2\n",
       "media           2\n",
       "open            2\n",
       "study           2\n",
       "online          2\n",
       "library         2\n",
       "design          2\n",
       "school          2\n",
       "libraries       1\n",
       "practice        1\n",
       "text            1\n",
       "beliefs         1\n",
       "teacher         1\n",
       "assessment      1\n",
       "support         1\n",
       "article         1\n",
       "environment     1\n",
       "francis         1\n",
       "information     1\n",
       "development     1\n",
       "teaching        1\n",
       "groups          1\n",
       "students’       1\n",
       "self            1\n",
       "mobile          1\n",
       "level           1\n",
       "authors         1\n",
       "academic        1\n",
       "based           1\n",
       "digital         1\n",
       "strategies      1\n",
       "content         1\n",
       "one             1\n",
       "dtype: int64"
      ]
     },
     "execution_count": 158,
     "metadata": {},
     "output_type": "execute_result"
    }
   ],
   "source": [
    "final21 = cluster2 - cluster1\n",
    "final21 = final21[final21 == final21]\n",
    "final23 = cluster2 - cluster3\n",
    "final23 = final23[final23 == final23]\n",
    "final24 = cluster2 - cluster4\n",
    "final24 = final24[final24 == final24]\n",
    "final25 = cluster2 - cluster5\n",
    "final25 = final25[final25 == final25]\n",
    "pd.Series(list(final21.sort_values(ascending=False)[:20].index) + list(final23.sort_values(ascending=False)[:20].index) + list(final24.sort_values(ascending=False)[:20].index) + list(final25.sort_values(ascending=False)[:20].index)).value_counts()"
   ]
  },
  {
   "cell_type": "markdown",
   "metadata": {
    "comet_cell_id": "54ffd34433eb6"
   },
   "source": [
    "# Cluster 3"
   ]
  },
  {
   "cell_type": "code",
   "execution_count": 160,
   "metadata": {
    "comet_cell_id": "1ca4942808321"
   },
   "outputs": [
    {
     "data": {
      "text/plain": [
       "ltd            3\n",
       "experiment     3\n",
       "rights         3\n",
       "elsevier       3\n",
       "effects        3\n",
       "effect         3\n",
       "words          3\n",
       "reserved       3\n",
       "recognition    3\n",
       "subjects       3\n",
       "memory         3\n",
       "experiments    3\n",
       "computer       3\n",
       "psychonomic    3\n",
       "©              3\n",
       "recall         3\n",
       "results        3\n",
       "word           2\n",
       "information    2\n",
       "society        2\n",
       "learning       1\n",
       "course         1\n",
       "study          1\n",
       "educational    1\n",
       "practice       1\n",
       "task           1\n",
       "technology     1\n",
       "knowledge      1\n",
       "learners       1\n",
       "media          1\n",
       "two            1\n",
       "strategies     1\n",
       "digital        1\n",
       "assessment     1\n",
       "children       1\n",
       "design         1\n",
       "based          1\n",
       "online         1\n",
       "well           1\n",
       "education      1\n",
       "inc            1\n",
       "students       1\n",
       "motivation     1\n",
       "dtype: int64"
      ]
     },
     "execution_count": 160,
     "metadata": {},
     "output_type": "execute_result"
    }
   ],
   "source": [
    "final31 = cluster3 - cluster1\n",
    "final31 = final31[final31 == final31]\n",
    "final32 = cluster3 - cluster2\n",
    "final32 = final32[final32 == final32]\n",
    "final34 = cluster3 - cluster4\n",
    "final34 = final34[final34 == final34]\n",
    "final35 = cluster3 - cluster5\n",
    "final35 = final35[final35 == final35]\n",
    "pd.Series(list(final31.sort_values(ascending=False)[:20].index) + list(final32.sort_values(ascending=False)[:20].index) + list(final34.sort_values(ascending=False)[:20].index) + list(final35.sort_values(ascending=False)[:20].index)).value_counts()"
   ]
  },
  {
   "cell_type": "code",
   "execution_count": null,
   "metadata": {
    "collapsed": true,
    "comet_cell_id": "542b0dbd0fb54"
   },
   "outputs": [],
   "source": []
  },
  {
   "cell_type": "code",
   "execution_count": null,
   "metadata": {
    "collapsed": true,
    "comet_cell_id": "deb976f2378b8"
   },
   "outputs": [],
   "source": []
  },
  {
   "cell_type": "code",
   "execution_count": 15,
   "metadata": {
    "collapsed": true,
    "comet_cell_id": "074a877fd85c"
   },
   "outputs": [],
   "source": [
    "df['abstract_new2'] = df.abstract_new.map(lambda x: ' '.join(x))"
   ]
  },
  {
   "cell_type": "code",
   "execution_count": 167,
   "metadata": {
    "collapsed": true,
    "comet_cell_id": "44029ba9a30fb"
   },
   "outputs": [],
   "source": [
    "from sklearn.feature_extraction.text import TfidfVectorizer\n",
    "v = TfidfVectorizer()\n",
    "x = v.fit_transform(df['title'])"
   ]
  },
  {
   "cell_type": "code",
   "execution_count": 168,
   "metadata": {
    "comet_cell_id": "873112762699b"
   },
   "outputs": [
    {
     "data": {
      "text/plain": [
       "49152"
      ]
     },
     "execution_count": 168,
     "metadata": {},
     "output_type": "execute_result"
    }
   ],
   "source": [
    "df.title.count()"
   ]
  },
  {
   "cell_type": "code",
   "execution_count": 61,
   "metadata": {
    "collapsed": true,
    "comet_cell_id": "c2be3ae6f87cd"
   },
   "outputs": [],
   "source": [
    "# import math\n",
    "# import random\n",
    "# import operator\n",
    "# import itertools\n",
    "\n",
    "# def dot_product2(v1, v2):\n",
    "#     return sum(map(operator.mul, v1, v2))\n",
    "\n",
    "# def vector_cos5(v1, v2):\n",
    "#     prod = dot_product2(v1, v2)\n",
    "#     len1 = math.sqrt(dot_product2(v1, v1))\n",
    "#     len2 = math.sqrt(dot_product2(v2, v2))\n",
    "#     return prod / (len1 * len2)"
   ]
  },
  {
   "cell_type": "code",
   "execution_count": 169,
   "metadata": {
    "comet_cell_id": "dfd7b8c698e6f"
   },
   "outputs": [
    {
     "data": {
      "text/plain": [
       "(49152, 19834)"
      ]
     },
     "execution_count": 169,
     "metadata": {},
     "output_type": "execute_result"
    }
   ],
   "source": [
    "import numpy as np\n",
    "np.shape(x)"
   ]
  },
  {
   "cell_type": "code",
   "execution_count": 170,
   "metadata": {
    "comet_cell_id": "e6a1a4ed55992"
   },
   "outputs": [
    {
     "name": "stdout",
     "output_type": "stream",
     "text": [
      "Explained variance of the SVD step: 20%\n"
     ]
    }
   ],
   "source": [
    "from sklearn.pipeline import make_pipeline\n",
    "from sklearn.decomposition import TruncatedSVD\n",
    "from sklearn.preprocessing import Normalizer\n",
    "\n",
    "svd = TruncatedSVD(100)\n",
    "normalizer = Normalizer(copy=False)\n",
    "lsa = make_pipeline(svd, normalizer)\n",
    "\n",
    "X = lsa.fit_transform(x)\n",
    "\n",
    "explained_variance = svd.explained_variance_ratio_.sum()\n",
    "print(\"Explained variance of the SVD step: {}%\".format(\n",
    "    int(explained_variance * 100)))"
   ]
  },
  {
   "cell_type": "code",
   "execution_count": 193,
   "metadata": {
    "comet_cell_id": "4a3fb9798c523"
   },
   "outputs": [
    {
     "name": "stdout",
     "output_type": "stream",
     "text": [
      "1\n",
      "2\n",
      "3\n",
      "4\n",
      "5\n",
      "6\n",
      "7\n",
      "8\n",
      "9\n",
      "10\n",
      "11\n",
      "12\n",
      "13\n",
      "14\n",
      "15\n",
      "16\n",
      "17\n",
      "18\n",
      "19\n",
      "20\n",
      "21\n",
      "22\n",
      "23\n",
      "24\n",
      "25\n",
      "26\n",
      "27\n",
      "28\n",
      "29\n",
      "30\n",
      "31\n",
      "32\n",
      "33\n",
      "34\n",
      "35\n",
      "36\n",
      "37\n",
      "38\n",
      "39\n",
      "40\n",
      "41\n",
      "42\n",
      "43\n",
      "44\n",
      "45\n",
      "46\n",
      "47\n",
      "48\n",
      "49\n",
      "50\n",
      "51\n",
      "52\n",
      "53\n",
      "54\n",
      "55\n",
      "56\n",
      "57\n",
      "58\n",
      "59\n",
      "60\n",
      "61\n",
      "62\n",
      "63\n",
      "64\n",
      "65\n",
      "66\n",
      "67\n",
      "68\n",
      "69\n",
      "70\n",
      "71\n",
      "72\n",
      "73\n",
      "74\n",
      "75\n",
      "76\n"
     ]
    },
    {
     "ename": "KeyboardInterrupt",
     "evalue": "",
     "output_type": "error",
     "traceback": [
      "\u001b[1;31m---------------------------------------------------------------------------\u001b[0m",
      "\u001b[1;31mKeyboardInterrupt\u001b[0m                         Traceback (most recent call last)",
      "\u001b[1;32m<ipython-input-193-1544e7cbfe49>\u001b[0m in \u001b[0;36m<module>\u001b[1;34m()\u001b[0m\n\u001b[0;32m      4\u001b[0m \u001b[1;32mfor\u001b[0m \u001b[0mx\u001b[0m \u001b[1;32min\u001b[0m \u001b[0mrange\u001b[0m\u001b[1;33m(\u001b[0m\u001b[1;36m1\u001b[0m\u001b[1;33m,\u001b[0m\u001b[1;36m100\u001b[0m\u001b[1;33m)\u001b[0m\u001b[1;33m:\u001b[0m\u001b[1;33m\u001b[0m\u001b[0m\n\u001b[0;32m      5\u001b[0m     \u001b[0mkm\u001b[0m \u001b[1;33m=\u001b[0m \u001b[0mKMeans\u001b[0m\u001b[1;33m(\u001b[0m\u001b[0mn_clusters\u001b[0m\u001b[1;33m=\u001b[0m\u001b[0mx\u001b[0m\u001b[1;33m,\u001b[0m \u001b[0minit\u001b[0m\u001b[1;33m=\u001b[0m\u001b[1;34m'k-means++'\u001b[0m\u001b[1;33m,\u001b[0m \u001b[0mmax_iter\u001b[0m\u001b[1;33m=\u001b[0m\u001b[1;36m100\u001b[0m\u001b[1;33m,\u001b[0m \u001b[0mn_init\u001b[0m\u001b[1;33m=\u001b[0m\u001b[1;36m1\u001b[0m\u001b[1;33m,\u001b[0m \u001b[0mrandom_state\u001b[0m\u001b[1;33m=\u001b[0m\u001b[1;36m0\u001b[0m\u001b[1;33m)\u001b[0m\u001b[1;33m\u001b[0m\u001b[0m\n\u001b[1;32m----> 6\u001b[1;33m     \u001b[0mresult\u001b[0m \u001b[1;33m=\u001b[0m \u001b[0mkm\u001b[0m\u001b[1;33m.\u001b[0m\u001b[0mfit\u001b[0m\u001b[1;33m(\u001b[0m\u001b[0mX\u001b[0m\u001b[1;33m)\u001b[0m\u001b[1;33m\u001b[0m\u001b[0m\n\u001b[0m\u001b[0;32m      7\u001b[0m     \u001b[0melbow_plot\u001b[0m\u001b[1;33m.\u001b[0m\u001b[0mappend\u001b[0m\u001b[1;33m(\u001b[0m\u001b[0mresult\u001b[0m\u001b[1;33m.\u001b[0m\u001b[0minertia_\u001b[0m\u001b[1;33m)\u001b[0m\u001b[1;33m\u001b[0m\u001b[0m\n\u001b[0;32m      8\u001b[0m     \u001b[0mprint\u001b[0m\u001b[1;33m(\u001b[0m\u001b[0mx\u001b[0m\u001b[1;33m)\u001b[0m\u001b[1;33m\u001b[0m\u001b[0m\n",
      "\u001b[1;32mC:\\Users\\bodil\\Anaconda3\\lib\\site-packages\\sklearn\\cluster\\k_means_.py\u001b[0m in \u001b[0;36mfit\u001b[1;34m(self, X, y)\u001b[0m\n\u001b[0;32m    887\u001b[0m                 \u001b[0mtol\u001b[0m\u001b[1;33m=\u001b[0m\u001b[0mself\u001b[0m\u001b[1;33m.\u001b[0m\u001b[0mtol\u001b[0m\u001b[1;33m,\u001b[0m \u001b[0mrandom_state\u001b[0m\u001b[1;33m=\u001b[0m\u001b[0mrandom_state\u001b[0m\u001b[1;33m,\u001b[0m \u001b[0mcopy_x\u001b[0m\u001b[1;33m=\u001b[0m\u001b[0mself\u001b[0m\u001b[1;33m.\u001b[0m\u001b[0mcopy_x\u001b[0m\u001b[1;33m,\u001b[0m\u001b[1;33m\u001b[0m\u001b[0m\n\u001b[0;32m    888\u001b[0m                 \u001b[0mn_jobs\u001b[0m\u001b[1;33m=\u001b[0m\u001b[0mself\u001b[0m\u001b[1;33m.\u001b[0m\u001b[0mn_jobs\u001b[0m\u001b[1;33m,\u001b[0m \u001b[0malgorithm\u001b[0m\u001b[1;33m=\u001b[0m\u001b[0mself\u001b[0m\u001b[1;33m.\u001b[0m\u001b[0malgorithm\u001b[0m\u001b[1;33m,\u001b[0m\u001b[1;33m\u001b[0m\u001b[0m\n\u001b[1;32m--> 889\u001b[1;33m                 return_n_iter=True)\n\u001b[0m\u001b[0;32m    890\u001b[0m         \u001b[1;32mreturn\u001b[0m \u001b[0mself\u001b[0m\u001b[1;33m\u001b[0m\u001b[0m\n\u001b[0;32m    891\u001b[0m \u001b[1;33m\u001b[0m\u001b[0m\n",
      "\u001b[1;32mC:\\Users\\bodil\\Anaconda3\\lib\\site-packages\\sklearn\\cluster\\k_means_.py\u001b[0m in \u001b[0;36mk_means\u001b[1;34m(X, n_clusters, init, precompute_distances, n_init, max_iter, verbose, tol, random_state, copy_x, n_jobs, algorithm, return_n_iter)\u001b[0m\n\u001b[0;32m    282\u001b[0m \u001b[1;33m\u001b[0m\u001b[0m\n\u001b[0;32m    283\u001b[0m     \u001b[0mbest_inertia\u001b[0m \u001b[1;33m=\u001b[0m \u001b[0mnp\u001b[0m\u001b[1;33m.\u001b[0m\u001b[0minfty\u001b[0m\u001b[1;33m\u001b[0m\u001b[0m\n\u001b[1;32m--> 284\u001b[1;33m     \u001b[0mX\u001b[0m \u001b[1;33m=\u001b[0m \u001b[0mas_float_array\u001b[0m\u001b[1;33m(\u001b[0m\u001b[0mX\u001b[0m\u001b[1;33m,\u001b[0m \u001b[0mcopy\u001b[0m\u001b[1;33m=\u001b[0m\u001b[0mcopy_x\u001b[0m\u001b[1;33m)\u001b[0m\u001b[1;33m\u001b[0m\u001b[0m\n\u001b[0m\u001b[0;32m    285\u001b[0m     \u001b[0mtol\u001b[0m \u001b[1;33m=\u001b[0m \u001b[0m_tolerance\u001b[0m\u001b[1;33m(\u001b[0m\u001b[0mX\u001b[0m\u001b[1;33m,\u001b[0m \u001b[0mtol\u001b[0m\u001b[1;33m)\u001b[0m\u001b[1;33m\u001b[0m\u001b[0m\n\u001b[0;32m    286\u001b[0m \u001b[1;33m\u001b[0m\u001b[0m\n",
      "\u001b[1;32mC:\\Users\\bodil\\Anaconda3\\lib\\site-packages\\sklearn\\utils\\validation.py\u001b[0m in \u001b[0;36mas_float_array\u001b[1;34m(X, copy, force_all_finite)\u001b[0m\n\u001b[0;32m     97\u001b[0m         \u001b[1;32mreturn\u001b[0m \u001b[0mX\u001b[0m\u001b[1;33m.\u001b[0m\u001b[0mcopy\u001b[0m\u001b[1;33m(\u001b[0m\u001b[1;33m)\u001b[0m \u001b[1;32mif\u001b[0m \u001b[0mcopy\u001b[0m \u001b[1;32melse\u001b[0m \u001b[0mX\u001b[0m\u001b[1;33m\u001b[0m\u001b[0m\n\u001b[0;32m     98\u001b[0m     \u001b[1;32melif\u001b[0m \u001b[0mX\u001b[0m\u001b[1;33m.\u001b[0m\u001b[0mdtype\u001b[0m \u001b[1;32min\u001b[0m \u001b[1;33m[\u001b[0m\u001b[0mnp\u001b[0m\u001b[1;33m.\u001b[0m\u001b[0mfloat32\u001b[0m\u001b[1;33m,\u001b[0m \u001b[0mnp\u001b[0m\u001b[1;33m.\u001b[0m\u001b[0mfloat64\u001b[0m\u001b[1;33m]\u001b[0m\u001b[1;33m:\u001b[0m  \u001b[1;31m# is numpy array\u001b[0m\u001b[1;33m\u001b[0m\u001b[0m\n\u001b[1;32m---> 99\u001b[1;33m         \u001b[1;32mreturn\u001b[0m \u001b[0mX\u001b[0m\u001b[1;33m.\u001b[0m\u001b[0mcopy\u001b[0m\u001b[1;33m(\u001b[0m\u001b[1;34m'F'\u001b[0m \u001b[1;32mif\u001b[0m \u001b[0mX\u001b[0m\u001b[1;33m.\u001b[0m\u001b[0mflags\u001b[0m\u001b[1;33m[\u001b[0m\u001b[1;34m'F_CONTIGUOUS'\u001b[0m\u001b[1;33m]\u001b[0m \u001b[1;32melse\u001b[0m \u001b[1;34m'C'\u001b[0m\u001b[1;33m)\u001b[0m \u001b[1;32mif\u001b[0m \u001b[0mcopy\u001b[0m \u001b[1;32melse\u001b[0m \u001b[0mX\u001b[0m\u001b[1;33m\u001b[0m\u001b[0m\n\u001b[0m\u001b[0;32m    100\u001b[0m     \u001b[1;32melse\u001b[0m\u001b[1;33m:\u001b[0m\u001b[1;33m\u001b[0m\u001b[0m\n\u001b[0;32m    101\u001b[0m         \u001b[1;32mreturn\u001b[0m \u001b[0mX\u001b[0m\u001b[1;33m.\u001b[0m\u001b[0mastype\u001b[0m\u001b[1;33m(\u001b[0m\u001b[0mnp\u001b[0m\u001b[1;33m.\u001b[0m\u001b[0mfloat32\u001b[0m \u001b[1;32mif\u001b[0m \u001b[0mX\u001b[0m\u001b[1;33m.\u001b[0m\u001b[0mdtype\u001b[0m \u001b[1;33m==\u001b[0m \u001b[0mnp\u001b[0m\u001b[1;33m.\u001b[0m\u001b[0mint32\u001b[0m \u001b[1;32melse\u001b[0m \u001b[0mnp\u001b[0m\u001b[1;33m.\u001b[0m\u001b[0mfloat64\u001b[0m\u001b[1;33m)\u001b[0m\u001b[1;33m\u001b[0m\u001b[0m\n",
      "\u001b[1;31mKeyboardInterrupt\u001b[0m: "
     ]
    }
   ],
   "source": [
    "from sklearn.cluster import KMeans\n",
    "from sklearn import metrics\n",
    "elbow_plot = []\n",
    "for x in range(1,100):\n",
    "    km = KMeans(n_clusters=x, init='k-means++', max_iter=100, n_init=1, random_state=0)\n",
    "    result = km.fit(X)\n",
    "    elbow_plot.append(result.inertia_)\n",
    "    print(x)"
   ]
  },
  {
   "cell_type": "code",
   "execution_count": 194,
   "metadata": {
    "collapsed": true,
    "comet_cell_id": "f7dae3f0d09ff"
   },
   "outputs": [],
   "source": [
    "%matplotlib inline\n",
    "from matplotlib import pyplot as plt"
   ]
  },
  {
   "cell_type": "code",
   "execution_count": 195,
   "metadata": {
    "comet_cell_id": "d6d353d7eb352"
   },
   "outputs": [
    {
     "data": {
      "text/plain": [
       "[<matplotlib.lines.Line2D at 0x28637860588>]"
      ]
     },
     "execution_count": 195,
     "metadata": {},
     "output_type": "execute_result"
    },
    {
     "data": {
      "image/png": "[encoded data removed]",
      "text/plain": [
       "<matplotlib.figure.Figure at 0x28637860e80>"
      ]
     },
     "metadata": {},
     "output_type": "display_data"
    }
   ],
   "source": [
    "import numpy as np\n",
    "plt.xticks(np.arange(0,70,5))\n",
    "plt.plot(elbow_plot)"
   ]
  },
  {
   "cell_type": "code",
   "execution_count": null,
   "metadata": {
    "collapsed": true,
    "comet_cell_id": "11020162582af"
   },
   "outputs": [],
   "source": [
    "#3 choices for correct number of clusters\n",
    "#5 clusters\n",
    "#27 clusters\n",
    "#55 clusters"
   ]
  },
  {
   "cell_type": "code",
   "execution_count": 196,
   "metadata": {
    "collapsed": true,
    "comet_cell_id": "0564216a27607"
   },
   "outputs": [],
   "source": [
    "from sklearn.cluster import KMeans\n",
    "from sklearn import metrics\n",
    "num_of_clusters = 10\n",
    "km = KMeans(n_clusters=num_of_clusters, init='k-means++', max_iter=100, n_init=1, random_state=0)\n",
    "result = km.fit(X)"
   ]
  },
  {
   "cell_type": "code",
   "execution_count": null,
   "metadata": {
    "collapsed": true,
    "comet_cell_id": "208a1995b0266"
   },
   "outputs": [],
   "source": []
  },
  {
   "cell_type": "code",
   "execution_count": null,
   "metadata": {
    "collapsed": true,
    "comet_cell_id": "0257b029866c5"
   },
   "outputs": [],
   "source": []
  },
  {
   "cell_type": "code",
   "execution_count": null,
   "metadata": {
    "collapsed": true,
    "comet_cell_id": "ea86ba171931d"
   },
   "outputs": [],
   "source": []
  },
  {
   "cell_type": "code",
   "execution_count": 197,
   "metadata": {
    "comet_cell_id": "95052868fa7eb"
   },
   "outputs": [
    {
     "data": {
      "text/plain": [
       "Computers in Human Behavior4                                                       2111\n",
       "Computers and Education4                                                           1766\n",
       "Memory and Cognition4                                                              1205\n",
       "British Journal of Educational Technology4                                          955\n",
       "Computers in Human Behavior2                                                        951\n",
       "Computers in Human Behavior3                                                        943\n",
       "Turkish Online Journal of Educational Technology4                                   813\n",
       "Computers and Education3                                                            804\n",
       "Computers and Education2                                                            769\n",
       "International Journal of Human Computer Studies4                                    760\n",
       "Memory &amp; Cognition4                                                             751\n",
       "International Journal of Learning4                                                  704\n",
       "TechTrends4                                                                         698\n",
       "Educational Technology and Society4                                                 664\n",
       "Journal of Computer Assisted Learning4                                              564\n",
       "Instructional Science4                                                              556\n",
       "Learning and Instruction4                                                           530\n",
       "Computers in Human Behavior1                                                        529\n",
       "Memory and Cognition2                                                               498\n",
       "Computers in the Schools4                                                           496\n",
       "Educational Technology Research and Development4                                    496\n",
       "International Journal of Human-Computer Interaction4                                495\n",
       "Memory and Cognition3                                                               473\n",
       "Journal of Educational Computing Research4                                          468\n",
       "Turkish Online Journal of Distance Education4                                       434\n",
       "Computers in Education Journal4                                                     414\n",
       "International Review of Research in Open and Distance Learning4                     413\n",
       "Memory &amp; Cognition3                                                             410\n",
       "British Journal of Educational Technology2                                          390\n",
       "British Journal of Educational Technology3                                          360\n",
       "                                                                                   ... \n",
       "Audio Visual Communication Review2                                                    2\n",
       "Open Learning0                                                                        2\n",
       "Audio-Video Communication Review2                                                     2\n",
       "Audio-Visual Commmunication Review4                                                   2\n",
       "International Journal of Mobile Human Computer Interaction (IJMHCI)3                  2\n",
       "Journal of Technology, Learning, and Assessment0                                      2\n",
       "Human–Computer Interaction3                                                           2\n",
       "Human—Computer Interaction2                                                           2\n",
       "HumanâComputer Interaction4                                                         1\n",
       "Language, Learning and Technology0                                                    1\n",
       "Research in Learning Technology0                                                      1\n",
       "Journal of Computer‐Mediated Communication1                                           1\n",
       "International Journal of Mobile Human Computer Interaction (IJMHCI)2                  1\n",
       "Educational Communication &amp; Technology Journal1                                   1\n",
       "Educational Communication &amp; Technology Journal3                                   1\n",
       "nan3                                                                                  1\n",
       "International journal of human-computer interaction4                                  1\n",
       "nan2                                                                                  1\n",
       "International Journal of Technology and Human Interaction (IJTHI)1                    1\n",
       "International Journal of Web-Based Learning and Teaching Technologies (IJWLTT)0       1\n",
       "Educational Communication &amp; Technology Journal2                                   1\n",
       "Journal of Educational Multimedia and Hypermedia0                                     1\n",
       "Audio Visual Communication Review1                                                    1\n",
       "Audio-Visual Commmunication Review1                                                   1\n",
       "Audiovisual communication review4                                                     1\n",
       "Audio-Visual Commmunication Review2                                                   1\n",
       "HumanâComputer Interaction2                                                         1\n",
       "Educational Communication and Technology0                                             1\n",
       "International Journal of Educational Technology in Higher Education0                  1\n",
       "International Journal of Mobile and Blended Learning0                                 1\n",
       "Name: test, Length: 485, dtype: int64"
      ]
     },
     "execution_count": 197,
     "metadata": {},
     "output_type": "execute_result"
    }
   ],
   "source": [
    "#CLUSTER SEPARATION BY JOURNAL\n",
    "\n",
    "df['cluster_k_10'] = pd.Series(result.labels_)\n",
    "test = df[['publicationName','cluster_k_5']].copy()\n",
    "test['test'] = test.publicationName.astype(str) + test.cluster_k_5.astype(str)\n",
    "test.test.value_counts()"
   ]
  },
  {
   "cell_type": "code",
   "execution_count": null,
   "metadata": {
    "collapsed": true,
    "comet_cell_id": "597de761a1db9"
   },
   "outputs": [],
   "source": []
  },
  {
   "cell_type": "code",
   "execution_count": null,
   "metadata": {
    "collapsed": true,
    "comet_cell_id": "680b14491fd99"
   },
   "outputs": [],
   "source": []
  },
  {
   "cell_type": "code",
   "execution_count": null,
   "metadata": {
    "collapsed": true,
    "comet_cell_id": "11108ea3444e2"
   },
   "outputs": [],
   "source": []
  },
  {
   "cell_type": "markdown",
   "metadata": {
    "comet_cell_id": "8dafd069525f6"
   },
   "source": [
    "# Tabular Inspection"
   ]
  },
  {
   "cell_type": "code",
   "execution_count": 191,
   "metadata": {
    "collapsed": true,
    "comet_cell_id": "fb97362baf78d"
   },
   "outputs": [],
   "source": [
    "from nltk.corpus import stopwords\n",
    "stops = set(stopwords.words('english'))\n",
    "for cluster in range(2,3):\n",
    "    temp = df[df.cluster_k_5 == cluster]\n",
    "    cluster_words = temp.title.map(lambda x: [y for y in x.lower().split(' ') if y not in stops]).apply(pd.Series).stack().reset_index(drop=True)"
   ]
  },
  {
   "cell_type": "code",
   "execution_count": 192,
   "metadata": {
    "comet_cell_id": "08389a620d67f"
   },
   "outputs": [
    {
     "data": {
      "text/plain": [
       "learning            2374\n",
       "online               856\n",
       "education            731\n",
       "study                650\n",
       "using                596\n",
       "use                  585\n",
       "technology           575\n",
       "social               517\n",
       "effects              515\n",
       "design               487\n",
       "students             453\n",
       "teaching             415\n",
       "development          400\n",
       "student              397\n",
       "students'            382\n",
       "computer             378\n",
       "knowledge            355\n",
       "educational          342\n",
       "case                 332\n",
       "school               322\n",
       "digital              311\n",
       "system               310\n",
       "distance             309\n",
       "analysis             304\n",
       "information          303\n",
       "virtual              296\n",
       "model                271\n",
       "collaborative        270\n",
       "performance          267\n",
       "mobile               267\n",
       "                    ... \n",
       "tactics:               1\n",
       "balked                 1\n",
       "vitro                  1\n",
       "expanded               1\n",
       "inquiry\"               1\n",
       "graduating             1\n",
       "abilities,             1\n",
       "meta-game              1\n",
       "thesaurus-based        1\n",
       "aect's                 1\n",
       "recognize              1\n",
       "spelling-a             1\n",
       "14                     1\n",
       "programming?           1\n",
       "entrepreneurs          1\n",
       "cu-seeme,              1\n",
       "pop-ups                1\n",
       "exergame               1\n",
       "metasynthesis          1\n",
       "u-constructs           1\n",
       "secondary-level        1\n",
       "zimbabwean             1\n",
       "console                1\n",
       "time-limited           1\n",
       "recurse?               1\n",
       "supporting,            1\n",
       "hearing‐impaired       1\n",
       "mugshot                1\n",
       "infected               1\n",
       "                       1\n",
       "Length: 14044, dtype: int64"
      ]
     },
     "execution_count": 192,
     "metadata": {},
     "output_type": "execute_result"
    }
   ],
   "source": [
    "cluster_words.value_counts()"
   ]
  },
  {
   "cell_type": "code",
   "execution_count": 48,
   "metadata": {
    "comet_cell_id": "527d45360863d"
   },
   "outputs": [
    {
     "data": {
      "text/plain": [
       "learning        21722\n",
       "students        16537\n",
       "study           12714\n",
       "use              8213\n",
       "©                7751\n",
       "based            7490\n",
       "results          7293\n",
       "research         7289\n",
       "technology       6466\n",
       "education        6235\n",
       "online           6131\n",
       "design           5819\n",
       "paper            5595\n",
       "knowledge        5317\n",
       "used             5308\n",
       "using            5270\n",
       "information      5168\n",
       "two              4931\n",
       "teachers         4836\n",
       "group            4705\n",
       "social           4665\n",
       "data             4652\n",
       "also             4377\n",
       "teaching         4246\n",
       "student          4232\n",
       "computer         4206\n",
       "educational      4142\n",
       "model            4029\n",
       "system           3906\n",
       "analysis         3795\n",
       "                ...  \n",
       "eli                 1\n",
       "studentski          1\n",
       "combatant           1\n",
       "‘open’              1\n",
       "viten               1\n",
       "schrum              1\n",
       "adoptedin           1\n",
       "stubbs              1\n",
       "cctv                1\n",
       "pearlstone          1\n",
       "unitelma            1\n",
       "eurvine             1\n",
       "cho                 1\n",
       "davey               1\n",
       "playroom            1\n",
       "covary              1\n",
       "bruder              1\n",
       "linc                1\n",
       "week’s              1\n",
       "ololade             1\n",
       "unattached          1\n",
       "congregate          1\n",
       "favorites           1\n",
       "prioritising        1\n",
       "‘all                1\n",
       "blasius             1\n",
       "isocial             1\n",
       "resizing            1\n",
       "immensely           1\n",
       "solitaire           1\n",
       "Length: 35959, dtype: int64"
      ]
     },
     "execution_count": 48,
     "metadata": {},
     "output_type": "execute_result"
    }
   ],
   "source": [
    "cluster_words.value_counts()"
   ]
  },
  {
   "cell_type": "code",
   "execution_count": null,
   "metadata": {
    "collapsed": true,
    "comet_cell_id": "4eba0978902e3"
   },
   "outputs": [],
   "source": []
  },
  {
   "cell_type": "code",
   "execution_count": null,
   "metadata": {
    "collapsed": true,
    "comet_cell_id": "b6bfae215176c"
   },
   "outputs": [],
   "source": [
    "#VISUAL INSPECTION BELOW"
   ]
  },
  {
   "cell_type": "code",
   "execution_count": 32,
   "metadata": {
    "collapsed": true,
    "comet_cell_id": "108229d86b4c3"
   },
   "outputs": [],
   "source": [
    "final_df = pd.DataFrame()\n",
    "count = 1\n",
    "\n",
    "for x in range(num_of_clusters):\n",
    "    x = float(x)\n",
    "    temp = df[df.cluster_k_5 == x]\n",
    "    x = int(x)\n",
    "    temp_counts = temp.abstract.apply(pd.Series).stack().reset_index(drop=True).value_counts()\n",
    "    temp_counts = temp_counts/float(len(temp.index))\n",
    "    temp_counts_df = pd.DataFrame(temp_counts)\n",
    "    temp_counts_df['words'] = temp_counts_df.index\n",
    "    temp_counts_df.reset_index(inplace=True,drop=True)\n",
    "    temp_counts_df.rename(columns={0:'counts{}'.format(x + 1)},inplace=True)\n",
    "    if count == 1:\n",
    "        final_df = temp_counts_df.copy()\n",
    "    else:\n",
    "        final_df = final_df.merge(temp_counts_df,on='words',how='outer')\n",
    "    count += 1"
   ]
  },
  {
   "cell_type": "code",
   "execution_count": 38,
   "metadata": {
    "collapsed": true,
    "comet_cell_id": "f4fb735277cea"
   },
   "outputs": [],
   "source": [
    "import matplotlib"
   ]
  },
  {
   "cell_type": "code",
   "execution_count": 1,
   "metadata": {
    "comet_cell_id": "f71683cbfd47c"
   },
   "outputs": [],
   "source": [
    "num_to_show = 100\n",
    "fig, ax = plt.subplots(figsize=(num_to_show, 10))\n",
    "\n",
    "ind = np.arange(num_to_show)  # the x locations for the groups\n",
    "width = 5 / num_of_clusters\n",
    "colors = list(matplotlib.colors.cnames.keys())\n",
    "for x in range(num_of_clusters):\n",
    "    rects1 = ax.bar(ind + width*x, list(final_df['counts{}'.format(x+1)][:num_to_show]/float(len(final_df.index))),width,color=colors[x])\n",
    "ax.set_xticklabels(final_df.words[:num_to_show])\n",
    "ax.set_xticks(ind + .33)"
   ]
  },
  {
   "cell_type": "code",
   "execution_count": null,
   "metadata": {
    "collapsed": true,
    "comet_cell_id": "a534e8c00f105"
   },
   "outputs": [],
   "source": []
  }
 ],
 "metadata": {
  "comet_paths": [
   [
    "0a21c2a4\\Rick_JournalData_DocumentClustering.ipynb",
    1525456114635
   ],
   [
    "0a21c2a4\\Rick_JournalData_DocumentClustering-Copy1.ipynb",
    1526561962303
   ],
   [
    "0a21c2a4\\journal_article_document_clustering.ipynb",
    1526561992762
   ]
  ],
  "comet_tracking": true,
  "kernelspec": {
   "display_name": "Python [conda root]",
   "language": "python",
   "name": "conda-root-py"
  },
  "language_info": {
   "codemirror_mode": {
    "name": "ipython",
    "version": 3
   },
   "file_extension": ".py",
   "mimetype": "text/x-python",
   "name": "python",
   "nbconvert_exporter": "python",
   "pygments_lexer": "ipython3",
   "version": "3.6.1"
  }
 },
 "nbformat": 4,
 "nbformat_minor": 1
}
