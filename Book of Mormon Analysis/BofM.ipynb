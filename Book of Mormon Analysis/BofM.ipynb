{
 "cells": [
  {
   "cell_type": "code",
   "execution_count": 2,
   "metadata": {
    "collapsed": true,
    "comet_cell_id": "e5f0c5673d667"
   },
   "outputs": [],
   "source": [
    "with open('BofM.txt') as f:\n",
    "    text = f.readlines()\n",
    "\n",
    "bofm = []\n",
    "extra = ''\n",
    "flag = False\n",
    "count = 0\n",
    "verse = ''\n",
    "for x in text:\n",
    "    if x[0] == '\\n' and flag == True:\n",
    "        bofm.append({\n",
    "                'verse':verse,\n",
    "                'ref':ref\n",
    "                })\n",
    "        verse = ''\n",
    "        flag = False\n",
    "    elif x[0] == '\\n':\n",
    "        flag = False\n",
    "        verse = ''\n",
    "    elif x[0] == ' ' or flag == True:\n",
    "        flag = True\n",
    "        y = x.replace('\\n',' ')\n",
    "        if y[2].isdigit() == True:\n",
    "            verse += y[3:]\n",
    "        elif y[1].isdigit() == True:\n",
    "            verse += y[2:]\n",
    "        else:\n",
    "            verse += y\n",
    "        if y[0] == ' ':\n",
    "            ref = text[count - 1].replace('\\n','')\n",
    "    else:\n",
    "        extra += x\n",
    "    count += 1\n",
    "\n",
    "import pandas as pd\n",
    "test = pd.DataFrame(bofm)\n",
    "\n",
    "import re\n",
    "def remove_punct(cell):\n",
    "    return ' '.join(re.findall(r\"[\\w']+\", cell))\n",
    "\n",
    "test.verse = test.verse.map(remove_punct)\n",
    "\n",
    "bofm = ''\n",
    "for x in test.verse:\n",
    "    bofm += x + ' '\n",
    "\n",
    "wordcount = pd.Series(bofm.split(' ')).str.lower()\n",
    "\n",
    "from nltk.corpus import stopwords\n",
    "s=set(stopwords.words('english'))\n",
    "\n",
    "real_words = wordcount[~wordcount.isin(s)].copy()\n",
    "\n",
    "real_words = real_words.reset_index(drop=True)"
   ]
  },
  {
   "cell_type": "code",
   "execution_count": 2,
   "metadata": {
    "collapsed": true,
    "comet_cell_id": "22e1881a86e78"
   },
   "outputs": [],
   "source": [
    "#the raw text file of the bofm\n",
    "#text\n",
    "\n",
    "#dataframe of references and verses of the entire bofm\n",
    "#test\n",
    "\n",
    "#string of the entire text of the bofm without punctuation\n",
    "#bofm\n",
    "\n",
    "#series of all words in the bofm\n",
    "#wordcount\n",
    "\n",
    "#list of the default stop words from the NLTK corpus\n",
    "#s\n",
    "\n",
    "#list of words that are left after removing punctuation and common words\n",
    "#real_words"
   ]
  },
  {
   "cell_type": "code",
   "execution_count": 3,
   "metadata": {
    "collapsed": true,
    "comet_cell_id": "2026c5b7a5fc1"
   },
   "outputs": [],
   "source": [
    "def return_book(cell):\n",
    "    if cell.find('Words') > -1:\n",
    "        return 'Words of Mormon'\n",
    "    else:\n",
    "        start1 = re.search('[a-z]',cell).start(0)\n",
    "        endofbook = cell.find(' ',start1)\n",
    "        startofbook = 0\n",
    "        return cell[startofbook:endofbook]\n",
    "def return_chapter(cell):\n",
    "    if cell.find('Words') > -1:\n",
    "        start_list = [m.start() for m in re.finditer('\\s',cell)]\n",
    "        return cell[start_list[-1]:].split(':')[0]\n",
    "    else:\n",
    "        start1 = re.search('[a-z]',cell).start(0)\n",
    "        endofbook = cell.find(' ',start1)\n",
    "        return cell[endofbook:].split(':')[0]\n",
    "def return_verse(cell):\n",
    "    start1 = re.search('[a-z]',cell).start(0)\n",
    "    endofbook = cell.find(' ',start1)\n",
    "    return cell[endofbook:].split(':')[1]\n",
    "def return_words(cell):\n",
    "    word_list = cell.split(' ')\n",
    "    return len(word_list)"
   ]
  },
  {
   "cell_type": "code",
   "execution_count": 10,
   "metadata": {
    "collapsed": true,
    "comet_cell_id": "f4655b457f207"
   },
   "outputs": [],
   "source": [
    "# start_list = [m.start() for m in re.finditer('\\s',test.loc[0,'ref'])]"
   ]
  },
  {
   "cell_type": "code",
   "execution_count": 4,
   "metadata": {
    "collapsed": true,
    "comet_cell_id": "811debf36cd59"
   },
   "outputs": [],
   "source": [
    "test['book'] = test.ref.map(return_book)"
   ]
  },
  {
   "cell_type": "code",
   "execution_count": 5,
   "metadata": {
    "collapsed": true,
    "comet_cell_id": "5ac53e5866925"
   },
   "outputs": [],
   "source": [
    "test['chapter'] = test.ref.map(return_chapter)"
   ]
  },
  {
   "cell_type": "code",
   "execution_count": 6,
   "metadata": {
    "collapsed": true,
    "comet_cell_id": "93f67b66fba4c"
   },
   "outputs": [],
   "source": [
    "test['verseNum'] = test.ref.map(return_verse)"
   ]
  },
  {
   "cell_type": "code",
   "execution_count": 7,
   "metadata": {
    "collapsed": true,
    "comet_cell_id": "37c5abfec8ff3"
   },
   "outputs": [],
   "source": [
    "test['words'] = test.verse.map(return_words)"
   ]
  },
  {
   "cell_type": "code",
   "execution_count": 8,
   "metadata": {
    "collapsed": true,
    "comet_cell_id": "698db39a4ba4f"
   },
   "outputs": [],
   "source": [
    "test['characters'] = test.verse.map(lambda x: len(x.replace(' ','')))"
   ]
  },
  {
   "cell_type": "code",
   "execution_count": 9,
   "metadata": {
    "collapsed": true,
    "comet_cell_id": "3863f237f8184"
   },
   "outputs": [],
   "source": [
    "test.chapter = test.chapter.astype(int)\n",
    "test.verseNum = test.verseNum.astype(int)\n",
    "test.words = test.words.astype(int)\n",
    "test.characters = test.characters.astype(int)"
   ]
  },
  {
   "cell_type": "code",
   "execution_count": 9,
   "metadata": {
    "collapsed": true,
    "comet_cell_id": "0b6d3d5ff466f"
   },
   "outputs": [],
   "source": [
    "summarydf = pd.DataFrame(0,index=test.book.unique(),columns=['chapters','verses','words','characters',\n",
    "                                                             'V/C','W/V','Char/W'])\n",
    "for book in test.book.unique():\n",
    "    temp = test[test.book == book].copy()\n",
    "    chapters = len(temp.chapter.unique())\n",
    "    verses = temp.book.count()\n",
    "    words = temp.words.sum()\n",
    "    characters = temp.characters.sum()\n",
    "    avgCharactersPerWord = round(characters / float(words),2)\n",
    "    avgWordsPerVerse = int(words / float(verses))\n",
    "    avgVersePerChapter = int(verses / float(chapters))\n",
    "    summarydf.loc[book,'chapters'] = chapters\n",
    "    summarydf.loc[book,'verses'] = verses\n",
    "    summarydf.loc[book,'words'] = words\n",
    "    summarydf.loc[book,'characters'] = characters\n",
    "    summarydf.loc[book,'W/V'] = avgWordsPerVerse\n",
    "    summarydf.loc[book,'V/C'] = avgVersePerChapter\n",
    "    summarydf.loc[book,'Char/W'] = avgCharactersPerWord"
   ]
  },
  {
   "cell_type": "code",
   "execution_count": 10,
   "metadata": {
    "collapsed": true,
    "comet_cell_id": "ba7fad6249864"
   },
   "outputs": [],
   "source": [
    "summarydf2 = pd.DataFrame(0,index=['Total','Average'],columns=summarydf.columns)\n",
    "                          \n",
    "for x in summarydf.columns:\n",
    "    summarydf2.loc['Total',x] = int(summarydf[x].sum())\n",
    "\n",
    "for x in summarydf.columns:\n",
    "    summarydf2.loc['Average',x] = int(summarydf[x].mean())"
   ]
  },
  {
   "cell_type": "code",
   "execution_count": 11,
   "metadata": {
    "comet_cell_id": "3aff15e73c3f8"
   },
   "outputs": [
    {
     "data": {
      "text/html": [
       "<div>\n",
       "<table border=\"1\" class=\"dataframe\">\n",
       "  <thead>\n",
       "    <tr style=\"text-align: right;\">\n",
       "      <th></th>\n",
       "      <th>chapters</th>\n",
       "      <th>verses</th>\n",
       "      <th>words</th>\n",
       "      <th>characters</th>\n",
       "      <th>V/C</th>\n",
       "      <th>W/V</th>\n",
       "      <th>Char/W</th>\n",
       "    </tr>\n",
       "  </thead>\n",
       "  <tbody>\n",
       "    <tr>\n",
       "      <th>1 Nephi</th>\n",
       "      <td>22</td>\n",
       "      <td>617</td>\n",
       "      <td>25031</td>\n",
       "      <td>101729</td>\n",
       "      <td>28</td>\n",
       "      <td>40</td>\n",
       "      <td>4.06</td>\n",
       "    </tr>\n",
       "    <tr>\n",
       "      <th>2 Nephi</th>\n",
       "      <td>33</td>\n",
       "      <td>779</td>\n",
       "      <td>29399</td>\n",
       "      <td>120622</td>\n",
       "      <td>23</td>\n",
       "      <td>37</td>\n",
       "      <td>4.10</td>\n",
       "    </tr>\n",
       "    <tr>\n",
       "      <th>Jacob</th>\n",
       "      <td>7</td>\n",
       "      <td>203</td>\n",
       "      <td>9034</td>\n",
       "      <td>37786</td>\n",
       "      <td>29</td>\n",
       "      <td>44</td>\n",
       "      <td>4.18</td>\n",
       "    </tr>\n",
       "    <tr>\n",
       "      <th>Enos</th>\n",
       "      <td>1</td>\n",
       "      <td>27</td>\n",
       "      <td>1160</td>\n",
       "      <td>4730</td>\n",
       "      <td>27</td>\n",
       "      <td>42</td>\n",
       "      <td>4.08</td>\n",
       "    </tr>\n",
       "    <tr>\n",
       "      <th>Jarom</th>\n",
       "      <td>1</td>\n",
       "      <td>15</td>\n",
       "      <td>734</td>\n",
       "      <td>3149</td>\n",
       "      <td>15</td>\n",
       "      <td>48</td>\n",
       "      <td>4.29</td>\n",
       "    </tr>\n",
       "    <tr>\n",
       "      <th>Omni</th>\n",
       "      <td>1</td>\n",
       "      <td>30</td>\n",
       "      <td>1398</td>\n",
       "      <td>5906</td>\n",
       "      <td>30</td>\n",
       "      <td>46</td>\n",
       "      <td>4.22</td>\n",
       "    </tr>\n",
       "    <tr>\n",
       "      <th>Words of Mormon</th>\n",
       "      <td>1</td>\n",
       "      <td>18</td>\n",
       "      <td>827</td>\n",
       "      <td>3576</td>\n",
       "      <td>18</td>\n",
       "      <td>45</td>\n",
       "      <td>4.32</td>\n",
       "    </tr>\n",
       "    <tr>\n",
       "      <th>Mosiah</th>\n",
       "      <td>29</td>\n",
       "      <td>785</td>\n",
       "      <td>31159</td>\n",
       "      <td>130181</td>\n",
       "      <td>27</td>\n",
       "      <td>39</td>\n",
       "      <td>4.18</td>\n",
       "    </tr>\n",
       "    <tr>\n",
       "      <th>Alma</th>\n",
       "      <td>63</td>\n",
       "      <td>1973</td>\n",
       "      <td>84975</td>\n",
       "      <td>356151</td>\n",
       "      <td>31</td>\n",
       "      <td>43</td>\n",
       "      <td>4.19</td>\n",
       "    </tr>\n",
       "    <tr>\n",
       "      <th>Helaman</th>\n",
       "      <td>16</td>\n",
       "      <td>496</td>\n",
       "      <td>20414</td>\n",
       "      <td>85838</td>\n",
       "      <td>31</td>\n",
       "      <td>41</td>\n",
       "      <td>4.20</td>\n",
       "    </tr>\n",
       "    <tr>\n",
       "      <th>3 Nephi</th>\n",
       "      <td>30</td>\n",
       "      <td>783</td>\n",
       "      <td>28599</td>\n",
       "      <td>118300</td>\n",
       "      <td>26</td>\n",
       "      <td>36</td>\n",
       "      <td>4.14</td>\n",
       "    </tr>\n",
       "    <tr>\n",
       "      <th>4 Nephi</th>\n",
       "      <td>1</td>\n",
       "      <td>49</td>\n",
       "      <td>1919</td>\n",
       "      <td>8185</td>\n",
       "      <td>49</td>\n",
       "      <td>39</td>\n",
       "      <td>4.27</td>\n",
       "    </tr>\n",
       "    <tr>\n",
       "      <th>Mormon</th>\n",
       "      <td>9</td>\n",
       "      <td>227</td>\n",
       "      <td>9383</td>\n",
       "      <td>38830</td>\n",
       "      <td>25</td>\n",
       "      <td>41</td>\n",
       "      <td>4.14</td>\n",
       "    </tr>\n",
       "    <tr>\n",
       "      <th>Ether</th>\n",
       "      <td>15</td>\n",
       "      <td>433</td>\n",
       "      <td>16534</td>\n",
       "      <td>67521</td>\n",
       "      <td>28</td>\n",
       "      <td>38</td>\n",
       "      <td>4.08</td>\n",
       "    </tr>\n",
       "    <tr>\n",
       "      <th>Moroni</th>\n",
       "      <td>10</td>\n",
       "      <td>162</td>\n",
       "      <td>6003</td>\n",
       "      <td>24912</td>\n",
       "      <td>16</td>\n",
       "      <td>37</td>\n",
       "      <td>4.15</td>\n",
       "    </tr>\n",
       "  </tbody>\n",
       "</table>\n",
       "</div>"
      ],
      "text/plain": [
       "                 chapters  verses  words  characters  V/C  W/V  Char/W\n",
       "1 Nephi                22     617  25031      101729   28   40    4.06\n",
       "2 Nephi                33     779  29399      120622   23   37    4.10\n",
       "Jacob                   7     203   9034       37786   29   44    4.18\n",
       "Enos                    1      27   1160        4730   27   42    4.08\n",
       "Jarom                   1      15    734        3149   15   48    4.29\n",
       "Omni                    1      30   1398        5906   30   46    4.22\n",
       "Words of Mormon         1      18    827        3576   18   45    4.32\n",
       "Mosiah                 29     785  31159      130181   27   39    4.18\n",
       "Alma                   63    1973  84975      356151   31   43    4.19\n",
       "Helaman                16     496  20414       85838   31   41    4.20\n",
       "3 Nephi                30     783  28599      118300   26   36    4.14\n",
       "4 Nephi                 1      49   1919        8185   49   39    4.27\n",
       "Mormon                  9     227   9383       38830   25   41    4.14\n",
       "Ether                  15     433  16534       67521   28   38    4.08\n",
       "Moroni                 10     162   6003       24912   16   37    4.15"
      ]
     },
     "execution_count": 11,
     "metadata": {},
     "output_type": "execute_result"
    }
   ],
   "source": [
    "summarydf"
   ]
  },
  {
   "cell_type": "code",
   "execution_count": 12,
   "metadata": {
    "comet_cell_id": "b96d1e903deb1"
   },
   "outputs": [
    {
     "data": {
      "text/html": [
       "<div>\n",
       "<table border=\"1\" class=\"dataframe\">\n",
       "  <thead>\n",
       "    <tr style=\"text-align: right;\">\n",
       "      <th></th>\n",
       "      <th>chapters</th>\n",
       "      <th>verses</th>\n",
       "      <th>words</th>\n",
       "      <th>characters</th>\n",
       "      <th>V/C</th>\n",
       "      <th>W/V</th>\n",
       "      <th>Char/W</th>\n",
       "    </tr>\n",
       "  </thead>\n",
       "  <tbody>\n",
       "    <tr>\n",
       "      <th>Total</th>\n",
       "      <td>239</td>\n",
       "      <td>6597</td>\n",
       "      <td>266569</td>\n",
       "      <td>1107416</td>\n",
       "      <td>403</td>\n",
       "      <td>616</td>\n",
       "      <td>62</td>\n",
       "    </tr>\n",
       "    <tr>\n",
       "      <th>Average</th>\n",
       "      <td>15</td>\n",
       "      <td>439</td>\n",
       "      <td>17771</td>\n",
       "      <td>73827</td>\n",
       "      <td>26</td>\n",
       "      <td>41</td>\n",
       "      <td>4</td>\n",
       "    </tr>\n",
       "  </tbody>\n",
       "</table>\n",
       "</div>"
      ],
      "text/plain": [
       "         chapters  verses   words  characters  V/C  W/V  Char/W\n",
       "Total         239    6597  266569     1107416  403  616      62\n",
       "Average        15     439   17771       73827   26   41       4"
      ]
     },
     "execution_count": 12,
     "metadata": {},
     "output_type": "execute_result"
    }
   ],
   "source": [
    "summarydf2"
   ]
  },
  {
   "cell_type": "code",
   "execution_count": 13,
   "metadata": {
    "collapsed": true,
    "comet_cell_id": "37e5f580de968"
   },
   "outputs": [],
   "source": [
    "bookdf = pd.DataFrame(0,index=test.book.unique(),columns=['text'])"
   ]
  },
  {
   "cell_type": "code",
   "execution_count": 14,
   "metadata": {
    "collapsed": true,
    "comet_cell_id": "ac380aa6429d7"
   },
   "outputs": [],
   "source": [
    "for x in test.book.unique():\n",
    "    bookstring = ''\n",
    "    temp = test[test.book == x].copy()\n",
    "    for y in temp.verse:\n",
    "        bookstring += y + ' '\n",
    "    bookdf.loc[x,'text'] = bookstring"
   ]
  },
  {
   "cell_type": "code",
   "execution_count": 15,
   "metadata": {
    "collapsed": true,
    "comet_cell_id": "9fd253f517796"
   },
   "outputs": [],
   "source": [
    "bookdf.text = bookdf.text.str.lower()"
   ]
  },
  {
   "cell_type": "code",
   "execution_count": 16,
   "metadata": {
    "collapsed": true,
    "comet_cell_id": "13fc21bcd0bcb"
   },
   "outputs": [],
   "source": [
    "def find_word_in_book( wordtext ):\n",
    "    global bookdf\n",
    "    list_of_values = []\n",
    "    starting_places = []\n",
    "    for x in bookdf.index:\n",
    "        templist = 0\n",
    "        list_of_starts = []\n",
    "        for word in wordtext:\n",
    "            booktext = bookdf.loc[x,'text']\n",
    "            starts = [m.start() for m in re.finditer(word,booktext)]\n",
    "            templist += len(starts)\n",
    "            list_of_starts += starts\n",
    "        list_of_values.append(round(pd.Series(templist).sum()/float(summarydf.loc[x,'chapters']),2))\n",
    "        starting_places.append(list_of_starts)\n",
    "    return list_of_values,starting_places"
   ]
  },
  {
   "cell_type": "code",
   "execution_count": 17,
   "metadata": {
    "collapsed": true,
    "comet_cell_id": "14ece541ea7d2"
   },
   "outputs": [],
   "source": [
    "search_string = ['repent','remission']\n",
    "bookdf['repent'],bookdf['repentloc'] = find_word_in_book(search_string)\n",
    "\n",
    "search_string = ['faith','trust','believe','belief','believing']\n",
    "bookdf['faith'],bookdf['faithloc'] = find_word_in_book(search_string)\n",
    "\n",
    "search_string = ['forgive','forgave']\n",
    "bookdf['forgive'],bookdf['forgiveloc'] = find_word_in_book(search_string)\n",
    "\n",
    "search_string = ['baptism','baptize']\n",
    "bookdf['baptism'],bookdf['baptismloc'] = find_word_in_book(search_string)\n",
    "\n",
    "search_string = ['holy ghost','spirit']\n",
    "bookdf['spirit'],bookdf['spiritloc'] = find_word_in_book(search_string)\n",
    "\n",
    "search_string = ['christ','lord','god','redeemer','savior','saviour','the son','messiah']\n",
    "bookdf['God'],bookdf['Godloc'] = find_word_in_book(search_string)"
   ]
  },
  {
   "cell_type": "code",
   "execution_count": 18,
   "metadata": {
    "comet_cell_id": "ba5d646ec102e"
   },
   "outputs": [
    {
     "data": {
      "text/html": [
       "<div>\n",
       "<table border=\"1\" class=\"dataframe\">\n",
       "  <thead>\n",
       "    <tr style=\"text-align: right;\">\n",
       "      <th></th>\n",
       "      <th>repent</th>\n",
       "      <th>faith</th>\n",
       "      <th>baptism</th>\n",
       "      <th>spirit</th>\n",
       "      <th>God</th>\n",
       "    </tr>\n",
       "  </thead>\n",
       "  <tbody>\n",
       "    <tr>\n",
       "      <th>1 Nephi</th>\n",
       "      <td>0.36</td>\n",
       "      <td>1.64</td>\n",
       "      <td>0.36</td>\n",
       "      <td>2.41</td>\n",
       "      <td>20.55</td>\n",
       "    </tr>\n",
       "    <tr>\n",
       "      <th>2 Nephi</th>\n",
       "      <td>0.67</td>\n",
       "      <td>2.06</td>\n",
       "      <td>0.42</td>\n",
       "      <td>1.82</td>\n",
       "      <td>18.61</td>\n",
       "    </tr>\n",
       "    <tr>\n",
       "      <th>Jacob</th>\n",
       "      <td>0.71</td>\n",
       "      <td>1.71</td>\n",
       "      <td>0.00</td>\n",
       "      <td>1.71</td>\n",
       "      <td>20.71</td>\n",
       "    </tr>\n",
       "    <tr>\n",
       "      <th>Enos</th>\n",
       "      <td>1.00</td>\n",
       "      <td>11.00</td>\n",
       "      <td>0.00</td>\n",
       "      <td>1.00</td>\n",
       "      <td>23.00</td>\n",
       "    </tr>\n",
       "    <tr>\n",
       "      <th>Jarom</th>\n",
       "      <td>1.00</td>\n",
       "      <td>4.00</td>\n",
       "      <td>0.00</td>\n",
       "      <td>1.00</td>\n",
       "      <td>8.00</td>\n",
       "    </tr>\n",
       "    <tr>\n",
       "      <th>Omni</th>\n",
       "      <td>0.00</td>\n",
       "      <td>1.00</td>\n",
       "      <td>0.00</td>\n",
       "      <td>0.00</td>\n",
       "      <td>20.00</td>\n",
       "    </tr>\n",
       "    <tr>\n",
       "      <th>Words of Mormon</th>\n",
       "      <td>0.00</td>\n",
       "      <td>0.00</td>\n",
       "      <td>0.00</td>\n",
       "      <td>1.00</td>\n",
       "      <td>15.00</td>\n",
       "    </tr>\n",
       "    <tr>\n",
       "      <th>Mosiah</th>\n",
       "      <td>1.45</td>\n",
       "      <td>2.62</td>\n",
       "      <td>0.66</td>\n",
       "      <td>1.07</td>\n",
       "      <td>17.31</td>\n",
       "    </tr>\n",
       "    <tr>\n",
       "      <th>Alma</th>\n",
       "      <td>2.00</td>\n",
       "      <td>4.16</td>\n",
       "      <td>0.32</td>\n",
       "      <td>2.16</td>\n",
       "      <td>16.40</td>\n",
       "    </tr>\n",
       "    <tr>\n",
       "      <th>Helaman</th>\n",
       "      <td>4.25</td>\n",
       "      <td>3.13</td>\n",
       "      <td>0.38</td>\n",
       "      <td>1.00</td>\n",
       "      <td>14.81</td>\n",
       "    </tr>\n",
       "    <tr>\n",
       "      <th>3 Nephi</th>\n",
       "      <td>1.50</td>\n",
       "      <td>2.23</td>\n",
       "      <td>1.37</td>\n",
       "      <td>1.50</td>\n",
       "      <td>7.50</td>\n",
       "    </tr>\n",
       "    <tr>\n",
       "      <th>4 Nephi</th>\n",
       "      <td>0.00</td>\n",
       "      <td>6.00</td>\n",
       "      <td>0.00</td>\n",
       "      <td>1.00</td>\n",
       "      <td>31.00</td>\n",
       "    </tr>\n",
       "    <tr>\n",
       "      <th>Mormon</th>\n",
       "      <td>2.00</td>\n",
       "      <td>3.11</td>\n",
       "      <td>0.56</td>\n",
       "      <td>1.00</td>\n",
       "      <td>19.67</td>\n",
       "    </tr>\n",
       "    <tr>\n",
       "      <th>Ether</th>\n",
       "      <td>1.73</td>\n",
       "      <td>4.33</td>\n",
       "      <td>0.20</td>\n",
       "      <td>0.93</td>\n",
       "      <td>16.67</td>\n",
       "    </tr>\n",
       "    <tr>\n",
       "      <th>Moroni</th>\n",
       "      <td>2.50</td>\n",
       "      <td>4.80</td>\n",
       "      <td>2.20</td>\n",
       "      <td>3.00</td>\n",
       "      <td>16.50</td>\n",
       "    </tr>\n",
       "  </tbody>\n",
       "</table>\n",
       "</div>"
      ],
      "text/plain": [
       "                 repent  faith  baptism  spirit    God\n",
       "1 Nephi            0.36   1.64     0.36    2.41  20.55\n",
       "2 Nephi            0.67   2.06     0.42    1.82  18.61\n",
       "Jacob              0.71   1.71     0.00    1.71  20.71\n",
       "Enos               1.00  11.00     0.00    1.00  23.00\n",
       "Jarom              1.00   4.00     0.00    1.00   8.00\n",
       "Omni               0.00   1.00     0.00    0.00  20.00\n",
       "Words of Mormon    0.00   0.00     0.00    1.00  15.00\n",
       "Mosiah             1.45   2.62     0.66    1.07  17.31\n",
       "Alma               2.00   4.16     0.32    2.16  16.40\n",
       "Helaman            4.25   3.13     0.38    1.00  14.81\n",
       "3 Nephi            1.50   2.23     1.37    1.50   7.50\n",
       "4 Nephi            0.00   6.00     0.00    1.00  31.00\n",
       "Mormon             2.00   3.11     0.56    1.00  19.67\n",
       "Ether              1.73   4.33     0.20    0.93  16.67\n",
       "Moroni             2.50   4.80     2.20    3.00  16.50"
      ]
     },
     "execution_count": 18,
     "metadata": {},
     "output_type": "execute_result"
    }
   ],
   "source": [
    "bookdf[['repent','faith','baptism','spirit','God']]"
   ]
  },
  {
   "cell_type": "code",
   "execution_count": 27,
   "metadata": {
    "comet_cell_id": "6c78df509ebe1"
   },
   "outputs": [
    {
     "data": {
      "text/plain": [
       "Index([u'text', u'repent', u'repentloc', u'faith', u'faithloc', u'forgive',\n",
       "       u'forgiveloc', u'baptism', u'baptismloc', u'spirit', u'spiritloc',\n",
       "       u'God', u'Godloc'],\n",
       "      dtype='object')"
      ]
     },
     "execution_count": 27,
     "metadata": {},
     "output_type": "execute_result"
    }
   ],
   "source": [
    "bookdf.columns"
   ]
  },
  {
   "cell_type": "markdown",
   "metadata": {
    "comet_cell_id": "28bc3aeeef38f"
   },
   "source": [
    "# Qualitative analysis of book of mormon topics"
   ]
  },
  {
   "cell_type": "code",
   "execution_count": 45,
   "metadata": {
    "comet_cell_id": "712f4b69180e5"
   },
   "outputs": [
    {
     "data": {
      "text/plain": [
       "788"
      ]
     },
     "execution_count": 45,
     "metadata": {},
     "output_type": "execute_result"
    }
   ],
   "source": [
    "count"
   ]
  },
  {
   "cell_type": "code",
   "execution_count": 11,
   "metadata": {
    "comet_cell_id": "7137c77c64b8"
   },
   "outputs": [],
   "source": [
    "#stick these in a dataframe along with the reference that they come from\n",
    "#how do I get the reference for these?\n",
    "count = 0\n",
    "for a in bookdf.index:\n",
    "    for x in bookdf.loc[a,'faithloc']:\n",
    "        print bookdf.loc[a,'text'][x-125:x+125]\n",
    "        print\n",
    "        count += 1"
   ]
  }
 ],
 "metadata": {
  "comet_paths": [
   [
    "d430fcb2\\BofM.ipynb",
    1526072211060
   ]
  ],
  "comet_tracking": true,
  "kernelspec": {
   "display_name": "Python [default]",
   "language": "python",
   "name": "python3"
  },
  "language_info": {
   "codemirror_mode": {
    "name": "ipython",
    "version": 3
   },
   "file_extension": ".py",
   "mimetype": "text/x-python",
   "name": "python",
   "nbconvert_exporter": "python",
   "pygments_lexer": "ipython3",
   "version": "3.6.1"
  }
 },
 "nbformat": 4,
 "nbformat_minor": 1
}
