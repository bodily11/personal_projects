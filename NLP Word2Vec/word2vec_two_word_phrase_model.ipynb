{
 "cells": [
  {
   "cell_type": "code",
   "execution_count": 87,
   "metadata": {
    "collapsed": true,
    "comet_cell_id": "8ae43480f65ad"
   },
   "outputs": [],
   "source": [
    "#IMPORT NECESSARY MODULES\n",
    "import pandas as pd\n",
    "import datetime\n",
    "import numpy as np\n",
    "#CHANGE DISPLAY OPTIONS TO SHOW MORE ROWS AND COLUMNS\n",
    "pd.set_option('display.max_rows', 100)\n",
    "pd.set_option('display.max_columns', 100)\n",
    "#LIST OF ALL JOURNALS AND THEIR GROUPS\n",
    "online_journals = [\n",
    "    ['American Journal of Distance Education','0892-3647'],\n",
    "    ['Distance Education','0158-7919'],\n",
    "    ['E-Learning','1741-8887'],\n",
    "    ['Electronic Journal of e-Learning','1479-4403'],\n",
    "    ['International Journal of Distance Education Technologies','1539-3100'],\n",
    "    ['International Review of Research in Open and Distance Learning','1492-3831'],\n",
    "    ['International Journal of Mobile and Blended Learning','1941-8647'],\n",
    "    ['Journal of Educators Online','1547-500X'],\n",
    "    ['Journal of E-Learning and Knowledge Society','1826-6223'],\n",
    "    ['Journal of Library and Information Services in Distance Learning','1533-290X'],\n",
    "    ['Journal of Interactive Online Learning','1541-4914'],\n",
    "    ['Open Learning','0268-0513'],\n",
    "    ['Turkish Online Journal of Distance Education','1302-6488'],\n",
    "]\n",
    "\n",
    "ed_tech_journals = [\n",
    "    ['Australasian Journal of Educational Technology','1449-5554'],\n",
    "    ['British Journal of Educational Technology','0007-1013'],\n",
    "    ['Bulletin of the Technical Committee on Learning Technology','2306-0212'],\n",
    "    ['Computer Assisted Language Learning','0958-8221'],\n",
    "    ['Computers and Education','0360-1315'],\n",
    "    ['Computers in Education Journal','1069-3769'],\n",
    "    ['Computers in the Schools','0738-0569'],\n",
    "    ['Cutting-Edge Technologies in Higher Education','2044-9968'],\n",
    "    ['DESIDOC Journal of Library and Information Technology','0974-0643'],\n",
    "    ['Education and Information Technologies','1360-2357'],\n",
    "    ['Educational Communication and Technology Journal','0148-5806'],\n",
    "    ['Educational Media International','0952-3987'],\n",
    "    ['Educational Technology and Society','1436-4522'],\n",
    "    ['Educational Technology Research and Development','1042-1629'],\n",
    "    ['Interactive Learning Environments','1049-4820'],\n",
    "    ['Interactive Technology and Smart Education','1741-5659'],\n",
    "    ['International Journal of Computer Supported Collaborative Learning','1556-1607'],\n",
    "    ['International Journal of Educational Technology in Higher Education','EISSN: 2365-9440'],\n",
    "    ['International Journal of Information and Communication Technology Education','1550-1876'],\n",
    "    ['International Journal of Information and Learning Technology','2056-4880'],\n",
    "    ['International Journal of Innovation and Learning','1471-8197'],\n",
    "    ['International Journal of Learning Technology','1477-8386'],\n",
    "    ['International Journal of Technologies in Learning','2327-0144'],\n",
    "    ['International Journal of Technology and Design Education','0957-7572'],\n",
    "    ['International Journal of Technology Enhanced Learning','1753-5255'],\n",
    "    ['International Journal of Web-Based Learning and Teaching Technologies','1548-1093'],\n",
    "    ['Internet and Higher Education','1096-7516'],\n",
    "    ['Journal of Computer-Assisted Learning','0266-4909'],\n",
    "    ['Journal of Computing in Higher Education','1042-1726'],\n",
    "    ['Journal of Educational Computing Research','0735-6331'],\n",
    "    ['Journal of Educational Multimedia and Hypermedia','1055-8896'],\n",
    "    ['Journal of Interactive Learning Research','1093-023X'],\n",
    "    ['Journal of Research on Technology in Education','1539-1523'],\n",
    "    ['Journal of Technology, Learning, and Assessment','1540-2525'],\n",
    "    ['Knowledge Management and E-Learning','2073-7904'],\n",
    "    ['Language, Learning, & Technology','1094-3501'],\n",
    "    ['Learning, Media and Technology','1743-9884'],\n",
    "    ['Performance Improvement Quarterly','0898-5952'],\n",
    "    ['Research in Learning Technology','2156-7069'],\n",
    "    ['Technology, Knowledge and Learning','2211-1662'],\n",
    "    ['Technology, Pedagogy and Education','1475-939X'],\n",
    "    ['TechTrends','8756-3894'],\n",
    "    ['Turkish Online Journal of Educational Technology','1303-6521']\n",
    "]\n",
    "    \n",
    "education_journals = [\n",
    "    ['Cognition and Instruction','0737-0008'],\n",
    "    ['International Journal of Instruction','1694-609X'],\n",
    "    ['International Journal of Knowledge and Learning','1741-1009'],\n",
    "    ['International Journal of Learning','1447-9494'],\n",
    "    ['Instructional Science','0020-4277'],\n",
    "    ['Journal of Learning Sciences','1050-8406'],\n",
    "    ['Learning and Instruction','0959-4752'],\n",
    "    ['Learning Environments Research','1387-1579'],\n",
    "    ['Memory and Cognition','0090-502X'],\n",
    "]\n",
    "\n",
    "computer_science_journals = [\n",
    "    ['International Journal of Mobile Human Computer Interaction','1942-390X'],\n",
    "    ['International Journal of Technology and Human Interaction','1548-3908'],\n",
    "    ['International Journal of Artificial Intelligence in Education','1560-4292'],\n",
    "    ['Australian Educational Computing','0816-9020'],\n",
    "    ['Computers in Human Behavior','0747-5632'],\n",
    "    ['Human-Computer Interaction','0737-0024'],\n",
    "    ['IEEE Transactions on Learning Technologies','1939-1382'],\n",
    "    ['Information Technology and Libraries','0730-9295'],\n",
    "    ['International Journal of Human Computer Studies','1071-5819'],\n",
    "    ['International Journal of Human-Computer Interaction','1044-7318'],\n",
    "    ['Journal of Computer-Mediated Communication','1083-6101'],\n",
    "]\n",
    "#READ ALL DATA AND APPEND TO NEW DATAFRAME\n",
    "import os\n",
    "base = 'C:/Users/bodil/Projects/Rick Journal Data/'\n",
    "df = pd.DataFrame()\n",
    "for file_name in os.listdir(base + 'Data/'):\n",
    "    df2 = pd.read_csv(base + 'Data/' + file_name, low_memory=False)\n",
    "    df2['journal'] = file_name.split('.')[0]\n",
    "    df = df.append(df2)\n",
    "df = df[df.articleType == 'Article'].copy()\n",
    "df = df[df.abstract == df.abstract].copy()"
   ]
  },
  {
   "cell_type": "code",
   "execution_count": 88,
   "metadata": {
    "collapsed": true,
    "comet_cell_id": "789907a0341a4"
   },
   "outputs": [],
   "source": [
    "def parse_abstract(cell):\n",
    "    cell_list = cell.split('.')\n",
    "    first_sentence = '©' in cell_list[0] or 'Taylor & Francis' in cell_list [0] or 'All rights reserved' in cell_list[0] or \\\n",
    "    ' LLC.' in cell_list[0] or 'Elsevier' in cell_list[0] or 'Springer' in cell_list[0]\n",
    "    second_sentence = 'All rights reserved' in cell_list[1]\n",
    "    last_sentence = '©' in cell_list[-1] or 'Taylor & Francis' in cell_list [-1] or 'All rights reserved' in cell_list[-1] or \\\n",
    "    ' LLC.' in cell_list[-1] or 'Elsevier' in cell_list[-1] or 'Springer' in cell_list[-1]\n",
    "    if second_sentence and last_sentence:\n",
    "        return '.'.join(cell_list[2:-1])\n",
    "    elif second_sentence and not last_sentence:\n",
    "        return '.'.join(cell_list[2:])\n",
    "    elif first_sentence and last_sentence:\n",
    "        return '.'.join(cell_list[1:-1])\n",
    "    elif first_sentence and not last_sentence:\n",
    "        return '.'.join(cell_list[1:])\n",
    "    elif not first_sentence and last_sentence:\n",
    "        return '.'.join(cell_list[:-1])\n",
    "    else:\n",
    "        return '.'.join(cell_list)"
   ]
  },
  {
   "cell_type": "code",
   "execution_count": 89,
   "metadata": {
    "collapsed": true,
    "comet_cell_id": "0d76625f8bc1e"
   },
   "outputs": [],
   "source": [
    "df['new_abstract'] = df.abstract.map(parse_abstract)"
   ]
  },
  {
   "cell_type": "code",
   "execution_count": 90,
   "metadata": {
    "collapsed": true,
    "comet_cell_id": "53f32c987ed38"
   },
   "outputs": [],
   "source": [
    "df.reset_index(inplace=True,drop=True)"
   ]
  },
  {
   "cell_type": "code",
   "execution_count": 91,
   "metadata": {
    "collapsed": true,
    "comet_cell_id": "34d9fb18fab85"
   },
   "outputs": [],
   "source": [
    "from nltk import tokenize\n",
    "df['sentence_abstract_list'] = df['new_abstract'].map(lambda x: tokenize.sent_tokenize(x))"
   ]
  },
  {
   "cell_type": "code",
   "execution_count": 92,
   "metadata": {
    "collapsed": true,
    "comet_cell_id": "f67d3d32f844f"
   },
   "outputs": [],
   "source": [
    "tempdf = df[['sentence_abstract_list']].copy()"
   ]
  },
  {
   "cell_type": "code",
   "execution_count": 93,
   "metadata": {
    "collapsed": true,
    "comet_cell_id": "e35bdc6b5a3b4"
   },
   "outputs": [],
   "source": [
    "finaldf = pd.DataFrame({\n",
    "    col:np.repeat(tempdf[col].values, tempdf['sentence_abstract_list'].str.len())\n",
    "    for col in tempdf.columns.difference(['sentence_abstract_list'])\n",
    "    }).assign(**{'sentence_abstract_list':np.concatenate(tempdf['sentence_abstract_list'].values)})[tempdf.columns.tolist()]"
   ]
  },
  {
   "cell_type": "code",
   "execution_count": 94,
   "metadata": {
    "collapsed": true,
    "comet_cell_id": "8d3ac86c86b5a"
   },
   "outputs": [],
   "source": [
    "finaldf['sentence_abstract_series_of_lists_of_words'] = finaldf['sentence_abstract_list'].map(lambda x: x.split(' '))"
   ]
  },
  {
   "cell_type": "code",
   "execution_count": 95,
   "metadata": {
    "collapsed": true,
    "comet_cell_id": "f3b14b0fa0a9c"
   },
   "outputs": [],
   "source": [
    "import string\n",
    "translator = str.maketrans('','',string.punctuation + '’')\n",
    "def remove_punctuation(cell):\n",
    "    word_list = []\n",
    "    for word in cell:\n",
    "        word = word.translate(translator)\n",
    "        if word == ' ' or word == '':\n",
    "            pass\n",
    "        else:\n",
    "            word_list.append(word.lower())\n",
    "    return word_list\n",
    "\n",
    "finaldf['sentence_abstract_series_of_lists_of_words'] = finaldf['sentence_abstract_series_of_lists_of_words'].map(remove_punctuation)"
   ]
  },
  {
   "cell_type": "code",
   "execution_count": 96,
   "metadata": {
    "collapsed": true,
    "comet_cell_id": "b8f1a649347dc"
   },
   "outputs": [],
   "source": [
    "sentences = finaldf.sentence_abstract_series_of_lists_of_words.values"
   ]
  },
  {
   "cell_type": "code",
   "execution_count": 97,
   "metadata": {
    "collapsed": true,
    "comet_cell_id": "dfa321d066f48"
   },
   "outputs": [],
   "source": [
    "from gensim.models import Word2Vec\n",
    "from gensim.models import Phrases"
   ]
  },
  {
   "cell_type": "code",
   "execution_count": 98,
   "metadata": {
    "collapsed": true,
    "comet_cell_id": "caae93c75c112"
   },
   "outputs": [],
   "source": [
    "phrases = Phrases(sentences)"
   ]
  },
  {
   "cell_type": "code",
   "execution_count": 99,
   "metadata": {
    "collapsed": true,
    "comet_cell_id": "6bb9493d970cc"
   },
   "outputs": [],
   "source": [
    "from gensim.models.phrases import Phraser\n",
    "bigram = Phraser(phrases)"
   ]
  },
  {
   "cell_type": "code",
   "execution_count": 100,
   "metadata": {
    "collapsed": true,
    "comet_cell_id": "d00b0588e9c9e"
   },
   "outputs": [],
   "source": [
    "finaldf['bigram_sentences'] = finaldf.sentence_abstract_series_of_lists_of_words.map(lambda x: bigram[x])"
   ]
  },
  {
   "cell_type": "code",
   "execution_count": 101,
   "metadata": {
    "collapsed": true,
    "comet_cell_id": "14494f8ebe856"
   },
   "outputs": [],
   "source": [
    "sentences = finaldf.bigram_sentences.values"
   ]
  },
  {
   "cell_type": "code",
   "execution_count": 102,
   "metadata": {
    "comet_cell_id": "a7f8c00583262"
   },
   "outputs": [
    {
     "name": "stdout",
     "output_type": "stream",
     "text": [
      "number of sentences\n",
      "334312\n"
     ]
    }
   ],
   "source": [
    "print('number of sentences')\n",
    "print(len(sentences))"
   ]
  },
  {
   "cell_type": "code",
   "execution_count": 105,
   "metadata": {
    "collapsed": true,
    "comet_cell_id": "7ffa1e9027f85"
   },
   "outputs": [],
   "source": [
    "%matplotlib inline\n",
    "finaldf['length'] = finaldf['bigram_sentences'].map(lambda x: len(x))"
   ]
  },
  {
   "cell_type": "code",
   "execution_count": 109,
   "metadata": {
    "comet_cell_id": "99a1e208207c"
   },
   "outputs": [
    {
     "data": {
      "text/plain": [
       "<matplotlib.axes._subplots.AxesSubplot at 0x1f57a547438>"
      ]
     },
     "execution_count": 109,
     "metadata": {},
     "output_type": "execute_result"
    },
    {
     "data": {
      "image/png": "[encoded data removed]",
      "text/plain": [
       "<matplotlib.figure.Figure at 0x1f5c20a0d68>"
      ]
     },
     "metadata": {},
     "output_type": "display_data"
    }
   ],
   "source": [
    "finaldf[finaldf['length'] < 70]['length'].hist(bins=20)"
   ]
  },
  {
   "cell_type": "code",
   "execution_count": 111,
   "metadata": {
    "collapsed": true,
    "comet_cell_id": "d6c0815dde874"
   },
   "outputs": [],
   "source": [
    "def compute_training_examples(cell):\n",
    "    if cell < 12:\n",
    "        return 1\n",
    "    else:\n",
    "        return cell - 10"
   ]
  },
  {
   "cell_type": "code",
   "execution_count": 114,
   "metadata": {
    "comet_cell_id": "661a4efb3c961"
   },
   "outputs": [
    {
     "name": "stdout",
     "output_type": "stream",
     "text": [
      "number of training examples for your sentences\n",
      "3720035\n"
     ]
    }
   ],
   "source": [
    "print('number of training examples for your sentences')\n",
    "print(finaldf['length'].map(compute_training_examples).sum())"
   ]
  },
  {
   "cell_type": "code",
   "execution_count": 20,
   "metadata": {
    "collapsed": true,
    "comet_cell_id": "d76fe2134d239"
   },
   "outputs": [],
   "source": [
    "# sentences is a list of sentences, each broken up into a list of words\n",
    "# sg {1, 0} - 1 = skip-gram, 0 = CBOW\n",
    "# size: dimensionality of the feature vectors\n",
    "# window: the maximum distance between the current and predicted word\n",
    "# alpha: the initial learning rate\n",
    "# min_alpha: learning rate will drop linearly to min_alpha throughout training\n",
    "# seed: for the random number generator (to get reproducible results, use seed, workers=1, and PYTHONHASHSEED environment variable)\n",
    "# min_count: ignores all words with total frequency lower than this\n",
    "# max_vocab_size: Limits the RAM during vocabulary building. 10M word types needs 1 GB of RAM\n",
    "# sample: the threshold for configuring which higher-frequency words are randomly downsampled\n",
    "# workers: faster training with multicore machines\n",
    "# hs {1, 0} 1 = hierarchical softmax, 0 = (if negative = 0) negative sampling\n",
    "# negative: If greater than 0, negative sampling will be used, specifies how many \"noise words\" should be drawn. \n",
    "# cbow_mean: If 0 use sum of context word vectors. If 1, use the mean (when CBOW is used only)\n",
    "# hashfxn to use to increase training reproducibility\n",
    "# iter: number of iterations over corpus\n",
    "# trim_rule\n",
    "# sorted_vocab: 1, 0 -> sort vocab by descending frequency before assigning word indexes\n",
    "# batch_words: target word size for batches of examples passed to workers\n",
    "# compute_loss: If true, computes and stores loss value which can be retrieved using model.get_latest_training_loss()"
   ]
  },
  {
   "cell_type": "code",
   "execution_count": 115,
   "metadata": {
    "collapsed": true,
    "comet_cell_id": "ac43d0e7ddc28"
   },
   "outputs": [],
   "source": [
    "model = Word2Vec(sentences, size=300, window=5, min_count=5, workers=4, compute_loss=True)"
   ]
  },
  {
   "cell_type": "code",
   "execution_count": 116,
   "metadata": {
    "collapsed": true,
    "comet_cell_id": "e7252227d9adc"
   },
   "outputs": [],
   "source": [
    "fname = 'C:/Users/bodil/Projects/NLP/word2vec_two_word_phrase_model'\n",
    "model.save(fname)"
   ]
  },
  {
   "cell_type": "code",
   "execution_count": 117,
   "metadata": {
    "collapsed": true,
    "comet_cell_id": "8f5722281fd7b"
   },
   "outputs": [],
   "source": [
    "from gensim.models import Word2Vec\n",
    "from gensim.models import Phrases\n",
    "from gensim.models.phrases import Phraser\n",
    "\n",
    "model = Word2Vec.load(fname)  # you can continue training with the loaded model!"
   ]
  },
  {
   "cell_type": "code",
   "execution_count": 118,
   "metadata": {
    "comet_cell_id": "610e338b17889"
   },
   "outputs": [
    {
     "data": {
      "text/plain": [
       "11174136.0"
      ]
     },
     "execution_count": 118,
     "metadata": {},
     "output_type": "execute_result"
    }
   ],
   "source": [
    "model.get_latest_training_loss()"
   ]
  },
  {
   "cell_type": "code",
   "execution_count": 121,
   "metadata": {
    "comet_cell_id": "20702c749d4a9"
   },
   "outputs": [
    {
     "data": {
      "text/plain": [
       "[('archer', 0.8701130747795105),\n",
       " ('moore', 0.865913450717926),\n",
       " ('siegler', 0.8490069508552551),\n",
       " ('pintrich', 0.8482726812362671),\n",
       " ('howard', 0.8471344113349915),\n",
       " ('kern', 0.8459733128547668),\n",
       " ('warschauer', 0.8419070243835449),\n",
       " ('kim', 0.8413731455802917),\n",
       " ('garrison', 0.8408752679824829),\n",
       " ('bjork', 0.8407337665557861)]"
      ]
     },
     "execution_count": 121,
     "metadata": {},
     "output_type": "execute_result"
    }
   ],
   "source": [
    "#worst case scenario, 5 levels deep using random word from top 10 still gives me good results.\n",
    "#best case scenario, 10 levels deep using random word from top 10 still gives me good results.\n",
    "model.wv.most_similar('bandura',topn=10)"
   ]
  },
  {
   "cell_type": "code",
   "execution_count": 125,
   "metadata": {
    "comet_cell_id": "e6e30904a641e"
   },
   "outputs": [
    {
     "data": {
      "text/plain": [
       "[('achievements', 0.45201337337493896),\n",
       " ('achievement', 0.4296368658542633),\n",
       " ('involvement', 0.4219371974468231),\n",
       " ('retention', 0.40923577547073364),\n",
       " ('engagement', 0.4060382544994354),\n",
       " ('satisfaction', 0.40450966358184814),\n",
       " ('overall', 0.3979598581790924),\n",
       " ('academic_performance', 0.39729389548301697),\n",
       " ('performances', 0.3934357762336731),\n",
       " ('academic_achievement', 0.3754035532474518)]"
      ]
     },
     "execution_count": 125,
     "metadata": {},
     "output_type": "execute_result"
    }
   ],
   "source": [
    "#model.wv.most_similar(positive=['technology', 'computer'], negative=['computer'])\n",
    "model.wv.most_similar(positive=['self_regulation','motivation'], negative=['zimmerman','bandura'])"
   ]
  },
  {
   "cell_type": "code",
   "execution_count": 38,
   "metadata": {
    "comet_cell_id": "fc40dabc1c649"
   },
   "outputs": [
    {
     "data": {
      "text/plain": [
       "0.67267032239107105"
      ]
     },
     "execution_count": 38,
     "metadata": {},
     "output_type": "execute_result"
    }
   ],
   "source": [
    "model.wv.similarity('engagement', 'motivation')"
   ]
  },
  {
   "cell_type": "code",
   "execution_count": 39,
   "metadata": {
    "comet_cell_id": "b367dcf136b5d"
   },
   "outputs": [
    {
     "data": {
      "text/plain": [
       "'teacher'"
      ]
     },
     "execution_count": 39,
     "metadata": {},
     "output_type": "execute_result"
    }
   ],
   "source": [
    "model.wv.doesnt_match(\"creativity self-regulation motivation teacher\".split(' '))"
   ]
  },
  {
   "cell_type": "code",
   "execution_count": 40,
   "metadata": {
    "comet_cell_id": "7c9ea81cebf9d"
   },
   "outputs": [
    {
     "ename": "RuntimeError",
     "evalue": "We have currently only implemented score for the hierarchical softmax scheme, so you need to have run word2vec with hs=1 and negative=0 for this to work.",
     "output_type": "error",
     "traceback": [
      "\u001b[1;31m---------------------------------------------------------------------------\u001b[0m",
      "\u001b[1;31mRuntimeError\u001b[0m                              Traceback (most recent call last)",
      "\u001b[1;32m<ipython-input-40-8e8487d5922d>\u001b[0m in \u001b[0;36m<module>\u001b[1;34m()\u001b[0m\n\u001b[1;32m----> 1\u001b[1;33m \u001b[0mmodel\u001b[0m\u001b[1;33m.\u001b[0m\u001b[0mscore\u001b[0m\u001b[1;33m(\u001b[0m\u001b[1;33m[\u001b[0m\u001b[1;34m\"The fox jumped over a lazy dog\"\u001b[0m\u001b[1;33m.\u001b[0m\u001b[0msplit\u001b[0m\u001b[1;33m(\u001b[0m\u001b[1;33m)\u001b[0m\u001b[1;33m]\u001b[0m\u001b[1;33m)\u001b[0m\u001b[1;33m\u001b[0m\u001b[0m\n\u001b[0m",
      "\u001b[1;32mC:\\Users\\bodil\\Anaconda3\\lib\\site-packages\\gensim\\models\\word2vec.py\u001b[0m in \u001b[0;36mscore\u001b[1;34m(self, sentences, total_sentences, chunksize, queue_factor, report_delay)\u001b[0m\n\u001b[0;32m    664\u001b[0m         \u001b[1;32mif\u001b[0m \u001b[1;32mnot\u001b[0m \u001b[0mself\u001b[0m\u001b[1;33m.\u001b[0m\u001b[0mhs\u001b[0m\u001b[1;33m:\u001b[0m\u001b[1;33m\u001b[0m\u001b[0m\n\u001b[0;32m    665\u001b[0m             raise RuntimeError(\n\u001b[1;32m--> 666\u001b[1;33m                 \u001b[1;34m\"We have currently only implemented score for the hierarchical softmax scheme, \"\u001b[0m\u001b[1;33m\u001b[0m\u001b[0m\n\u001b[0m\u001b[0;32m    667\u001b[0m                 \u001b[1;34m\"so you need to have run word2vec with hs=1 and negative=0 for this to work.\"\u001b[0m\u001b[1;33m\u001b[0m\u001b[0m\n\u001b[0;32m    668\u001b[0m             )\n",
      "\u001b[1;31mRuntimeError\u001b[0m: We have currently only implemented score for the hierarchical softmax scheme, so you need to have run word2vec with hs=1 and negative=0 for this to work."
     ]
    }
   ],
   "source": [
    "model.score([\"The fox jumped over a lazy dog\".split()])"
   ]
  }
 ],
 "metadata": {
  "comet_paths": [
   [
    "0a21c2a4\\word2vec.ipynb",
    1527169443022
   ],
   [
    "0a21c2a4\\word2vec_single_word_model-Copy1.ipynb",
    1527286065014
   ],
   [
    "0a21c2a4\\word2vec_phrase_model.ipynb",
    1527286290586
   ],
   [
    "0a21c2a4\\word2vec_two_word_phrase_model.ipynb",
    1527304973917
   ]
  ],
  "comet_tracking": true,
  "kernelspec": {
   "display_name": "Python [default]",
   "language": "python",
   "name": "python3"
  },
  "language_info": {
   "codemirror_mode": {
    "name": "ipython",
    "version": 3
   },
   "file_extension": ".py",
   "mimetype": "text/x-python",
   "name": "python",
   "nbconvert_exporter": "python",
   "pygments_lexer": "ipython3",
   "version": "3.6.5"
  }
 },
 "nbformat": 4,
 "nbformat_minor": 2
}
