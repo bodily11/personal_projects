{
 "cells": [
  {
   "cell_type": "code",
   "execution_count": 1,
   "metadata": {
    "collapsed": true,
    "comet_cell_id": "8ae43480f65ad"
   },
   "outputs": [],
   "source": [
    "#IMPORT NECESSARY MODULES\n",
    "import pandas as pd\n",
    "import datetime\n",
    "import numpy as np\n",
    "#CHANGE DISPLAY OPTIONS TO SHOW MORE ROWS AND COLUMNS\n",
    "pd.set_option('display.max_rows', 100)\n",
    "pd.set_option('display.max_columns', 100)\n",
    "#LIST OF ALL JOURNALS AND THEIR GROUPS\n",
    "online_journals = [\n",
    "    ['American Journal of Distance Education','0892-3647'],\n",
    "    ['Distance Education','0158-7919'],\n",
    "    ['E-Learning','1741-8887'],\n",
    "    ['Electronic Journal of e-Learning','1479-4403'],\n",
    "    ['International Journal of Distance Education Technologies','1539-3100'],\n",
    "    ['International Review of Research in Open and Distance Learning','1492-3831'],\n",
    "    ['International Journal of Mobile and Blended Learning','1941-8647'],\n",
    "    ['Journal of Educators Online','1547-500X'],\n",
    "    ['Journal of E-Learning and Knowledge Society','1826-6223'],\n",
    "    ['Journal of Library and Information Services in Distance Learning','1533-290X'],\n",
    "    ['Journal of Interactive Online Learning','1541-4914'],\n",
    "    ['Open Learning','0268-0513'],\n",
    "    ['Turkish Online Journal of Distance Education','1302-6488'],\n",
    "]\n",
    "\n",
    "ed_tech_journals = [\n",
    "    ['Australasian Journal of Educational Technology','1449-5554'],\n",
    "    ['British Journal of Educational Technology','0007-1013'],\n",
    "    ['Bulletin of the Technical Committee on Learning Technology','2306-0212'],\n",
    "    ['Computer Assisted Language Learning','0958-8221'],\n",
    "    ['Computers and Education','0360-1315'],\n",
    "    ['Computers in Education Journal','1069-3769'],\n",
    "    ['Computers in the Schools','0738-0569'],\n",
    "    ['Cutting-Edge Technologies in Higher Education','2044-9968'],\n",
    "    ['DESIDOC Journal of Library and Information Technology','0974-0643'],\n",
    "    ['Education and Information Technologies','1360-2357'],\n",
    "    ['Educational Communication and Technology Journal','0148-5806'],\n",
    "    ['Educational Media International','0952-3987'],\n",
    "    ['Educational Technology and Society','1436-4522'],\n",
    "    ['Educational Technology Research and Development','1042-1629'],\n",
    "    ['Interactive Learning Environments','1049-4820'],\n",
    "    ['Interactive Technology and Smart Education','1741-5659'],\n",
    "    ['International Journal of Computer Supported Collaborative Learning','1556-1607'],\n",
    "    ['International Journal of Educational Technology in Higher Education','EISSN: 2365-9440'],\n",
    "    ['International Journal of Information and Communication Technology Education','1550-1876'],\n",
    "    ['International Journal of Information and Learning Technology','2056-4880'],\n",
    "    ['International Journal of Innovation and Learning','1471-8197'],\n",
    "    ['International Journal of Learning Technology','1477-8386'],\n",
    "    ['International Journal of Technologies in Learning','2327-0144'],\n",
    "    ['International Journal of Technology and Design Education','0957-7572'],\n",
    "    ['International Journal of Technology Enhanced Learning','1753-5255'],\n",
    "    ['International Journal of Web-Based Learning and Teaching Technologies','1548-1093'],\n",
    "    ['Internet and Higher Education','1096-7516'],\n",
    "    ['Journal of Computer-Assisted Learning','0266-4909'],\n",
    "    ['Journal of Computing in Higher Education','1042-1726'],\n",
    "    ['Journal of Educational Computing Research','0735-6331'],\n",
    "    ['Journal of Educational Multimedia and Hypermedia','1055-8896'],\n",
    "    ['Journal of Interactive Learning Research','1093-023X'],\n",
    "    ['Journal of Research on Technology in Education','1539-1523'],\n",
    "    ['Journal of Technology, Learning, and Assessment','1540-2525'],\n",
    "    ['Knowledge Management and E-Learning','2073-7904'],\n",
    "    ['Language, Learning, & Technology','1094-3501'],\n",
    "    ['Learning, Media and Technology','1743-9884'],\n",
    "    ['Performance Improvement Quarterly','0898-5952'],\n",
    "    ['Research in Learning Technology','2156-7069'],\n",
    "    ['Technology, Knowledge and Learning','2211-1662'],\n",
    "    ['Technology, Pedagogy and Education','1475-939X'],\n",
    "    ['TechTrends','8756-3894'],\n",
    "    ['Turkish Online Journal of Educational Technology','1303-6521']\n",
    "]\n",
    "    \n",
    "education_journals = [\n",
    "    ['Cognition and Instruction','0737-0008'],\n",
    "    ['International Journal of Instruction','1694-609X'],\n",
    "    ['International Journal of Knowledge and Learning','1741-1009'],\n",
    "    ['International Journal of Learning','1447-9494'],\n",
    "    ['Instructional Science','0020-4277'],\n",
    "    ['Journal of Learning Sciences','1050-8406'],\n",
    "    ['Learning and Instruction','0959-4752'],\n",
    "    ['Learning Environments Research','1387-1579'],\n",
    "    ['Memory and Cognition','0090-502X'],\n",
    "]\n",
    "\n",
    "computer_science_journals = [\n",
    "    ['International Journal of Mobile Human Computer Interaction','1942-390X'],\n",
    "    ['International Journal of Technology and Human Interaction','1548-3908'],\n",
    "    ['International Journal of Artificial Intelligence in Education','1560-4292'],\n",
    "    ['Australian Educational Computing','0816-9020'],\n",
    "    ['Computers in Human Behavior','0747-5632'],\n",
    "    ['Human-Computer Interaction','0737-0024'],\n",
    "    ['IEEE Transactions on Learning Technologies','1939-1382'],\n",
    "    ['Information Technology and Libraries','0730-9295'],\n",
    "    ['International Journal of Human Computer Studies','1071-5819'],\n",
    "    ['International Journal of Human-Computer Interaction','1044-7318'],\n",
    "    ['Journal of Computer-Mediated Communication','1083-6101'],\n",
    "]\n",
    "#READ ALL DATA AND APPEND TO NEW DATAFRAME\n",
    "import os\n",
    "base = 'C:/Users/bodil/Projects/Rick Journal Data/'\n",
    "df = pd.DataFrame()\n",
    "for file_name in os.listdir(base + 'Data/'):\n",
    "    df2 = pd.read_csv(base + 'Data/' + file_name, low_memory=False)\n",
    "    df2['journal'] = file_name.split('.')[0]\n",
    "    df = df.append(df2)\n",
    "df = df[df.articleType == 'Article'].copy()\n",
    "df = df[df.abstract == df.abstract].copy()"
   ]
  },
  {
   "cell_type": "code",
   "execution_count": 10,
   "metadata": {
    "collapsed": true,
    "comet_cell_id": "789907a0341a4"
   },
   "outputs": [],
   "source": [
    "def parse_abstract(cell):\n",
    "    cell_list = cell.split('.')\n",
    "    first_sentence = '©' in cell_list[0] or 'Taylor & Francis' in cell_list [0] or 'All rights reserved' in cell_list[0] or \\\n",
    "    ' LLC.' in cell_list[0] or 'Elsevier' in cell_list[0] or 'Springer' in cell_list[0]\n",
    "    second_sentence = 'All rights reserved' in cell_list[1]\n",
    "    last_sentence = '©' in cell_list[-1] or 'Taylor & Francis' in cell_list [-1] or 'All rights reserved' in cell_list[-1] or \\\n",
    "    ' LLC.' in cell_list[-1] or 'Elsevier' in cell_list[-1] or 'Springer' in cell_list[-1]\n",
    "    if second_sentence and last_sentence:\n",
    "        return '.'.join(cell_list[2:-1])\n",
    "    elif second_sentence and not last_sentence:\n",
    "        return '.'.join(cell_list[2:])\n",
    "    elif first_sentence and last_sentence:\n",
    "        return '.'.join(cell_list[1:-1])\n",
    "    elif first_sentence and not last_sentence:\n",
    "        return '.'.join(cell_list[1:])\n",
    "    elif not first_sentence and last_sentence:\n",
    "        return '.'.join(cell_list[:-1])\n",
    "    else:\n",
    "        return '.'.join(cell_list)"
   ]
  },
  {
   "cell_type": "code",
   "execution_count": 11,
   "metadata": {
    "collapsed": true,
    "comet_cell_id": "0d76625f8bc1e"
   },
   "outputs": [],
   "source": [
    "df['new_abstract'] = df.abstract.map(parse_abstract)"
   ]
  },
  {
   "cell_type": "code",
   "execution_count": 12,
   "metadata": {
    "collapsed": true,
    "comet_cell_id": "53f32c987ed38"
   },
   "outputs": [],
   "source": [
    "df.reset_index(inplace=True,drop=True)"
   ]
  },
  {
   "cell_type": "code",
   "execution_count": 15,
   "metadata": {
    "collapsed": true,
    "comet_cell_id": "34d9fb18fab85"
   },
   "outputs": [],
   "source": [
    "from nltk import tokenize\n",
    "df['sentence_abstract_list'] = df['new_abstract'].map(lambda x: tokenize.sent_tokenize(x))"
   ]
  },
  {
   "cell_type": "code",
   "execution_count": 19,
   "metadata": {
    "collapsed": true,
    "comet_cell_id": "f67d3d32f844f"
   },
   "outputs": [],
   "source": [
    "tempdf = df[['sentence_abstract_list']].copy()"
   ]
  },
  {
   "cell_type": "code",
   "execution_count": 23,
   "metadata": {
    "collapsed": true,
    "comet_cell_id": "e35bdc6b5a3b4"
   },
   "outputs": [],
   "source": [
    "finaldf = pd.DataFrame({\n",
    "    col:np.repeat(tempdf[col].values, tempdf['sentence_abstract_list'].str.len())\n",
    "    for col in tempdf.columns.difference(['sentence_abstract_list'])\n",
    "    }).assign(**{'sentence_abstract_list':np.concatenate(tempdf['sentence_abstract_list'].values)})[tempdf.columns.tolist()]"
   ]
  },
  {
   "cell_type": "code",
   "execution_count": 49,
   "metadata": {
    "collapsed": true,
    "comet_cell_id": "8d3ac86c86b5a"
   },
   "outputs": [],
   "source": [
    "finaldf['sentence_abstract_series_of_lists_of_words'] = finaldf['sentence_abstract_list'].map(lambda x: x.split(' '))"
   ]
  },
  {
   "cell_type": "code",
   "execution_count": 103,
   "metadata": {
    "collapsed": true,
    "comet_cell_id": "f3b14b0fa0a9c"
   },
   "outputs": [],
   "source": [
    "import string\n",
    "translator = str.maketrans('','',string.punctuation + '’')\n",
    "def remove_punctuation(cell):\n",
    "    word_list = []\n",
    "    for word in cell:\n",
    "        word = word.translate(translator)\n",
    "        if word == ' ' or word == '':\n",
    "            pass\n",
    "        else:\n",
    "            word_list.append(word.lower())\n",
    "    return word_list\n",
    "\n",
    "finaldf['sentence_abstract_series_of_lists_of_words'] = finaldf['sentence_abstract_series_of_lists_of_words'].map(remove_punctuation)"
   ]
  },
  {
   "cell_type": "code",
   "execution_count": 104,
   "metadata": {
    "collapsed": true,
    "comet_cell_id": "b8f1a649347dc"
   },
   "outputs": [],
   "source": [
    "sentences = finaldf.sentence_abstract_series_of_lists_of_words.values"
   ]
  },
  {
   "cell_type": "code",
   "execution_count": 105,
   "metadata": {
    "comet_cell_id": "a7f8c00583262"
   },
   "outputs": [
    {
     "name": "stdout",
     "output_type": "stream",
     "text": [
      "number of sentences\n",
      "334312\n"
     ]
    }
   ],
   "source": [
    "print('number of sentences')\n",
    "print(len(sentences))"
   ]
  },
  {
   "cell_type": "code",
   "execution_count": 106,
   "metadata": {
    "collapsed": true,
    "comet_cell_id": "80970d65a91fe"
   },
   "outputs": [],
   "source": [
    "from gensim.models import Word2Vec"
   ]
  },
  {
   "cell_type": "code",
   "execution_count": 107,
   "metadata": {
    "collapsed": true,
    "comet_cell_id": "ac43d0e7ddc28"
   },
   "outputs": [],
   "source": [
    "model = Word2Vec(sentences, size=100, window=5, min_count=5, workers=4)"
   ]
  },
  {
   "cell_type": "code",
   "execution_count": 108,
   "metadata": {
    "comet_cell_id": "a150dc6fbc031"
   },
   "outputs": [
    {
     "data": {
      "text/plain": [
       "[('srl', 0.5576258897781372),\n",
       " ('teachinglearning', 0.5521644949913025),\n",
       " ('pbl', 0.5266392827033997),\n",
       " ('creativity', 0.5087181925773621),\n",
       " ('elearning', 0.4991961121559143),\n",
       " ('instruction', 0.4922972619533539),\n",
       " ('problemsolving', 0.48335739970207214),\n",
       " ('inquiry', 0.4687046706676483),\n",
       " ('learner', 0.4595080316066742),\n",
       " ('scaffolding', 0.4580767750740051)]"
      ]
     },
     "execution_count": 108,
     "metadata": {},
     "output_type": "execute_result"
    }
   ],
   "source": [
    "model.wv.most_similar('learning')"
   ]
  },
  {
   "cell_type": "code",
   "execution_count": 111,
   "metadata": {
    "comet_cell_id": "20702c749d4a9"
   },
   "outputs": [
    {
     "data": {
      "text/plain": [
       "[('instruction', 0.6701321005821228),\n",
       " ('pedagogy', 0.6305698156356812),\n",
       " ('instructional', 0.5995449423789978),\n",
       " ('pedagogical', 0.5675981640815735),\n",
       " ('studentcentered', 0.5628814697265625),\n",
       " ('classroom', 0.5384673476219177),\n",
       " ('curriculum', 0.537446916103363),\n",
       " ('teachinglearning', 0.5318211913108826),\n",
       " ('classrooms', 0.5195698142051697),\n",
       " ('education', 0.5082148313522339)]"
      ]
     },
     "execution_count": 111,
     "metadata": {},
     "output_type": "execute_result"
    }
   ],
   "source": [
    "model.wv.most_similar('teaching')"
   ]
  },
  {
   "cell_type": "code",
   "execution_count": 114,
   "metadata": {
    "comet_cell_id": "e6e30904a641e"
   },
   "outputs": [
    {
     "data": {
      "text/plain": [
       "[('oer', 0.6091980934143066),\n",
       " ('odl', 0.5540707111358643),\n",
       " ('internetbased', 0.5339124798774719),\n",
       " ('oss', 0.5007176399230957),\n",
       " ('ignou', 0.4721396267414093),\n",
       " ('australian', 0.4666614532470703),\n",
       " ('expanding', 0.46371832489967346),\n",
       " ('distance', 0.4586717188358307),\n",
       " ('opensource', 0.4582386910915375),\n",
       " ('library', 0.4573057293891907)]"
      ]
     },
     "execution_count": 114,
     "metadata": {},
     "output_type": "execute_result"
    }
   ],
   "source": [
    "#model.wv.most_similar(positive=['technology', 'computer'], negative=['computer'])\n",
    "model.wv.most_similar(positive=['open'])"
   ]
  },
  {
   "cell_type": "code",
   "execution_count": 79,
   "metadata": {
    "comet_cell_id": "fc40dabc1c649"
   },
   "outputs": [
    {
     "data": {
      "text/plain": [
       "0.56723246672242156"
      ]
     },
     "execution_count": 79,
     "metadata": {},
     "output_type": "execute_result"
    }
   ],
   "source": [
    "model.wv.similarity('engagement', 'self-regulation')"
   ]
  },
  {
   "cell_type": "code",
   "execution_count": 126,
   "metadata": {
    "comet_cell_id": "b367dcf136b5d"
   },
   "outputs": [
    {
     "data": {
      "text/plain": [
       "'teacher'"
      ]
     },
     "execution_count": 126,
     "metadata": {},
     "output_type": "execute_result"
    }
   ],
   "source": [
    "model.wv.doesnt_match(\"creativity self-regulation motivation teacher\".split(' '))"
   ]
  },
  {
   "cell_type": "code",
   "execution_count": 80,
   "metadata": {
    "comet_cell_id": "7c9ea81cebf9d"
   },
   "outputs": [
    {
     "ename": "RuntimeError",
     "evalue": "We have currently only implemented score for the hierarchical softmax scheme, so you need to have run word2vec with hs=1 and negative=0 for this to work.",
     "output_type": "error",
     "traceback": [
      "\u001b[1;31m---------------------------------------------------------------------------\u001b[0m",
      "\u001b[1;31mRuntimeError\u001b[0m                              Traceback (most recent call last)",
      "\u001b[1;32m<ipython-input-80-8e8487d5922d>\u001b[0m in \u001b[0;36m<module>\u001b[1;34m()\u001b[0m\n\u001b[1;32m----> 1\u001b[1;33m \u001b[0mmodel\u001b[0m\u001b[1;33m.\u001b[0m\u001b[0mscore\u001b[0m\u001b[1;33m(\u001b[0m\u001b[1;33m[\u001b[0m\u001b[1;34m\"The fox jumped over a lazy dog\"\u001b[0m\u001b[1;33m.\u001b[0m\u001b[0msplit\u001b[0m\u001b[1;33m(\u001b[0m\u001b[1;33m)\u001b[0m\u001b[1;33m]\u001b[0m\u001b[1;33m)\u001b[0m\u001b[1;33m\u001b[0m\u001b[0m\n\u001b[0m",
      "\u001b[1;32mC:\\Users\\bodil\\Anaconda3\\lib\\site-packages\\gensim\\models\\word2vec.py\u001b[0m in \u001b[0;36mscore\u001b[1;34m(self, sentences, total_sentences, chunksize, queue_factor, report_delay)\u001b[0m\n\u001b[0;32m    664\u001b[0m         \u001b[1;32mif\u001b[0m \u001b[1;32mnot\u001b[0m \u001b[0mself\u001b[0m\u001b[1;33m.\u001b[0m\u001b[0mhs\u001b[0m\u001b[1;33m:\u001b[0m\u001b[1;33m\u001b[0m\u001b[0m\n\u001b[0;32m    665\u001b[0m             raise RuntimeError(\n\u001b[1;32m--> 666\u001b[1;33m                 \u001b[1;34m\"We have currently only implemented score for the hierarchical softmax scheme, \"\u001b[0m\u001b[1;33m\u001b[0m\u001b[0m\n\u001b[0m\u001b[0;32m    667\u001b[0m                 \u001b[1;34m\"so you need to have run word2vec with hs=1 and negative=0 for this to work.\"\u001b[0m\u001b[1;33m\u001b[0m\u001b[0m\n\u001b[0;32m    668\u001b[0m             )\n",
      "\u001b[1;31mRuntimeError\u001b[0m: We have currently only implemented score for the hierarchical softmax scheme, so you need to have run word2vec with hs=1 and negative=0 for this to work."
     ]
    }
   ],
   "source": [
    "model.score([\"The fox jumped over a lazy dog\".split()])"
   ]
  }
 ],
 "metadata": {
  "comet_paths": [
   [
    "0a21c2a4\\word2vec.ipynb",
    1527169443022
   ]
  ],
  "comet_tracking": true,
  "kernelspec": {
   "display_name": "Python [default]",
   "language": "python",
   "name": "python3"
  },
  "language_info": {
   "codemirror_mode": {
    "name": "ipython",
    "version": 3
   },
   "file_extension": ".py",
   "mimetype": "text/x-python",
   "name": "python",
   "nbconvert_exporter": "python",
   "pygments_lexer": "ipython3",
   "version": "3.6.5"
  }
 },
 "nbformat": 4,
 "nbformat_minor": 2
}
