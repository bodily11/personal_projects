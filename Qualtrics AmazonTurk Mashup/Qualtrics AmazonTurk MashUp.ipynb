{
 "cells": [
  {
   "cell_type": "code",
   "execution_count": 2,
   "metadata": {},
   "outputs": [
    {
     "data": {
      "text/plain": [
       "0"
      ]
     },
     "execution_count": 2,
     "metadata": {},
     "output_type": "execute_result"
    }
   ],
   "source": [
    "#This will run the createQualificationType in the commandline and will create a qualification type in MTurk\n",
    "#You need to find these text files in your old computer\n",
    "#You should make these text files more easily editable through this python script as well (read in files, edit, output)\n",
    "import os\n",
    "import subprocess\n",
    "os.chdir('C:\\\\Users\\\\bodil\\\\aws-mturk-clt-1.3.3\\\\bin')\n",
    "args = [\"createQualificationType\",\"-properties\",'properties.txt','-answer','answer_key.txt','-question','test.txt','-noretry']\n",
    "args = subprocess.list2cmdline(args)\n",
    "os.system(args)"
   ]
  },
  {
   "cell_type": "code",
   "execution_count": 3,
   "metadata": {
    "collapsed": true
   },
   "outputs": [],
   "source": [
    "for resp in qualtrics_responses:\n",
    "    ###change this question based on the new qualtrics survey###\n",
    "    if qualtrics_responses[resp]['Q31'] == 1:\n",
    "        qualtrics_codes.append(qualtrics_responses[resp]['survey_code'])\n",
    "    else:\n",
    "        pass"
   ]
  },
  {
   "cell_type": "code",
   "execution_count": 4,
   "metadata": {
    "collapsed": true
   },
   "outputs": [],
   "source": [
    "#This code will get all submitted qualtrics survey codes\n",
    "#Then it will get all submitted MTurk codes\n",
    "#Then it compares them and approves the ones that match and rejects the ones that do not\n",
    "#It also makes a list of workers and changes their qualification number so that they cannot take the survey again in the future\n",
    "###########################################################\n",
    "#change this value to the actual qualification type id\n",
    "qualification_type_id = 'INSERT ID HERE'\n",
    "###########################################################\n",
    "\n",
    "import math\n",
    "import requests\n",
    "import boto.mturk.connection\n",
    "connection = boto.mturk.connection.MTurkConnection(aws_access_key_id='INSERT ID HERE', \n",
    "                                      aws_secret_access_key='INSERT KEY HERE', \n",
    "                                      is_secure=True, port=None, \n",
    "                                      proxy=None, proxy_port=None, \n",
    "                                      proxy_user=None, proxy_pass=None, \n",
    "                                      host='mechanicalturk.amazonaws.com', debug=0, \n",
    "                                      https_connection_factory=None, \n",
    "                                      security_token=None, profile_name=None)\n",
    "\n",
    "url = \"https://survey.qualtrics.com/WRAPI/ControlPanel/api.php?Request=getLegacyResponseData&Version=2.0&User=[INSERT USER]&Token=[INSERT TOKEN]\"\n",
    "qualtrics_codes = []\n",
    "qualtrics_responses = requests.get(url).json()\n",
    "for resp in qualtrics_responses:\n",
    "    ###change this question based on the new qualtrics survey###\n",
    "    if qualtrics_responses[resp]['Q31'] == 1:\n",
    "        qualtrics_codes.append(qualtrics_responses[resp]['survey_code'])\n",
    "    else:\n",
    "        pass\n",
    "\n",
    "url = \"https://survey.qualtrics.com/WRAPI/ControlPanel/api.php?Request=getLegacyResponseData&ResponsesInProgress=1&Version=2.0&User=[INSERT USER]&Token=[INSERT TOKEN]&Format=JSON&SurveyID={INSERT ID}\"\n",
    "qualtrics_responses = requests.get(url).json()\n",
    "for resp in qualtrics_responses:\n",
    "    ###change this question based on the new qualtrics survey###\n",
    "    if qualtrics_responses[resp]['Q31'] == 1:\n",
    "        qualtrics_codes.append(qualtrics_responses[resp]['survey_code'])\n",
    "    else:\n",
    "        pass\n",
    "\n",
    "workers = []\n",
    "approved = []\n",
    "rejected = []\n",
    "all_hits = [hit for hit in connection.get_all_hits()]\n",
    "codes_entered_to_mturk = []\n",
    "#testcode hitcode = '3CRWSLD91K4646XDRA2O9WPNTE4OM0'\n",
    "for hit in all_hits:\n",
    "    assignments = connection.get_assignments(hit.HITId,status='Rejected',page_size=100,page_number=1)\n",
    "    number_of_pages = int(math.ceil(float(assignments.TotalNumResults)/100))\n",
    "    for number in range(2,number_of_pages+1):\n",
    "        assignments += connection.get_assignments(hit.HITId,status='Submitted',page_size=100,page_number=number)\n",
    "    for assignment in assignments:\n",
    "        workers.append(assignment.WorkerId)\n",
    "        # don't ask me why this is a 2D list\n",
    "        question_form_answers = assignment.answers[0]\n",
    "        for question_form_answer in question_form_answers:\n",
    "            # \"user-input\" is the field I created and the only one I care about\n",
    "            if question_form_answer.qid == \"surveycode\":\n",
    "                user_response = question_form_answer.fields[0]\n",
    "                user_response = user_response.replace(' ','')\n",
    "                codes_entered_to_mturk.append(user_response)\n",
    "        if user_response in qualtrics_codes:\n",
    "            approved.append((assignment.AssignmentId,assignment.WorkerId,user_response))\n",
    "#             connection.approve_assignment(assignment.AssignmentId)\n",
    "        else:\n",
    "#             connection.reject_assignment(assignment.AssignmentId, feedback=\"I'm sorry, your code was not found in our qualtrics database of generated codes. Please contact the email address associated with the requesters MTurk account if you feel you have been rejected in error.\")\n",
    "            rejected.append((assignment.AssignmentId,assignment.WorkerId,user_response))\n",
    "# workers = list(set(workers))\n",
    "# for worker in workers:\n",
    "#     value = -1\n",
    "#     connection.update_qualification_score(qualification_type_id, worker, value)"
   ]
  },
  {
   "cell_type": "code",
   "execution_count": 3,
   "metadata": {
    "collapsed": true
   },
   "outputs": [],
   "source": [
    "user_response = user_response.replace(' ','')"
   ]
  },
  {
   "cell_type": "code",
   "execution_count": 3,
   "metadata": {
    "collapsed": true
   },
   "outputs": [],
   "source": [
    "#This script will approve a rejection due to technical difficulties (maybe we have their responses, just not on Q18...?)\n",
    "import math\n",
    "import requests\n",
    "import boto.mturk.connection\n",
    "\n",
    "feedback = '''\n",
    "I am sorry for the rejection. There are a number of reasons this may have occurred:\n",
    "\n",
    "1. The most common reason is if you forgot to hit submit in qualtrics after you completed the survey.\n",
    "2. Another reason is the code you entered was incorrect (space before or after the code or incorrect code)\n",
    "\n",
    "Thank you for contacting me. I have reversed the rejection. I hope you will continue to do work for me in the future.\n",
    "'''\n",
    "feedback = '''\n",
    "I am sorry for the rejection. You were rejected because when you put the Qualtrics code into MTURK, you accidentally did\n",
    "not click finish on the survey. This meant your response was still in progress, and so your HIT was automatically rejected. \n",
    "We are sorry that we accidentally rejected your work. We appreciate the time you spent working on this hit.\n",
    "\n",
    "Thank you for contacting me. I have reversed the rejection. I hope you will continue to do work for me in the future.\n",
    "\n",
    "'''\n",
    "feedback = '''\n",
    "I am sorry for the rejection. Your HIT was rejected because the code you entered had a space before the code, so it did \n",
    "not match with any codes in our database.\n",
    "\n",
    "Thank you for contacting me. The code was correct (other than the space).\n",
    "\n",
    "I have reversed the rejection. I hope you will continue to do work for me in the future.\n",
    "'''\n",
    "connection = boto.mturk.connection.MTurkConnection(aws_access_key_id='INSERT ID HERE', \n",
    "                                      aws_secret_access_key='INSERT KEY HERE', \n",
    "                                      is_secure=True, port=None, \n",
    "                                      proxy=None, proxy_port=None, \n",
    "                                      proxy_user=None, proxy_pass=None, \n",
    "                                      host='mechanicalturk.amazonaws.com', debug=0, \n",
    "                                      https_connection_factory=None, \n",
    "                                      security_token=None, profile_name=None)"
   ]
  },
  {
   "cell_type": "code",
   "execution_count": 4,
   "metadata": {
    "collapsed": true
   },
   "outputs": [],
   "source": [
    "assignment_ids_for_approval = ['INSERT ID HERE']"
   ]
  },
  {
   "cell_type": "code",
   "execution_count": 1,
   "metadata": {},
   "outputs": [],
   "source": [
    "#Go through and approve the rejected assignments\n",
    "for assignment_id in assignment_ids_for_approval:\n",
    "    try:\n",
    "        connection.approve_rejected_assignment(assignment_id, feedback=feedback)\n",
    "        print assignment_id\n",
    "    except:\n",
    "        print 'failure'\n",
    "    "
   ]
  },
  {
   "cell_type": "code",
   "execution_count": 2,
   "metadata": {
    "collapsed": true
   },
   "outputs": [],
   "source": [
    "import requests\n",
    "url = \"https://survey.qualtrics.com/WRAPI/ControlPanel/api.php?Request=getLegacyResponseData&Version=2.0&User=[INSERT USER]&Token=[INSERT TOKEN]&Format=JSON&SurveyID=[INSERT ID]\"\n",
    "qualtrics_codes = []\n",
    "qualtrics_responses = requests.get(url).json()"
   ]
  }
 ],
 "metadata": {
  "kernelspec": {
   "display_name": "Python [default]",
   "language": "python",
   "name": "python3"
  },
  "language_info": {
   "codemirror_mode": {
    "name": "ipython",
    "version": 3
   },
   "file_extension": ".py",
   "mimetype": "text/x-python",
   "name": "python",
   "nbconvert_exporter": "python",
   "pygments_lexer": "ipython3",
   "version": "3.6.5"
  }
 },
 "nbformat": 4,
 "nbformat_minor": 1
}
